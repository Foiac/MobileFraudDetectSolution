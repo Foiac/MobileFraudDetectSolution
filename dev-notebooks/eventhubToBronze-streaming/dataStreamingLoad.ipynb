{
 "cells": [
  {
   "cell_type": "markdown",
   "metadata": {
    "application/vnd.databricks.v1+cell": {
     "cellMetadata": {
      "byteLimit": 2048000,
      "rowLimit": 10000
     },
     "inputWidgets": {},
     "nuid": "299eee61-2e99-463e-b846-110b57f8c549",
     "showTitle": false,
     "title": ""
    }
   },
   "source": [
    "# Load Data Streaming"
   ]
  },
  {
   "cell_type": "markdown",
   "metadata": {
    "application/vnd.databricks.v1+cell": {
     "cellMetadata": {
      "byteLimit": 2048000,
      "rowLimit": 10000
     },
     "inputWidgets": {},
     "nuid": "f7252a6b-c052-40f8-b511-65d73b78ab3d",
     "showTitle": false,
     "title": ""
    }
   },
   "source": [
    "Notebook de desenvolvimento responável por realizar processo stream de ingestão de dados, o spark streaming busca os dados de um eventhub e escreve em formato delta table no \n",
    "Azure Data Lake Storage"
   ]
  },
  {
   "cell_type": "markdown",
   "metadata": {
    "application/vnd.databricks.v1+cell": {
     "cellMetadata": {
      "byteLimit": 2048000,
      "rowLimit": 10000
     },
     "inputWidgets": {},
     "nuid": "2fbbba82-9728-4b42-aa8d-cc086ee41baa",
     "showTitle": false,
     "title": ""
    }
   },
   "source": [
    "\n",
    "<div style=\"text-align: center; line-height: 0; padding-top: 9px;\">\n",
    "  <img src=\"https://raw.githubusercontent.com/Foiac/MobileFraudDetectSolution/main/Editaveis/eventhubstreamingingestion.png\" alt=\"SparkStreaming Ingest\" style=\"width: 800px\">\n",
    "</div>"
   ]
  },
  {
   "cell_type": "markdown",
   "metadata": {
    "application/vnd.databricks.v1+cell": {
     "cellMetadata": {
      "byteLimit": 2048000,
      "rowLimit": 10000
     },
     "inputWidgets": {},
     "nuid": "136ca833-9add-4929-9814-bd1d32d8656c",
     "showTitle": false,
     "title": ""
    }
   },
   "source": [
    "#### Import dependecies"
   ]
  },
  {
   "cell_type": "code",
   "execution_count": null,
   "metadata": {
    "application/vnd.databricks.v1+cell": {
     "cellMetadata": {
      "byteLimit": 2048000,
      "rowLimit": 10000
     },
     "inputWidgets": {},
     "nuid": "2811e1c0-723b-4e4b-90ea-663b404a6ccf",
     "showTitle": false,
     "title": ""
    }
   },
   "outputs": [],
   "source": [
    "from pyspark.sql.functions import col, cast, explode, from_json, sha2\n",
    "from pyspark.sql.types import *\n",
    "import os"
   ]
  },
  {
   "cell_type": "markdown",
   "metadata": {
    "application/vnd.databricks.v1+cell": {
     "cellMetadata": {
      "byteLimit": 2048000,
      "rowLimit": 10000
     },
     "inputWidgets": {},
     "nuid": "3ac02568-5dc8-4125-8419-eac6cdf70caf",
     "showTitle": false,
     "title": ""
    }
   },
   "source": [
    "#### Path Definitions"
   ]
  },
  {
   "cell_type": "code",
   "execution_count": null,
   "metadata": {
    "application/vnd.databricks.v1+cell": {
     "cellMetadata": {
      "byteLimit": 2048000,
      "rowLimit": 10000
     },
     "inputWidgets": {},
     "nuid": "e93ecd55-8b6b-4b27-b9f8-87c06b486637",
     "showTitle": false,
     "title": ""
    }
   },
   "outputs": [],
   "source": [
    "storage_account_name  = os.getenv(\"ENV_STORAGE\")\n",
    "\n",
    "database_name = \"bronze_mobile\"\n",
    "table_name = \"access\"\n",
    "\n",
    "container_name = \"cont-fraud\"\n",
    "delta_table_path = f\"abfss://{container_name}@{storage_account_name}.dfs.core.windows.net/bronze/{database_name}/{table_name}\"\n",
    "\n",
    "connection_string = os.getenv(\"ENV_EH_CONNECTION_STRING\") #;EntityPath=fraud-detect\n",
    "storage_account_key = os.getenv(\"ENV_ADLS_KEY\")"
   ]
  },
  {
   "cell_type": "code",
   "execution_count": null,
   "metadata": {
    "application/vnd.databricks.v1+cell": {
     "cellMetadata": {
      "byteLimit": 2048000,
      "rowLimit": 10000
     },
     "inputWidgets": {},
     "nuid": "111fc78c-70a0-4f25-846a-35cf33b6edbe",
     "showTitle": false,
     "title": ""
    }
   },
   "outputs": [
    {
     "data": {
      "text/plain": [
       "'abfss://contfraud@stacfraud.dfs.core.windows.net/Bronze/mobile/access'"
      ]
     },
     "execution_count": 150,
     "metadata": {},
     "output_type": "execute_result"
    }
   ],
   "source": [
    "delta_table_path"
   ]
  },
  {
   "cell_type": "markdown",
   "metadata": {
    "application/vnd.databricks.v1+cell": {
     "cellMetadata": {
      "byteLimit": 2048000,
      "rowLimit": 10000
     },
     "inputWidgets": {},
     "nuid": "1b3a32ad-f7fd-4239-ac58-59532cbe1ee3",
     "showTitle": false,
     "title": ""
    }
   },
   "source": [
    "#### Connection String Configuration"
   ]
  },
  {
   "cell_type": "code",
   "execution_count": null,
   "metadata": {
    "application/vnd.databricks.v1+cell": {
     "cellMetadata": {
      "byteLimit": 2048000,
      "rowLimit": 10000
     },
     "inputWidgets": {},
     "nuid": "2a29e339-c8d7-47fb-8e84-503a43d4430a",
     "showTitle": false,
     "title": ""
    }
   },
   "outputs": [],
   "source": [
    "# Configurar a conexão com o Event Hub\n",
    "eh_conf = {\n",
    "    'eventhubs.connectionString': sc._jvm.org.apache.spark.eventhubs.EventHubsUtils.encrypt(connection_string)\n",
    "}"
   ]
  },
  {
   "cell_type": "markdown",
   "metadata": {
    "application/vnd.databricks.v1+cell": {
     "cellMetadata": {
      "byteLimit": 2048000,
      "rowLimit": 10000
     },
     "inputWidgets": {},
     "nuid": "8923e798-14d8-4a14-8f3e-6b69494e638c",
     "showTitle": false,
     "title": ""
    }
   },
   "source": [
    "#### ADLS Configuration"
   ]
  },
  {
   "cell_type": "code",
   "execution_count": null,
   "metadata": {
    "application/vnd.databricks.v1+cell": {
     "cellMetadata": {
      "byteLimit": 2048000,
      "rowLimit": 10000
     },
     "inputWidgets": {},
     "nuid": "c67d8c44-2370-4b1c-b242-746d5984b8bb",
     "showTitle": false,
     "title": ""
    }
   },
   "outputs": [],
   "source": [
    "spark.conf.set(f\"fs.azure.account.key.{storage_account_name}.dfs.core.windows.net\", storage_account_key)"
   ]
  },
  {
   "cell_type": "markdown",
   "metadata": {
    "application/vnd.databricks.v1+cell": {
     "cellMetadata": {
      "byteLimit": 2048000,
      "rowLimit": 10000
     },
     "inputWidgets": {},
     "nuid": "1f4fd2f9-ce9a-4019-88eb-50964e88df64",
     "showTitle": false,
     "title": ""
    }
   },
   "source": [
    "#### Database Create"
   ]
  },
  {
   "cell_type": "code",
   "execution_count": null,
   "metadata": {
    "application/vnd.databricks.v1+cell": {
     "cellMetadata": {
      "byteLimit": 2048000,
      "rowLimit": 10000
     },
     "inputWidgets": {},
     "nuid": "922f6845-2efd-42ea-8bd6-59b970ad3c6e",
     "showTitle": false,
     "title": ""
    }
   },
   "outputs": [
    {
     "data": {
      "text/plain": [
       "DataFrame[]"
      ]
     },
     "execution_count": 153,
     "metadata": {},
     "output_type": "execute_result"
    }
   ],
   "source": [
    "spark.sql(f\"CREATE DATABASE IF NOT EXISTS {database_name}\")"
   ]
  },
  {
   "cell_type": "markdown",
   "metadata": {
    "application/vnd.databricks.v1+cell": {
     "cellMetadata": {
      "byteLimit": 2048000,
      "rowLimit": 10000
     },
     "inputWidgets": {},
     "nuid": "da365ce4-c08e-4557-bb5a-f1ce97c1ff83",
     "showTitle": false,
     "title": ""
    }
   },
   "source": [
    "#### Read Data Stream"
   ]
  },
  {
   "cell_type": "code",
   "execution_count": null,
   "metadata": {
    "application/vnd.databricks.v1+cell": {
     "cellMetadata": {
      "byteLimit": 2048000,
      "rowLimit": 10000
     },
     "inputWidgets": {},
     "nuid": "1a1d016c-97a2-444d-b6a2-8cec43e0d9e9",
     "showTitle": false,
     "title": ""
    }
   },
   "outputs": [],
   "source": [
    "# Leia ou escreva dados no Event Hub usando a connection string configurada\n",
    "df = (spark.readStream\n",
    "    .format(\"eventhubs\")\n",
    "    .options(**eh_conf)\n",
    "    .load())"
   ]
  },
  {
   "cell_type": "markdown",
   "metadata": {
    "application/vnd.databricks.v1+cell": {
     "cellMetadata": {
      "byteLimit": 2048000,
      "rowLimit": 10000
     },
     "inputWidgets": {},
     "nuid": "4a7ee0b9-fea9-4f1b-95fc-7327c645a17a",
     "showTitle": false,
     "title": ""
    }
   },
   "source": [
    "#### Edit dictionary"
   ]
  },
  {
   "cell_type": "code",
   "execution_count": null,
   "metadata": {
    "application/vnd.databricks.v1+cell": {
     "cellMetadata": {
      "byteLimit": 2048000,
      "rowLimit": 10000
     },
     "inputWidgets": {},
     "nuid": "4f6ba96c-025f-482e-8b44-4e84032e6736",
     "showTitle": false,
     "title": ""
    }
   },
   "outputs": [],
   "source": [
    "# Definir o esquema para o JSON\n",
    "schema = StructType([\n",
    "    StructField(\"imei\", StringType(), True),\n",
    "    StructField(\"mac\", StringType(), True),\n",
    "    StructField(\"rede\", StringType(), True),\n",
    "    StructField(\"client_ip\", StringType(), True),\n",
    "    StructField(\"latitude\", StringType(), True),\n",
    "    StructField(\"logintude\", StringType(), True),\n",
    "    StructField(\"cpf\", StringType(), True),\n",
    "    StructField(\"senha\", StringType(), True),\n",
    "    StructField(\"transaction\", StringType(), True),\n",
    "    StructField(\"api\", StringType(), True),\n",
    "    StructField(\"endpoint\", StringType(), True),\n",
    "    StructField(\"os\", StringType(), True),\n",
    "    StructField(\"os_version\", StringType(), True),\n",
    "    StructField(\"app_version\", StringType(), True),\n",
    "    StructField(\"erro\", StringType(), True),\n",
    "    StructField(\"timestamp\", StringType(), True)\n",
    "])\n",
    "\n",
    "# # Processar os dados como necessário\n",
    "df = df.withColumn(\"body\", df[\"body\"].cast(\"string\"))\n",
    "\n",
    "df = df.withColumn(\"json_list\", from_json(col(\"body\"), ArrayType(schema)))\n",
    "\n",
    "# Explodir a lista de objetos JSON\n",
    "df = df.select(explode(col(\"json_list\")).alias(\"json_data\"))\n",
    "\n",
    "# Selecionar e exibir campos individuais\n",
    "df_body = (df.select(\n",
    "    col(\"json_data.imei\"),\n",
    "    col(\"json_data.mac\"),\n",
    "    col(\"json_data.rede\"),\n",
    "    col(\"json_data.client_ip\"),\n",
    "    col(\"json_data.latitude\"),\n",
    "    col(\"json_data.logintude\"),\n",
    "    col(\"json_data.cpf\"),\n",
    "    col(\"json_data.senha\"),\n",
    "    col(\"json_data.transaction\"),\n",
    "    col(\"json_data.api\"),\n",
    "    col(\"json_data.endpoint\"),\n",
    "    col(\"json_data.os\"),\n",
    "    col(\"json_data.os_version\"),\n",
    "    col(\"json_data.app_version\"),\n",
    "    col(\"json_data.erro\"),\n",
    "    col(\"json_data.timestamp\"))\n",
    "      .withColumn(\"imei\", sha2(col(\"imei\"), 256))\n",
    "      .withColumn(\"mac\", sha2(col(\"mac\"), 256))\n",
    "      .withColumn(\"cpf\", sha2(col(\"cpf\"), 256))\n",
    "      .withColumn(\"senha\", sha2(col(\"senha\"), 256))\n",
    "      )\n"
   ]
  },
  {
   "cell_type": "markdown",
   "metadata": {
    "application/vnd.databricks.v1+cell": {
     "cellMetadata": {
      "byteLimit": 2048000,
      "rowLimit": 10000
     },
     "inputWidgets": {},
     "nuid": "42c0ca09-ba70-460f-bdc9-e68dc3c61a63",
     "showTitle": false,
     "title": ""
    }
   },
   "source": [
    "#### Write data on delta table"
   ]
  },
  {
   "cell_type": "code",
   "execution_count": null,
   "metadata": {
    "application/vnd.databricks.v1+cell": {
     "cellMetadata": {
      "byteLimit": 2048000,
      "rowLimit": 10000
     },
     "inputWidgets": {},
     "nuid": "baa35afd-c9aa-4cfd-8cb8-a6fff2d1bc88",
     "showTitle": false,
     "title": ""
    }
   },
   "outputs": [
    {
     "data": {
      "text/html": [
       "<style scoped>\n",
       "  .ansiout {\n",
       "    display: block;\n",
       "    unicode-bidi: embed;\n",
       "    white-space: pre-wrap;\n",
       "    word-wrap: break-word;\n",
       "    word-break: break-all;\n",
       "    font-family: \"Menlo\", \"Monaco\", \"Consolas\", \"Ubuntu Mono\", \"Source Code Pro\", monospace;\n",
       "    font-size: 13px;\n",
       "    color: #555;\n",
       "    margin-left: 4px;\n",
       "    line-height: 19px;\n",
       "  }\n",
       "</style>"
      ]
     },
     "metadata": {
      "application/vnd.databricks.v1+output": {
       "arguments": {},
       "data": "",
       "errorSummary": "Cancelled",
       "errorTraceType": "html",
       "metadata": {},
       "type": "ipynbError"
      }
     },
     "output_type": "display_data"
    }
   ],
   "source": [
    "# # Escrever os dados em uma tabela Delta\n",
    "query = (df_body.writeStream\n",
    "    .format(\"delta\")\n",
    "    .outputMode(\"append\")\n",
    "    .trigger(processingTime=\"30 second\")\n",
    "    .option(\"checkpointLocation\", f\"{delta_table_path}/_checkpoints/\")\n",
    "    .start(delta_table_path)\n",
    "    )\n",
    "\n",
    "# # Esperar até que o processo de streaming seja interrompido\n",
    "query.awaitTermination()"
   ]
  },
  {
   "cell_type": "markdown",
   "metadata": {
    "application/vnd.databricks.v1+cell": {
     "cellMetadata": {
      "byteLimit": 2048000,
      "rowLimit": 10000
     },
     "inputWidgets": {},
     "nuid": "a3c8b540-3f05-4a80-b160-06badd6090b3",
     "showTitle": false,
     "title": ""
    }
   },
   "source": [
    "#### Stop Streaming"
   ]
  },
  {
   "cell_type": "code",
   "execution_count": null,
   "metadata": {
    "application/vnd.databricks.v1+cell": {
     "cellMetadata": {
      "byteLimit": 2048000,
      "rowLimit": 10000
     },
     "inputWidgets": {},
     "nuid": "69ed097f-2797-4f91-b9a0-2a5d25b64d5b",
     "showTitle": false,
     "title": ""
    }
   },
   "outputs": [
    {
     "data": {
      "text/html": [
       "<style scoped>\n",
       "  .ansiout {\n",
       "    display: block;\n",
       "    unicode-bidi: embed;\n",
       "    white-space: pre-wrap;\n",
       "    word-wrap: break-word;\n",
       "    word-break: break-all;\n",
       "    font-family: \"Menlo\", \"Monaco\", \"Consolas\", \"Ubuntu Mono\", \"Source Code Pro\", monospace;\n",
       "    font-size: 13px;\n",
       "    color: #555;\n",
       "    margin-left: 4px;\n",
       "    line-height: 19px;\n",
       "  }\n",
       "</style>"
      ]
     },
     "metadata": {
      "application/vnd.databricks.v1+output": {
       "arguments": {},
       "data": "",
       "errorSummary": "Command skipped",
       "errorTraceType": "html",
       "metadata": {},
       "type": "ipynbError"
      }
     },
     "output_type": "display_data"
    }
   ],
   "source": [
    "# import time\n",
    "# # Run for 10 more seconds\n",
    "# time.sleep(1) \n",
    "\n",
    "# query.stop()"
   ]
  }
 ],
 "metadata": {
  "application/vnd.databricks.v1+notebook": {
   "dashboards": [],
   "environmentMetadata": null,
   "language": "python",
   "notebookMetadata": {
    "mostRecentlyExecutedCommandWithImplicitDF": {
     "commandId": 1655890062554122,
     "dataframes": [
      "_sqldf"
     ]
    },
    "pythonIndentUnit": 4
   },
   "notebookName": "dataStreamingLoad",
   "widgets": {}
  },
  "language_info": {
   "name": "python"
  }
 },
 "nbformat": 4,
 "nbformat_minor": 0
}
