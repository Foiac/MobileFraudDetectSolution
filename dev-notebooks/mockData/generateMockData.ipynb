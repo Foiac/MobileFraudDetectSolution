{
 "cells": [
  {
   "cell_type": "code",
   "execution_count": 16,
   "metadata": {},
   "outputs": [],
   "source": [
    "import random\n",
    "import json\n",
    "from faker import Faker\n",
    "from datetime import datetime\n",
    "\n",
    "# Inicializa o gerador de dados fictícios\n",
    "fake = Faker()\n",
    "\n",
    "# Definindo intervalo de tempo\n",
    "start_date = datetime(2024, 8, 1, 0,)\n",
    "end_date = datetime(2024, 8, 1, 23)\n",
    "\n",
    "def generate_random_data():\n",
    "    \"\"\"Gera um dicionário com dados aleatórios no formato JSON especificado.\"\"\"\n",
    "    return {\n",
    "        \"imei\": str(fake.random_number(digits=15, fix_len=True)),\n",
    "        \"mac\": ':'.join([f\"{random.randint(0, 255):02X}\" for _ in range(6)]),\n",
    "        \"rede\": random.choice([\"VIVO\", \"TIM\", \"CLARO\", \"OI\"]),\n",
    "        \"client_ip\": fake.ipv4(),\n",
    "        \"latitude\": str(fake.latitude()),\n",
    "        \"logintude\": str(fake.longitude()),  # Corrigido para \"longitude\"\n",
    "        \"cpf\": str(fake.random_number(digits=11, fix_len=True)),\n",
    "        \"senha\": fake.password(length=6, special_chars=False, digits=True, upper_case=True, lower_case=True),\n",
    "        \"transaction\": random.choice([\"true\", \"false\"]),\n",
    "        \"api\": \"login-authentication\",\n",
    "        \"endpoint\": \"v1/login\",\n",
    "        \"os\": random.choice([\"ANDROID\", \"iOS\"]),\n",
    "        \"os_version\": str(random.randint(1, 30)),\n",
    "        \"app_version\": random.choice([\"2.0.1\", \"2.0.2\", \"2.0.3\"]),\n",
    "        \"erro\": random.choice([\"0\", \"INCORRECT_PASS\", \"USER_NOT_FOUND\"]),\n",
    "        \"timestamp\": str(fake.unix_time(start_datetime=start_date, end_datetime=end_date)*1000)\n",
    "    }\n",
    "\n",
    "# Gera um array com 100 dados\n",
    "data_array = [generate_random_data() for _ in range(100)]\n",
    "\n",
    "# Salva o array em um arquivo JSON\n",
    "with open('data.json', 'w') as f:\n",
    "    json.dump(data_array, f, indent=4)"
   ]
  },
  {
   "cell_type": "code",
   "execution_count": null,
   "metadata": {},
   "outputs": [],
   "source": []
  }
 ],
 "metadata": {
  "kernelspec": {
   "display_name": "env",
   "language": "python",
   "name": "python3"
  },
  "language_info": {
   "codemirror_mode": {
    "name": "ipython",
    "version": 3
   },
   "file_extension": ".py",
   "mimetype": "text/x-python",
   "name": "python",
   "nbconvert_exporter": "python",
   "pygments_lexer": "ipython3",
   "version": "3.10.6"
  }
 },
 "nbformat": 4,
 "nbformat_minor": 2
}
