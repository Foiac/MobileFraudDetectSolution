{
 "cells": [
  {
   "cell_type": "markdown",
   "metadata": {
    "application/vnd.databricks.v1+cell": {
     "cellMetadata": {
      "byteLimit": 2048000,
      "rowLimit": 10000
     },
     "inputWidgets": {},
     "nuid": "5db07caa-0a87-4523-a2d6-d2290a2c3cda",
     "showTitle": false,
     "tableResultSettingsMap": {},
     "title": ""
    }
   },
   "source": [
    "# Data Job Clean"
   ]
  },
  {
   "cell_type": "markdown",
   "metadata": {
    "application/vnd.databricks.v1+cell": {
     "cellMetadata": {
      "byteLimit": 2048000,
      "rowLimit": 10000
     },
     "inputWidgets": {},
     "nuid": "a627ccb1-ef9e-4390-9ad1-2aa0d6f88847",
     "showTitle": false,
     "tableResultSettingsMap": {},
     "title": ""
    }
   },
   "source": [
    "Notebook de desenvolvimento responável por limpar os dados da camda bruta e criar uma tabela silver preparada para agregações "
   ]
  },
  {
   "cell_type": "markdown",
   "metadata": {
    "application/vnd.databricks.v1+cell": {
     "cellMetadata": {
      "byteLimit": 2048000,
      "rowLimit": 10000
     },
     "inputWidgets": {},
     "nuid": "35fe0a03-0ed1-4be2-9331-b02d0ea80233",
     "showTitle": false,
     "tableResultSettingsMap": {},
     "title": ""
    }
   },
   "source": [
    "\n",
    "<div style=\"text-align: center; line-height: 0; padding-top: 9px;\">\n",
    "  <img src=\"https://raw.githubusercontent.com/Foiac/MobileFraudDetectSolution/main/Editaveis/Imagens/silverjobtransformer.png\" alt=\"Clean Data\" style=\"width: 800px\">\n",
    "</div>"
   ]
  },
  {
   "cell_type": "markdown",
   "metadata": {
    "application/vnd.databricks.v1+cell": {
     "cellMetadata": {
      "byteLimit": 2048000,
      "rowLimit": 10000
     },
     "inputWidgets": {},
     "nuid": "5efb0348-640a-426d-8408-79f767979248",
     "showTitle": false,
     "tableResultSettingsMap": {},
     "title": ""
    }
   },
   "source": [
    "#### Import dependecies"
   ]
  },
  {
   "cell_type": "code",
   "execution_count": 0,
   "metadata": {
    "application/vnd.databricks.v1+cell": {
     "cellMetadata": {
      "byteLimit": 2048000,
      "rowLimit": 10000
     },
     "inputWidgets": {},
     "nuid": "2ebac3ea-863b-41a6-9014-ad11a4831087",
     "showTitle": false,
     "tableResultSettingsMap": {},
     "title": ""
    }
   },
   "outputs": [],
   "source": [
    "from pyspark.sql import functions as F\n",
    "from pyspark.sql.types import *"
   ]
  },
  {
   "cell_type": "markdown",
   "metadata": {
    "application/vnd.databricks.v1+cell": {
     "cellMetadata": {
      "byteLimit": 2048000,
      "rowLimit": 10000
     },
     "inputWidgets": {},
     "nuid": "9e78b65a-3aef-45f8-9469-48b77fb4b6f1",
     "showTitle": false,
     "tableResultSettingsMap": {},
     "title": ""
    }
   },
   "source": [
    "#### Path Definitions"
   ]
  },
  {
   "cell_type": "code",
   "execution_count": 0,
   "metadata": {
    "application/vnd.databricks.v1+cell": {
     "cellMetadata": {
      "byteLimit": 2048000,
      "rowLimit": 10000
     },
     "inputWidgets": {},
     "nuid": "e7949f40-941e-4190-80e6-7f2189e220a7",
     "showTitle": false,
     "tableResultSettingsMap": {},
     "title": ""
    }
   },
   "outputs": [],
   "source": [
    "storage_account_name  = \"stacmfraud\"\n",
    "container_name = \"cont-fraud\"\n",
    "\n",
    "database_name_input = \"bronze_mobile\"\n",
    "table_name_input = \"access\"\n",
    "\n",
    "database_name_output = \"silver_mobile\"\n",
    "table_name_output = \"tab_mobil_access\"\n",
    "container_path = f\"abfss://{container_name}@{storage_account_name}.dfs.core.windows.net/silver/{database_name_output}\"\n",
    "delta_table_path_output = f\"abfss://{container_name}@{storage_account_name}.dfs.core.windows.net/silver/{database_name_output}/{table_name_output}\""
   ]
  },
  {
   "cell_type": "markdown",
   "metadata": {
    "application/vnd.databricks.v1+cell": {
     "cellMetadata": {
      "byteLimit": 2048000,
      "rowLimit": 10000
     },
     "inputWidgets": {},
     "nuid": "30d0436b-924a-422e-a95a-6103da22d589",
     "showTitle": false,
     "tableResultSettingsMap": {},
     "title": ""
    }
   },
   "source": [
    "#### Database Create"
   ]
  },
  {
   "cell_type": "code",
   "execution_count": 0,
   "metadata": {
    "application/vnd.databricks.v1+cell": {
     "cellMetadata": {
      "byteLimit": 2048000,
      "rowLimit": 10000
     },
     "inputWidgets": {},
     "nuid": "89e07b86-dab4-43a3-a362-2a5ecc0947ab",
     "showTitle": false,
     "tableResultSettingsMap": {},
     "title": ""
    }
   },
   "outputs": [
    {
     "data": {
      "text/plain": [
       "DataFrame[]"
      ]
     },
     "execution_count": 17,
     "metadata": {},
     "output_type": "execute_result"
    }
   ],
   "source": [
    "spark.sql(f\"\"\"CREATE DATABASE IF NOT EXISTS {database_name_output} LOCATION '{container_path}'\"\"\")\n",
    "\n",
    "spark.sql(f\"\"\"CREATE TABLE IF NOT EXISTS {database_name_output}.{table_name_output} (\n",
    "    IMEI STRING,\n",
    "    MAC STRING,\n",
    "    NETWORK STRING,\n",
    "    IP STRING,\n",
    "    LATITUDE STRING,\n",
    "    LONGITUDE STRING,\n",
    "    UID STRING,\n",
    "    PASSWORD STRING,\n",
    "    `TRANSACTION` BOOLEAN,\n",
    "    `FEATURE` STRING,\n",
    "    `FEATURE_FLOW` STRING,\n",
    "    OPERAT_SYSTEM STRING,\n",
    "    PHONE_BRAND STRING,\n",
    "    APP_VERSION STRING,\n",
    "    ERROR_INF STRING,\n",
    "    DT_EVENT TIMESTAMP,\n",
    "    DAT_REF STRING\n",
    "    ) \n",
    "USING DELTA\n",
    "PARTITIONED BY (DAT_REF)\n",
    "LOCATION '{delta_table_path_output}'\"\"\")"
   ]
  },
  {
   "cell_type": "markdown",
   "metadata": {
    "application/vnd.databricks.v1+cell": {
     "cellMetadata": {
      "byteLimit": 2048000,
      "rowLimit": 10000
     },
     "inputWidgets": {},
     "nuid": "0da276b9-bf7e-4b72-a604-dbce321dcb9e",
     "showTitle": false,
     "tableResultSettingsMap": {},
     "title": ""
    }
   },
   "source": [
    "#### Read Databricks Catalog Table"
   ]
  },
  {
   "cell_type": "code",
   "execution_count": 0,
   "metadata": {
    "application/vnd.databricks.v1+cell": {
     "cellMetadata": {
      "byteLimit": 2048000,
      "rowLimit": 10000
     },
     "inputWidgets": {},
     "nuid": "c4053c90-e523-46fc-949e-b9dcee985639",
     "showTitle": false,
     "tableResultSettingsMap": {},
     "title": ""
    }
   },
   "outputs": [],
   "source": [
    "df = spark.table(f\"{database_name_input}.{table_name_input}\").filter(F.col(\"dat_ref\") == '2024-08-01')\n",
    "display(df)"
   ]
  },
  {
   "cell_type": "markdown",
   "metadata": {
    "application/vnd.databricks.v1+cell": {
     "cellMetadata": {
      "byteLimit": 2048000,
      "rowLimit": 10000
     },
     "inputWidgets": {},
     "nuid": "07ec80e4-b541-4ea1-9839-d2647418b557",
     "showTitle": false,
     "tableResultSettingsMap": {},
     "title": ""
    }
   },
   "source": [
    "#### Remove duplicate **rows**"
   ]
  },
  {
   "cell_type": "code",
   "execution_count": 0,
   "metadata": {
    "application/vnd.databricks.v1+cell": {
     "cellMetadata": {
      "byteLimit": 2048000,
      "rowLimit": 10000
     },
     "inputWidgets": {},
     "nuid": "72181a18-b2bc-44be-bd19-a5fb6d0aefb4",
     "showTitle": false,
     "tableResultSettingsMap": {},
     "title": ""
    }
   },
   "outputs": [],
   "source": [
    "df_cleaned = df.dropDuplicates()"
   ]
  },
  {
   "cell_type": "markdown",
   "metadata": {
    "application/vnd.databricks.v1+cell": {
     "cellMetadata": {
      "byteLimit": 2048000,
      "rowLimit": 10000
     },
     "inputWidgets": {},
     "nuid": "51c09925-17d1-4a1b-ac43-50f2a5081beb",
     "showTitle": false,
     "tableResultSettingsMap": {},
     "title": ""
    }
   },
   "source": [
    "#### Remove null or empty columns"
   ]
  },
  {
   "cell_type": "code",
   "execution_count": 0,
   "metadata": {
    "application/vnd.databricks.v1+cell": {
     "cellMetadata": {
      "byteLimit": 2048000,
      "rowLimit": 10000
     },
     "inputWidgets": {},
     "nuid": "4266e771-eadb-4d62-9c0f-f959052d7799",
     "showTitle": false,
     "tableResultSettingsMap": {},
     "title": ""
    }
   },
   "outputs": [],
   "source": [
    "df_filtered = df_cleaned.filter(F.col(\"timestamp\").isNotNull() & (F.col(\"timestamp\") != ''))"
   ]
  },
  {
   "cell_type": "markdown",
   "metadata": {
    "application/vnd.databricks.v1+cell": {
     "cellMetadata": {
      "byteLimit": 2048000,
      "rowLimit": 10000
     },
     "inputWidgets": {},
     "nuid": "980d1ed7-3f40-4d38-82f2-0958d57a98b1",
     "showTitle": false,
     "tableResultSettingsMap": {},
     "title": ""
    }
   },
   "source": [
    "#### Types conversion"
   ]
  },
  {
   "cell_type": "code",
   "execution_count": 0,
   "metadata": {
    "application/vnd.databricks.v1+cell": {
     "cellMetadata": {
      "byteLimit": 2048000,
      "rowLimit": 10000
     },
     "inputWidgets": {},
     "nuid": "412f4063-71ea-4cbb-befb-837f8a2500ef",
     "showTitle": false,
     "tableResultSettingsMap": {},
     "title": ""
    }
   },
   "outputs": [],
   "source": [
    "df_converted = (df_filtered\n",
    "      .withColumn(\"transaction\", F.when(F.col(\"transaction\") == \"true\", True).when(F.col(\"transaction\") == \"false\", False).otherwise(None)\n",
    "      )\n",
    "    )"
   ]
  },
  {
   "cell_type": "markdown",
   "metadata": {
    "application/vnd.databricks.v1+cell": {
     "cellMetadata": {
      "byteLimit": 2048000,
      "rowLimit": 10000
     },
     "inputWidgets": {},
     "nuid": "e115de87-1fc7-4343-b375-59fa0030fe45",
     "showTitle": false,
     "tableResultSettingsMap": {},
     "title": ""
    }
   },
   "source": [
    "#### Mapping and conversion of technical information"
   ]
  },
  {
   "cell_type": "code",
   "execution_count": 0,
   "metadata": {
    "application/vnd.databricks.v1+cell": {
     "cellMetadata": {
      "byteLimit": 2048000,
      "rowLimit": 10000
     },
     "inputWidgets": {},
     "nuid": "6c3f2dbf-5daa-4879-a307-eb974a1ca371",
     "showTitle": false,
     "tableResultSettingsMap": {},
     "title": ""
    }
   },
   "outputs": [],
   "source": [
    "error_data = [(\"0\", \"Oper. com Sucesso\"), \n",
    "              (\"INCORRECT_PASS\", \"Senha incorreta\"), \n",
    "              (\"USER_NOT_FOUND\", \"Usuário não encontrado\")]\n",
    "\n",
    "columns = [\"tec_error\", \"func_error\"]\n",
    "\n",
    "df_error = spark.createDataFrame(error_data, schema=columns)\n",
    "\n",
    "df_mapping = df_converted.join(df_error, df_converted.error==df_error.tec_error, how=\"left\")\n",
    "df_mapping = df_mapping.drop(\"error\").drop(\"tec_error\")\n",
    "\n",
    "df_mapping = df_mapping.withColumn('api', F.when(F.col(\"api\") == \"login-authentication\", F.lit(\"Login\")).otherwise(F.col(\"api\")))\n",
    "df_mapping = df_mapping.withColumn('endpoint', F.when(F.col(\"endpoint\") == \"v1/login\", F.lit(\"Login com senha\")).otherwise(F.col(\"endpoint\")))\n",
    "\n",
    "display(df_mapping)"
   ]
  },
  {
   "cell_type": "markdown",
   "metadata": {
    "application/vnd.databricks.v1+cell": {
     "cellMetadata": {
      "byteLimit": 2048000,
      "rowLimit": 10000
     },
     "inputWidgets": {},
     "nuid": "b4242ad9-6cce-4987-9dd5-6b7208bd2056",
     "showTitle": false,
     "tableResultSettingsMap": {},
     "title": ""
    }
   },
   "source": [
    "#### Rename columns"
   ]
  },
  {
   "cell_type": "code",
   "execution_count": 0,
   "metadata": {
    "application/vnd.databricks.v1+cell": {
     "cellMetadata": {
      "byteLimit": 2048000,
      "rowLimit": 10000
     },
     "inputWidgets": {},
     "nuid": "fbf018a6-1b91-4753-b1af-b9ed08794846",
     "showTitle": false,
     "tableResultSettingsMap": {},
     "title": ""
    }
   },
   "outputs": [],
   "source": [
    "df_silver = (df_mapping\n",
    "             .withColumnRenamed(\"imei\", \"IMEI\")\n",
    "             .withColumnRenamed(\"mac\", \"MAC\")\n",
    "             .withColumnRenamed(\"network\", \"NETWORK\")\n",
    "             .withColumnRenamed(\"client_ip\", \"IP\")\n",
    "             .withColumnRenamed(\"latitude\", \"LATITUDE\")\n",
    "             .withColumnRenamed(\"longitude\", \"LONGITUDE\")\n",
    "             .withColumnRenamed(\"uid\", \"UID\")\n",
    "             .withColumnRenamed(\"password\", \"PASSWORD\")\n",
    "             .withColumnRenamed(\"transaction\", \"TRANSACTION\")\n",
    "             .withColumnRenamed(\"api\", \"FEATURE\")\n",
    "             .withColumnRenamed(\"endpoint\", \"FEATURE_FLOW\")\n",
    "             .withColumnRenamed(\"os\", \"OPERAT_SYSTEM\")\n",
    "             .withColumnRenamed(\"phone_brand\", \"PHONE_BRAND\")\n",
    "             .withColumnRenamed(\"app_version\", \"APP_VERSION\")\n",
    "             .withColumnRenamed(\"func_error\", \"ERROR_INF\")\n",
    "             .withColumnRenamed(\"dat_ref\",\"DAT_REF\")\n",
    "             .withColumn(\"DT_EVENT\", F.from_unixtime(F.col(\"timestamp\").cast(\"long\")/1000, \"yyyy-MM-dd HH:mm:ss\").cast(\"timestamp\"))\n",
    "             .drop(\"timestamp\")\n",
    "             )\n",
    "display(df_silver)"
   ]
  },
  {
   "cell_type": "markdown",
   "metadata": {
    "application/vnd.databricks.v1+cell": {
     "cellMetadata": {
      "byteLimit": 2048000,
      "rowLimit": 10000
     },
     "inputWidgets": {},
     "nuid": "75766214-a00b-402c-b438-d71fff332a95",
     "showTitle": false,
     "tableResultSettingsMap": {},
     "title": ""
    }
   },
   "source": [
    "#### Write data on silver `table`"
   ]
  },
  {
   "cell_type": "code",
   "execution_count": 0,
   "metadata": {
    "application/vnd.databricks.v1+cell": {
     "cellMetadata": {
      "byteLimit": 2048000,
      "rowLimit": 10000
     },
     "inputWidgets": {},
     "nuid": "46e7bd2f-923b-4701-a189-d0356d5dc5eb",
     "showTitle": false,
     "tableResultSettingsMap": {},
     "title": ""
    }
   },
   "outputs": [],
   "source": [
    "df_silver.write \\\n",
    "    .format(\"delta\") \\\n",
    "    .mode(\"append\") \\\n",
    "    .option(\"path\", delta_table_path_output) \\\n",
    "    .partitionBy(\"DAT_REF\") \\\n",
    "    .saveAsTable(f\"{database_name_output}.{table_name_output}\")"
   ]
  }
 ],
 "metadata": {
  "application/vnd.databricks.v1+notebook": {
   "dashboards": [],
   "environmentMetadata": null,
   "language": "python",
   "notebookMetadata": {
    "mostRecentlyExecutedCommandWithImplicitDF": {
     "commandId": 1814916838126580,
     "dataframes": [
      "_sqldf"
     ]
    },
    "pythonIndentUnit": 4
   },
   "notebookName": "dataJobClean",
   "widgets": {}
  },
  "language_info": {
   "name": "python"
  }
 },
 "nbformat": 4,
 "nbformat_minor": 0
}
