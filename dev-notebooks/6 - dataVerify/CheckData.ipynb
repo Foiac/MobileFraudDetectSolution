{
 "cells": [
  {
   "cell_type": "code",
   "execution_count": 0,
   "metadata": {
    "application/vnd.databricks.v1+cell": {
     "cellMetadata": {
      "byteLimit": 2048000,
      "implicitDf": true,
      "rowLimit": 10000
     },
     "inputWidgets": {},
     "nuid": "76c61ee1-362a-4eb4-a573-0f4e8da4dee7",
     "showTitle": false,
     "tableResultSettingsMap": {
      "0": {
       "filterBlob": "{\"filterGroups\":[{\"enabled\":true,\"op\":\"OR\",\"filterGroupId\":\"fg_ecf8efb9\",\"filters\":[{\"filterId\":\"f_f690752b\",\"columnId\":\"dat_ref\",\"enabled\":true,\"dataType\":\"string\",\"filterType\":\"eq\",\"filterValue\":\"2024-11-01\",\"filterConfig\":{\"caseSensitive\":false,\"includeMax\":true,\"includeMin\":true}}],\"local\":false,\"updatedAt\":1737901838361}],\"syncTimestamp\":1737901838368}",
       "tableResultIndex": 0
      }
     },
     "title": ""
    }
   },
   "outputs": [
    {
     "data": {
      "text/html": [
       "<style scoped>\n",
       "  .table-result-container {\n",
       "    max-height: 300px;\n",
       "    overflow: auto;\n",
       "  }\n",
       "  table, th, td {\n",
       "    border: 1px solid black;\n",
       "    border-collapse: collapse;\n",
       "  }\n",
       "  th, td {\n",
       "    padding: 5px;\n",
       "  }\n",
       "  th {\n",
       "    text-align: left;\n",
       "  }\n",
       "</style><div class='table-result-container'><table class='table-result'><thead style='background-color: white'><tr><th>imei</th><th>mac</th><th>network</th><th>client_ip</th><th>latitude</th><th>longitude</th><th>uid</th><th>password</th><th>transaction</th><th>api</th><th>endpoint</th><th>os</th><th>phone_brand</th><th>app_version</th><th>error</th><th>timestamp</th><th>dat_ref</th></tr></thead><tbody><tr><td>60c2082c6af5175f9db8a696b18b12bc6a8cb4fa2b7505ec900fbffce365763c</td><td>a6f6bf0de894767230f4471fdedf751c57bfd8b1ebfb0955c8c8a0c33f1177b3</td><td>TIM</td><td>199.68.26.221</td><td>-5.958966250616518</td><td>-35.455133218816705</td><td>ff4c3949ada60e73053623b268ddb1b933491c2ba26563c86d29b7e607bb1207</td><td>b4b71f280e4cb76ecdcfd8df722bac5655600e1fbedad236165917cae5cd8028</td><td>true</td><td>login-authentication</td><td>v1/login</td><td>iOS 6.1.6</td><td>iPhone 3GS</td><td>2.0.3</td><td>0</td><td>1730467684000.0</td><td>2024-11-01</td></tr><tr><td>89ec3155285a257e653b48b3868250684f0fab77d555b9bd30efcc4fb88b793d</td><td>fdc3fe065e77e4ad533709c47cb88d6f2c9a1aa5b02a9c2226bc2c692b72ed5d</td><td>VIVO</td><td>151.57.166.120</td><td>-9.528741365820082</td><td>-40.35218933848221</td><td>6e546358bcbfe68d80ac65c623cc52bac72bda13a0c4a6ce2e1c32b5eb707bec</td><td>8be1344cb7423a636a40a1629bf344f0d3c995be4eac908c5bd3ba6be0f05f91</td><td>true</td><td>login-authentication</td><td>v1/login</td><td>iOS 17</td><td>iPhone 12 Pro</td><td>2.0.3</td><td>0</td><td>1730544945000.0</td><td>2024-11-02</td></tr><tr><td>814847338433a6459b8fa71cf0329b8c5ad572d725d12ba0a4f7dafacaffc6a4</td><td>cfb53efe28c190a79151afadaf3649ed1fb3f91309a4b77acbcbb68e0cc01082</td><td>VIVO</td><td>62.54.52.254</td><td>-29.67004252450064</td><td>-53.590341230391104</td><td>953240d4031aee6509b8ba61d06ce81b42f22cc48a2afa3a32dce66ce2769651</td><td>d69b842fa3a56bf5d49f53f0284d50b6e642af78ff3c1cc9f1e940976e2ac420</td><td>true</td><td>login-authentication</td><td>v1/login</td><td>iOS 17</td><td>iPhone XR</td><td>2.0.3</td><td>0</td><td>1730555067000.0</td><td>2024-11-02</td></tr><tr><td>6130949b35ac580c68505f733d7d4a918fd78e3296dfe822a5bf47561b171fae</td><td>49477d8703c93ace12dc81627f900bf4ef4802cfbe0286098ecfb1fad2ba1f52</td><td>TIM</td><td>184.79.197.218</td><td>-5.636455579522217</td><td>-34.68548927353159</td><td>3f7a591e6f0f2c0b8b2724782dc73e9621eb320a35300840d5904792605f575e</td><td>d39ea8eac958829fcb5acff30fd2d2bd95a7eabf4ad111f54729946378b726ed</td><td>true</td><td>login-authentication</td><td>v1/login</td><td>iOS 15.7.8</td><td>iPhone 6S Plus</td><td>2.0.3</td><td>INCORRECT_PASS</td><td>1730508676000.0</td><td>2024-11-02</td></tr><tr><td>c6cea1306818d74328938e89d76055b4a38ac571959f32fef8c3fa3a24589ac0</td><td>5883f43a47fb4a52427dd70f3d9bfd6bd9d2cd722411a437ef7412029e6e3696</td><td>OI</td><td>13.115.184.209</td><td>-13.046024166759192</td><td>-60.46313692418718</td><td>88fdf87fecd1fa0c4f8c89b4bd2ad348ff709220b369b12397c9bbb6b4582bc3</td><td>7dd2bd36569d8d91b9f3069ed2cad5b844e2a4323ba71aa8a6fc614d62dd30cf</td><td>true</td><td>login-authentication</td><td>v1/login</td><td>iOS 17</td><td>iPhone 13 Pro Max</td><td>2.0.3</td><td>0</td><td>1730530448000.0</td><td>2024-11-02</td></tr><tr><td>95525d043d18461a222ea4259fb04d5c31cdf3855c4b09d4ac834bda34064bff</td><td>2577aad776d4f9ffaa0ce8dbc3af7815349ff533d92515588578fecdc5d83598</td><td>OI</td><td>34.129.55.53</td><td>2.23418006051901</td><td>-60.53411484642213</td><td>9ce070bfb485b40ae80dccb0d93d9bd01bd09a8a2956f42db9c1a54941415379</td><td>89d4398c13b947ba32da33d450853680b827f5373296e9e8fe5b24c2f5205428</td><td>true</td><td>login-authentication</td><td>v1/login</td><td>iOS 17</td><td>iPhone 15 Pro</td><td>2.0.3</td><td>0</td><td>1730478197000.0</td><td>2024-11-01</td></tr><tr><td>02bbbc144c5ba3548c5e42df56fd1c797a992cbb2d8cd163dad38ca4fb5df129</td><td>bc84791c560d09054b76843430b266e7d70a23cde222839f493a9b10d2189bf1</td><td>TIM</td><td>119.12.242.134</td><td>-10.238686991685919</td><td>-49.6429188077672</td><td>bb6cf86e21408e2da16fd9e352fff716e3f9fcd9313bd4268447b06fefabafbb</td><td>2df6a60f798f96181cfc67f382865c704805abbcff10c24c57aad1e347570bdb</td><td>true</td><td>login-authentication</td><td>v1/login</td><td>iOS 12.5.7</td><td>iPhone 5S</td><td>2.0.3</td><td>0</td><td>1730550461000.0</td><td>2024-11-02</td></tr><tr><td>52cf58fe15861e41902d468f9d89276096c5ae020f779968e86b7bb118014b06</td><td>4df9a4f34cb08810186757901b57c4b3d0a4a87d99b058ddf9d85ceed0df9051</td><td>CLARO</td><td>162.117.76.121</td><td>-7.3366161207076575</td><td>-70.53213917238527</td><td>bc49b40fcf50388edb5c11797c7eb7d492b4e759efb7ee6b456bc2b17cc6103f</td><td>f31f8d5daedb380ef19b1cd04c23eeaa67017e1284bf1ba0b593530dd72c9b26</td><td>true</td><td>login-authentication</td><td>v1/login</td><td>Android 13 (One UI 5.1)</td><td>Samsung Galaxy Z Flip 5</td><td>2.0.3</td><td>0</td><td>1730554562000.0</td><td>2024-11-02</td></tr><tr><td>764c615aa72748759005f995d2fe7886ce36444484ce8e38b51f9165c9ad98f1</td><td>3209480e0ace1489a118768c4704cae044b62a9cbaec13f553b339efe57e43eb</td><td>TIM</td><td>31.79.143.202</td><td>3.2649051673775715</td><td>-61.18239746648462</td><td>75ee91d5b9de1c1c4060cbe5d5f9840d49e8fb3a3635eb12a0f2afcda89ef1fc</td><td>e3a0d1eda2e3ad47ac456b6b593ca5138613b02d28010183cb158901cb25c501</td><td>true</td><td>login-authentication</td><td>v1/login</td><td>Android 13 (MIUI 14)</td><td>Xiaomi Redmi Note 12 Pro</td><td>2.0.3</td><td>0</td><td>1730541756000.0</td><td>2024-11-02</td></tr><tr><td>eadc18625da0c75422385b3cb0a60f6dde2fbd8b766a13e3c3c446b1c9f1d7e1</td><td>ba945aa16f1926ce52467149ad0816dc5ee4a01c42bc7ef9012fbdcceb03e51b</td><td>TIM</td><td>18.175.105.224</td><td>-24.01606288490745</td><td>-46.00494200578438</td><td>24d120c302d163a1291ec94f360966e4c2eee04f84d030fae8fcfe1d2b9957ed</td><td>82f5dfcbb7e20944937c11e3819887de014c3e5041561ad71e38e22e2fd88666</td><td>true</td><td>login-authentication</td><td>v1/login</td><td>iOS 6.1.6</td><td>iPhone 3GS</td><td>2.0.2</td><td>0</td><td>1730557920000.0</td><td>2024-11-02</td></tr><tr><td>5a9425f67e853ec18b04b7d4e04bf1d1a36683c0b244677b615327c56ea9eaaa</td><td>a78f5a887aa73002b59f29b8f38d6dd590a9d2f2b6b64aa2092777c8acf58a36</td><td>CLARO</td><td>152.168.27.98</td><td>-26.999743852387805</td><td>-49.14996547763658</td><td>802402cd515a37ae50cb95268db222988f8f8d30f3d365f868b6b5ce21226f3d</td><td>d707cb2451a879c95bd898629b457f347a2695d5fa293cf6d8f2e58b73528c1f</td><td>true</td><td>login-authentication</td><td>v1/login</td><td>iOS 17</td><td>iPhone 15</td><td>2.0.2</td><td>0</td><td>1730450601000.0</td><td>2024-11-01</td></tr><tr><td>5bcc7e36ca69405456074b3bbf1570766f6650d5f1124f6ad6353742d7f0c86f</td><td>8d62f6fcd6fad9910f17ff992481bbd0c2f7737d3e1312451b21a3eac3c78c71</td><td>CLARO</td><td>174.209.136.214</td><td>-7.616465705449968</td><td>-35.73038863480132</td><td>8a72f0be26c0a1b6a00623423f3ea6b14e0e3a8a7d0013f2e472a618f5a79ef3</td><td>0e900ccf01c0e92a29761375b6cf4eae9841d1c882d027954009c4f9f9026549</td><td>true</td><td>login-authentication</td><td>v1/login</td><td>Android 13 (MagicOS 7.1)</td><td>Honor 90</td><td>2.0.3</td><td>0</td><td>1730512588000.0</td><td>2024-11-02</td></tr><tr><td>57e4c51a4f1d2a7df81978b13b4c1bc77ad0e48be3552e84e7a8b1291bb77b9e</td><td>fd4ac89a2b04cb6ae619726140d2bb215814bcb05ac5b26853f056c5be7d0681</td><td>CLARO</td><td>43.148.34.119</td><td>-10.550478023930639</td><td>-37.087508376536086</td><td>2bfe0fe70943da3060aff4c44d7779817922707c3103b10637669f520494f5e8</td><td>11a6512f135fa2f2438a867d27cf433df7d48eb9813c540d50d1c3345adaed17</td><td>true</td><td>login-authentication</td><td>v1/login</td><td>iOS 17</td><td>iPhone SE 3ª Geração (2022)</td><td>2.0.3</td><td>0</td><td>1730479817000.0</td><td>2024-11-01</td></tr><tr><td>a11cc3bba1c7b431e5e14d6f931014d1b4c8420ba844b38accad251c5513f36e</td><td>d75db5918865f357ef5a4667113c2c465a76d00cf388284371ecdd0f9da6f900</td><td>VIVO</td><td>27.207.238.40</td><td>-11.899060075760922</td><td>-61.30519517393263</td><td>a374fe79a984e5a15cfc6036fda7911889a24e0b5242b0f752ce478580736530</td><td>dbcb51b4ec6d47c9bba7b54c7d1f426b768144483db4862a907cc7700ae78d94</td><td>true</td><td>login-authentication</td><td>v1/login</td><td>Android 12 (XOS 12)</td><td>Infinix Zero Ultra</td><td>2.0.3</td><td>0</td><td>1730421235000.0</td><td>2024-11-01</td></tr><tr><td>93669127b92f3a6daa0f29530e12d44590fa214585938c63c78f1fdcca873aa8</td><td>13e11e03f916f279ce700ec270014b8ec78f98659a984a2cd17b49116d5e4179</td><td>TIM</td><td>81.67.131.226</td><td>-7.956982117512137</td><td>-34.86272820723203</td><td>10cc3c6d480fbf356fcd673c06acb701f9e683f0677ef60466de3a3349583a2c</td><td>31c8b8a4ac77473185f88e6fb9c5c67e0a378ff745f6fa853625872a4dd3b15c</td><td>true</td><td>login-authentication</td><td>v1/login</td><td>Android 13</td><td>Sony Xperia 1 V</td><td>2.0.3</td><td>INCORRECT_PASS</td><td>1730478474000.0</td><td>2024-11-01</td></tr><tr><td>43b79693a9e9fa213350ce9c5fb7bbf73b358f3f77c00c41adbea0ac6acb53c8</td><td>aca4f0b9652f3b32f122cdfb8c8b5b1e5d1d4d4da8983b9674fabd1fc8fcdb40</td><td>CLARO</td><td>35.158.14.240</td><td>-8.185502993982587</td><td>-34.748021134192776</td><td>84e9f90aebca5d3f91b9b96d4806151b28307ada2e57a913c86f1271cdc3395f</td><td>36abe4e1d98def6bf1911f6b7fc1ccb0b5afe20985a79a080c3b26f9cdbb1a41</td><td>false</td><td>login-authentication</td><td>v1/login</td><td>HarmonyOS 3.1 (internacional: EMUI 13)</td><td>Huawei P60 Pro</td><td>2.0.3</td><td>0</td><td>1730437540000.0</td><td>2024-11-01</td></tr><tr><td>f83ebad8ceaec6fab9d16df816d280f977aca90f1a5613e7c4d5a92043d96db1</td><td>4f9127aeed79da0da86f5c0fd92209cb124bbb04914d0cb7e704ff7788c54999</td><td>OI</td><td>100.6.109.173</td><td>-25.50623114371876</td><td>-49.22949431388168</td><td>be6b1d0bcade04c1756c7274e0da40839716d314102ef372e2bdc620d73dd222</td><td>90b7402d9ceb967d4608ddbc9b47b87e60db9d7b10b1702f2a488f6630afdaee</td><td>false</td><td>login-authentication</td><td>v1/login</td><td>iOS 17</td><td>iPhone 13 Pro Max</td><td>2.0.3</td><td>0</td><td>1730533160000.0</td><td>2024-11-02</td></tr><tr><td>4db1dd69a2f32abf5c1e6a5b35afd4dacff993a1225be32c1992f21ab71416b2</td><td>cbcf1c0b87ca349500be5cd79a07004a798857553f3358f354490ce2ea6f81f2</td><td>VIVO</td><td>24.207.238.157</td><td>-16.868310056552748</td><td>-49.1066257276867</td><td>bae054174539873cbae5cc8dfc96e61bfdd7d40f8de4b1122db06f9396239b85</td><td>c739acb36a887d96736f8741f92e4668825409117bfb005356c01f23bd67418e</td><td>true</td><td>login-authentication</td><td>v1/login</td><td>iOS 17</td><td>iPhone 15 Pro</td><td>2.0.3</td><td>0</td><td>1730451944000.0</td><td>2024-11-01</td></tr><tr><td>224456108956907cd3e01b9351c661f46df3638e2fe7c5868ae93bc2fbd827a3</td><td>4c4f46616e24c5415f5971e4c7c9f03e9e7f6811c854fde2d0815fc259a9ad30</td><td>OI</td><td>134.233.248.217</td><td>-21.27361610252252</td><td>-51.36096727986295</td><td>67c80222ad9dd8c3f9986f92b147f83765363b486b8354b68be19a37b878330c</td><td>98f46f877925be3710ee3c83dd09b5e523203d51ba8d4f56afdda8d4d6f1353f</td><td>true</td><td>login-authentication</td><td>v1/login</td><td>Android 14 (Stock Android)</td><td>Google Pixel 7a</td><td>2.0.2</td><td>0</td><td>1730512985000.0</td><td>2024-11-02</td></tr><tr><td>229c7b49fba0e3b861b5fc43cd652e9c05c52d3c63589c99d1c5b1908aa5edd2</td><td>c2f8c35acec2a67a1da688ad3d7d0e0c1ea1bbf6d2d2f3738ee7695f8b53c017</td><td>VIVO</td><td>142.40.0.144</td><td>-5.814031456079968</td><td>-35.331578825924815</td><td>84e9f90aebca5d3f91b9b96d4806151b28307ada2e57a913c86f1271cdc3395f</td><td>fadea2bc5551d1258ecf9d921fec33c7e807ca4ef1b31c1e856606c43d4e5759</td><td>false</td><td>login-authentication</td><td>v1/login</td><td>Android 13 (MIUI 14)</td><td>Poco X5 Pro</td><td>2.0.3</td><td>0</td><td>1730430279000.0</td><td>2024-11-01</td></tr><tr><td>147dae0dab9c1ec7aa07861d4c0568f3ea54d3a7ec995d4ba5aa2ae293fa9f34</td><td>9182c64cd60d92a2facc9ca3686fc9fd925dc2d4c871c55053696d1739c114f2</td><td>VIVO</td><td>85.43.38.164</td><td>-6.979254146753711</td><td>-35.24811240817165</td><td>5b84ad3414d5fdba92023e1edc84c5a2b8323ba399de67375b3c91fa5c1090fd</td><td>86e3d2c576e321aaef5cf48b675380a7c9a2468db53c733b68348159d00c4646</td><td>true</td><td>login-authentication</td><td>v1/login</td><td>Android 13 (MyUX)</td><td>Motorola Razr 40 Ultra</td><td>2.0.3</td><td>0</td><td>1730530833000.0</td><td>2024-11-02</td></tr><tr><td>d6fe5cbb09be6da0d63f10c8feffb115abdda132488bbd4f5dfccd911759b6c1</td><td>ee4dcd6246162b25c95f2514da337704b6f88b5555813e3a9903e642e8c2924f</td><td>CLARO</td><td>155.8.226.160</td><td>-11.362730408444724</td><td>-37.30090240985121</td><td>17b80eee40e84f00c160becc1a4f4b7820c158d2f73318efa238bee3a55970ba</td><td>4f342c713fd98368302637823cb994f251c26f060c3d6ee47a37a282ff7047f4</td><td>false</td><td>login-authentication</td><td>v1/login</td><td>iOS 17</td><td>iPhone 14 Pro</td><td>2.0.3</td><td>0</td><td>1730588094000.0</td><td>2024-11-02</td></tr><tr><td>3ad33f45327b7b62df9c435fa414f335aa8b9e71a325b2beadd4d204068c3898</td><td>ab2070a4e39acb2636812e64083a67beb345eb186101cbf61d2f5f267ae8b5a6</td><td>OI</td><td>16.232.67.188</td><td>-8.319845218211931</td><td>-35.021676324775946</td><td>c0f362b558d7f09612aa04ca792fe5783deadd47436b0c8ea9364c5688ee597b</td><td>8fefeb5eff570727cbb8ecbe8429301f6da468a43648206351a1e8ad10249ec7</td><td>true</td><td>login-authentication</td><td>v1/login</td><td>iOS 16</td><td>iPhone X</td><td>2.0.3</td><td>0</td><td>1730536241000.0</td><td>2024-11-02</td></tr><tr><td>ffa0a2a52ab034ade872a791323d65cc3df53cbcd45b2595481bb862937c59c2</td><td>9a7223e71d456efa5f5653112944cbe4b26c09527df4e6641a5d55df7bf29573</td><td>CLARO</td><td>209.252.198.97</td><td>-2.560529396104336</td><td>-44.22196452251703</td><td>68cb2b687d57e5e8e13d079ed4ada1783ebb55ca176a92fcd175509af646127c</td><td>4568b9a552a729078fb420deca6eaa1138d29019315efde260f0e11a8575cf1f</td><td>true</td><td>login-authentication</td><td>v1/login</td><td>iOS 17</td><td>iPhone 13 Pro Max</td><td>2.0.3</td><td>0</td><td>1730440899000.0</td><td>2024-11-01</td></tr><tr><td>27014122b53a1360db8bfa23dc31a28ba4054c8e8aa467949a88c5e1a8cebba1</td><td>c6e8218a671a19b20eee15d0c90879ae01da4ce21b7e5a1833c0a7a5b7cd559b</td><td>CLARO</td><td>17.31.200.72</td><td>-20.768919813069726</td><td>-40.17583513845812</td><td>4ffb80e6dfd570fd415dffba67ce229babd33e97d056d8603fb2a93623f4de18</td><td>7e155d5ee6a9e2890f0ee2e3f4ed2115ceb1be491e7710848dafc7eb0cc10002</td><td>true</td><td>login-authentication</td><td>v1/login</td><td>Android 13 (MIUI 14)</td><td>Poco X5 Pro</td><td>2.0.3</td><td>0</td><td>1730538006000.0</td><td>2024-11-02</td></tr><tr><td>268670e6c7ce055ff95951c8d4a870b13e20738122304b1a09282c19b55f4ed8</td><td>57d318554f68d477da313c7acea9d333390394c4f3bf224911ed9dbbcdee6ca0</td><td>VIVO</td><td>19.183.2.19</td><td>-3.7775510615455254</td><td>-38.61874184048658</td><td>ef18fc0f8dd86d38111592fc7df72680d5e611e24969d4fd3d718566021ebfe1</td><td>8230e01690da11c88dad5b34db5c59cc1d1116795e2b7a2ab7b08f52d93b8324</td><td>true</td><td>login-authentication</td><td>v1/login</td><td>Android 13 (Realme UI 4.0)</td><td>Realme 11 Pro+</td><td>2.0.3</td><td>0</td><td>1730476585000.0</td><td>2024-11-01</td></tr><tr><td>522e98dbaea2982e334be5bbb87b3b1238198a8a85cbcc68e89dfc09774db02f</td><td>34df080597a1e6068bd3affcbe4aaeb01f2aefcf5ec914562a91039c31976208</td><td>VIVO</td><td>116.180.28.178</td><td>-9.455553832386729</td><td>-48.67339633036817</td><td>7616ecbc9cd7ab5a8e6f8396b15bde9cb7cc4e997ad5f8549d20d5a9e05f22a4</td><td>44c13bf06cf5fc3f1222cbffc0841258daab84c562ad4b96fb94d1cacb2434e2</td><td>true</td><td>login-authentication</td><td>v1/login</td><td>iOS 15.7.8</td><td>iPhone 7</td><td>2.0.3</td><td>0</td><td>1730488992000.0</td><td>2024-11-01</td></tr><tr><td>3121462af33c74cacda85106ca288fcc1bf1090b09e6362c0689cedc45b0b842</td><td>d5de95020b9429c02e096e3510b7307e11b1fa8957bc1bcfccee6a314fdf60eb</td><td>CLARO</td><td>158.239.198.161</td><td>-5.370536318600085</td><td>-47.33990883693613</td><td>4ffb80e6dfd570fd415dffba67ce229babd33e97d056d8603fb2a93623f4de18</td><td>048ce83923e380e1c6af77eec4f61917e63bff98a68171220050089d4fa885bf</td><td>true</td><td>login-authentication</td><td>v1/login</td><td>Android 13 (Funtouch OS 13)</td><td>Vivo X90</td><td>2.0.2</td><td>0</td><td>1730587988000.0</td><td>2024-11-02</td></tr><tr><td>2e8662e5c3545947cc10a9493b909f6a42fbbe228eff0b7b1574549ae61bcb03</td><td>99b73611afca92aea3282028c97d151186f792fcb025d2a09f5d3e504d8422cb</td><td>OI</td><td>112.29.126.88</td><td>-19.733216665899384</td><td>-44.25156131759471</td><td>b794d8e1826c1348feea79fdde7cab6d55666b039339eb6fd05bac8e937d6fcf</td><td>c4888bf81759548daa3d0ba75ccdcbb9f9cfe4ac18d786cb9abcc4fbc68a7496</td><td>true</td><td>login-authentication</td><td>v1/login</td><td>Android 13 (MyUX)</td><td>Motorola Moto G Power 2023</td><td>2.0.3</td><td>0</td><td>1730564694000.0</td><td>2024-11-02</td></tr><tr><td>2e1d2eea427eec7ad46f70e08d134ecd7d5ba164109b83a74a3881be1dc31af1</td><td>1b31eca3ff6475ba4781c4ea2b3eebd093e5e66aa92bb38d7242a0435d39756a</td><td>CLARO</td><td>101.215.193.166</td><td>-23.568582303899642</td><td>-46.37166842006189</td><td>9a6c6d25a55600d49cdfae816b6f1513d559509c396b2a0d949c69706375f6cc</td><td>d5008cb6fbe6f30e7802796dac782db9d713799dcd52f2e71a7c5d6fa36fe735</td><td>false</td><td>login-authentication</td><td>v1/login</td><td>Android 13 (MIUI 14)</td><td>Xiaomi 13 Lite</td><td>2.0.3</td><td>0</td><td>1730429583000.0</td><td>2024-11-01</td></tr><tr><td>ca379814fd3fd34c078427b52002242ac43c71652e662f90d6e2c8be9f1a357c</td><td>61496269d71b1245adb08b571349f43940fa4ddab80c6a1231e611adb4421b0d</td><td>CLARO</td><td>128.230.108.61</td><td>2.4417739467763377</td><td>-61.96509737793625</td><td>a571d1583e3edf18a3f44d040fee27fe008320269dd6042a5e5af58b84ec01d0</td><td>63069cc44ddb669fa1004b835c16d9ed17e3e858b20cec66f5e8c63b3bac24f7</td><td>true</td><td>login-authentication</td><td>v1/login</td><td>Android 13</td><td>ZTE Nubia Z50</td><td>2.0.2</td><td>0</td><td>1730520874000.0</td><td>2024-11-02</td></tr><tr><td>c2ccc8356abc67f0f4fa24abc921f7ebce8cabdcb5065e73149bc3bcfefb9b62</td><td>1d56d4f688344c140fcbfef4188ea4f2ccb014ce764f35cdb31530ef23b87f15</td><td>OI</td><td>68.196.57.146</td><td>-18.917113537126504</td><td>-57.731273681137075</td><td>1dd6e1b6428fe93567a9814e6389895dcc2594708047c00b2ad6e0e489149ae6</td><td>50ebe934e00aa3347b88d480ce5af1924233d5f72ff1374aeac64783550f40fc</td><td>true</td><td>login-authentication</td><td>v1/login</td><td>iOS 17</td><td>iPhone 15 Plus</td><td>2.0.3</td><td>0</td><td>1730431273000.0</td><td>2024-11-01</td></tr><tr><td>33b36a9bbfc6b7cf988f289bae149c920b31f7d3cd1e0af2d5394f0d7b01caf7</td><td>61ad4e88ee89ece4a74a2e021894f3ed77565eee21df44cc1840367f143f64eb</td><td>VIVO</td><td>148.13.146.42</td><td>-7.136786372387304</td><td>-39.218045943287706</td><td>8ff7c44710441a30c17e2298f9c14f8ed3431ecee5bf2e2b1cb4dcf2b147a1ff</td><td>b99c48ce33df239e122ed368e551e801d194df75ba44201f277dedb335ce14cf</td><td>true</td><td>login-authentication</td><td>v1/login</td><td>iOS 17</td><td>iPhone 14 Pro Max</td><td>2.0.2</td><td>0</td><td>1730524436000.0</td><td>2024-11-02</td></tr></tbody></table></div>"
      ]
     },
     "metadata": {
      "application/vnd.databricks.v1+output": {
       "addedWidgets": {},
       "aggData": [],
       "aggError": "",
       "aggOverflow": false,
       "aggSchema": [],
       "aggSeriesLimitReached": false,
       "aggType": "",
       "arguments": {},
       "columnCustomDisplayInfos": {},
       "data": [
        [
         "60c2082c6af5175f9db8a696b18b12bc6a8cb4fa2b7505ec900fbffce365763c",
         "a6f6bf0de894767230f4471fdedf751c57bfd8b1ebfb0955c8c8a0c33f1177b3",
         "TIM",
         "199.68.26.221",
         "-5.958966250616518",
         "-35.455133218816705",
         "ff4c3949ada60e73053623b268ddb1b933491c2ba26563c86d29b7e607bb1207",
         "b4b71f280e4cb76ecdcfd8df722bac5655600e1fbedad236165917cae5cd8028",
         "true",
         "login-authentication",
         "v1/login",
         "iOS 6.1.6",
         "iPhone 3GS",
         "2.0.3",
         "0",
         "1730467684000.0",
         "2024-11-01"
        ],
        [
         "89ec3155285a257e653b48b3868250684f0fab77d555b9bd30efcc4fb88b793d",
         "fdc3fe065e77e4ad533709c47cb88d6f2c9a1aa5b02a9c2226bc2c692b72ed5d",
         "VIVO",
         "151.57.166.120",
         "-9.528741365820082",
         "-40.35218933848221",
         "6e546358bcbfe68d80ac65c623cc52bac72bda13a0c4a6ce2e1c32b5eb707bec",
         "8be1344cb7423a636a40a1629bf344f0d3c995be4eac908c5bd3ba6be0f05f91",
         "true",
         "login-authentication",
         "v1/login",
         "iOS 17",
         "iPhone 12 Pro",
         "2.0.3",
         "0",
         "1730544945000.0",
         "2024-11-02"
        ],
        [
         "814847338433a6459b8fa71cf0329b8c5ad572d725d12ba0a4f7dafacaffc6a4",
         "cfb53efe28c190a79151afadaf3649ed1fb3f91309a4b77acbcbb68e0cc01082",
         "VIVO",
         "62.54.52.254",
         "-29.67004252450064",
         "-53.590341230391104",
         "953240d4031aee6509b8ba61d06ce81b42f22cc48a2afa3a32dce66ce2769651",
         "d69b842fa3a56bf5d49f53f0284d50b6e642af78ff3c1cc9f1e940976e2ac420",
         "true",
         "login-authentication",
         "v1/login",
         "iOS 17",
         "iPhone XR",
         "2.0.3",
         "0",
         "1730555067000.0",
         "2024-11-02"
        ],
        [
         "6130949b35ac580c68505f733d7d4a918fd78e3296dfe822a5bf47561b171fae",
         "49477d8703c93ace12dc81627f900bf4ef4802cfbe0286098ecfb1fad2ba1f52",
         "TIM",
         "184.79.197.218",
         "-5.636455579522217",
         "-34.68548927353159",
         "3f7a591e6f0f2c0b8b2724782dc73e9621eb320a35300840d5904792605f575e",
         "d39ea8eac958829fcb5acff30fd2d2bd95a7eabf4ad111f54729946378b726ed",
         "true",
         "login-authentication",
         "v1/login",
         "iOS 15.7.8",
         "iPhone 6S Plus",
         "2.0.3",
         "INCORRECT_PASS",
         "1730508676000.0",
         "2024-11-02"
        ],
        [
         "c6cea1306818d74328938e89d76055b4a38ac571959f32fef8c3fa3a24589ac0",
         "5883f43a47fb4a52427dd70f3d9bfd6bd9d2cd722411a437ef7412029e6e3696",
         "OI",
         "13.115.184.209",
         "-13.046024166759192",
         "-60.46313692418718",
         "88fdf87fecd1fa0c4f8c89b4bd2ad348ff709220b369b12397c9bbb6b4582bc3",
         "7dd2bd36569d8d91b9f3069ed2cad5b844e2a4323ba71aa8a6fc614d62dd30cf",
         "true",
         "login-authentication",
         "v1/login",
         "iOS 17",
         "iPhone 13 Pro Max",
         "2.0.3",
         "0",
         "1730530448000.0",
         "2024-11-02"
        ],
        [
         "95525d043d18461a222ea4259fb04d5c31cdf3855c4b09d4ac834bda34064bff",
         "2577aad776d4f9ffaa0ce8dbc3af7815349ff533d92515588578fecdc5d83598",
         "OI",
         "34.129.55.53",
         "2.23418006051901",
         "-60.53411484642213",
         "9ce070bfb485b40ae80dccb0d93d9bd01bd09a8a2956f42db9c1a54941415379",
         "89d4398c13b947ba32da33d450853680b827f5373296e9e8fe5b24c2f5205428",
         "true",
         "login-authentication",
         "v1/login",
         "iOS 17",
         "iPhone 15 Pro",
         "2.0.3",
         "0",
         "1730478197000.0",
         "2024-11-01"
        ],
        [
         "02bbbc144c5ba3548c5e42df56fd1c797a992cbb2d8cd163dad38ca4fb5df129",
         "bc84791c560d09054b76843430b266e7d70a23cde222839f493a9b10d2189bf1",
         "TIM",
         "119.12.242.134",
         "-10.238686991685919",
         "-49.6429188077672",
         "bb6cf86e21408e2da16fd9e352fff716e3f9fcd9313bd4268447b06fefabafbb",
         "2df6a60f798f96181cfc67f382865c704805abbcff10c24c57aad1e347570bdb",
         "true",
         "login-authentication",
         "v1/login",
         "iOS 12.5.7",
         "iPhone 5S",
         "2.0.3",
         "0",
         "1730550461000.0",
         "2024-11-02"
        ],
        [
         "52cf58fe15861e41902d468f9d89276096c5ae020f779968e86b7bb118014b06",
         "4df9a4f34cb08810186757901b57c4b3d0a4a87d99b058ddf9d85ceed0df9051",
         "CLARO",
         "162.117.76.121",
         "-7.3366161207076575",
         "-70.53213917238527",
         "bc49b40fcf50388edb5c11797c7eb7d492b4e759efb7ee6b456bc2b17cc6103f",
         "f31f8d5daedb380ef19b1cd04c23eeaa67017e1284bf1ba0b593530dd72c9b26",
         "true",
         "login-authentication",
         "v1/login",
         "Android 13 (One UI 5.1)",
         "Samsung Galaxy Z Flip 5",
         "2.0.3",
         "0",
         "1730554562000.0",
         "2024-11-02"
        ],
        [
         "764c615aa72748759005f995d2fe7886ce36444484ce8e38b51f9165c9ad98f1",
         "3209480e0ace1489a118768c4704cae044b62a9cbaec13f553b339efe57e43eb",
         "TIM",
         "31.79.143.202",
         "3.2649051673775715",
         "-61.18239746648462",
         "75ee91d5b9de1c1c4060cbe5d5f9840d49e8fb3a3635eb12a0f2afcda89ef1fc",
         "e3a0d1eda2e3ad47ac456b6b593ca5138613b02d28010183cb158901cb25c501",
         "true",
         "login-authentication",
         "v1/login",
         "Android 13 (MIUI 14)",
         "Xiaomi Redmi Note 12 Pro",
         "2.0.3",
         "0",
         "1730541756000.0",
         "2024-11-02"
        ],
        [
         "eadc18625da0c75422385b3cb0a60f6dde2fbd8b766a13e3c3c446b1c9f1d7e1",
         "ba945aa16f1926ce52467149ad0816dc5ee4a01c42bc7ef9012fbdcceb03e51b",
         "TIM",
         "18.175.105.224",
         "-24.01606288490745",
         "-46.00494200578438",
         "24d120c302d163a1291ec94f360966e4c2eee04f84d030fae8fcfe1d2b9957ed",
         "82f5dfcbb7e20944937c11e3819887de014c3e5041561ad71e38e22e2fd88666",
         "true",
         "login-authentication",
         "v1/login",
         "iOS 6.1.6",
         "iPhone 3GS",
         "2.0.2",
         "0",
         "1730557920000.0",
         "2024-11-02"
        ],
        [
         "5a9425f67e853ec18b04b7d4e04bf1d1a36683c0b244677b615327c56ea9eaaa",
         "a78f5a887aa73002b59f29b8f38d6dd590a9d2f2b6b64aa2092777c8acf58a36",
         "CLARO",
         "152.168.27.98",
         "-26.999743852387805",
         "-49.14996547763658",
         "802402cd515a37ae50cb95268db222988f8f8d30f3d365f868b6b5ce21226f3d",
         "d707cb2451a879c95bd898629b457f347a2695d5fa293cf6d8f2e58b73528c1f",
         "true",
         "login-authentication",
         "v1/login",
         "iOS 17",
         "iPhone 15",
         "2.0.2",
         "0",
         "1730450601000.0",
         "2024-11-01"
        ],
        [
         "5bcc7e36ca69405456074b3bbf1570766f6650d5f1124f6ad6353742d7f0c86f",
         "8d62f6fcd6fad9910f17ff992481bbd0c2f7737d3e1312451b21a3eac3c78c71",
         "CLARO",
         "174.209.136.214",
         "-7.616465705449968",
         "-35.73038863480132",
         "8a72f0be26c0a1b6a00623423f3ea6b14e0e3a8a7d0013f2e472a618f5a79ef3",
         "0e900ccf01c0e92a29761375b6cf4eae9841d1c882d027954009c4f9f9026549",
         "true",
         "login-authentication",
         "v1/login",
         "Android 13 (MagicOS 7.1)",
         "Honor 90",
         "2.0.3",
         "0",
         "1730512588000.0",
         "2024-11-02"
        ],
        [
         "57e4c51a4f1d2a7df81978b13b4c1bc77ad0e48be3552e84e7a8b1291bb77b9e",
         "fd4ac89a2b04cb6ae619726140d2bb215814bcb05ac5b26853f056c5be7d0681",
         "CLARO",
         "43.148.34.119",
         "-10.550478023930639",
         "-37.087508376536086",
         "2bfe0fe70943da3060aff4c44d7779817922707c3103b10637669f520494f5e8",
         "11a6512f135fa2f2438a867d27cf433df7d48eb9813c540d50d1c3345adaed17",
         "true",
         "login-authentication",
         "v1/login",
         "iOS 17",
         "iPhone SE 3ª Geração (2022)",
         "2.0.3",
         "0",
         "1730479817000.0",
         "2024-11-01"
        ],
        [
         "a11cc3bba1c7b431e5e14d6f931014d1b4c8420ba844b38accad251c5513f36e",
         "d75db5918865f357ef5a4667113c2c465a76d00cf388284371ecdd0f9da6f900",
         "VIVO",
         "27.207.238.40",
         "-11.899060075760922",
         "-61.30519517393263",
         "a374fe79a984e5a15cfc6036fda7911889a24e0b5242b0f752ce478580736530",
         "dbcb51b4ec6d47c9bba7b54c7d1f426b768144483db4862a907cc7700ae78d94",
         "true",
         "login-authentication",
         "v1/login",
         "Android 12 (XOS 12)",
         "Infinix Zero Ultra",
         "2.0.3",
         "0",
         "1730421235000.0",
         "2024-11-01"
        ],
        [
         "93669127b92f3a6daa0f29530e12d44590fa214585938c63c78f1fdcca873aa8",
         "13e11e03f916f279ce700ec270014b8ec78f98659a984a2cd17b49116d5e4179",
         "TIM",
         "81.67.131.226",
         "-7.956982117512137",
         "-34.86272820723203",
         "10cc3c6d480fbf356fcd673c06acb701f9e683f0677ef60466de3a3349583a2c",
         "31c8b8a4ac77473185f88e6fb9c5c67e0a378ff745f6fa853625872a4dd3b15c",
         "true",
         "login-authentication",
         "v1/login",
         "Android 13",
         "Sony Xperia 1 V",
         "2.0.3",
         "INCORRECT_PASS",
         "1730478474000.0",
         "2024-11-01"
        ],
        [
         "43b79693a9e9fa213350ce9c5fb7bbf73b358f3f77c00c41adbea0ac6acb53c8",
         "aca4f0b9652f3b32f122cdfb8c8b5b1e5d1d4d4da8983b9674fabd1fc8fcdb40",
         "CLARO",
         "35.158.14.240",
         "-8.185502993982587",
         "-34.748021134192776",
         "84e9f90aebca5d3f91b9b96d4806151b28307ada2e57a913c86f1271cdc3395f",
         "36abe4e1d98def6bf1911f6b7fc1ccb0b5afe20985a79a080c3b26f9cdbb1a41",
         "false",
         "login-authentication",
         "v1/login",
         "HarmonyOS 3.1 (internacional: EMUI 13)",
         "Huawei P60 Pro",
         "2.0.3",
         "0",
         "1730437540000.0",
         "2024-11-01"
        ],
        [
         "f83ebad8ceaec6fab9d16df816d280f977aca90f1a5613e7c4d5a92043d96db1",
         "4f9127aeed79da0da86f5c0fd92209cb124bbb04914d0cb7e704ff7788c54999",
         "OI",
         "100.6.109.173",
         "-25.50623114371876",
         "-49.22949431388168",
         "be6b1d0bcade04c1756c7274e0da40839716d314102ef372e2bdc620d73dd222",
         "90b7402d9ceb967d4608ddbc9b47b87e60db9d7b10b1702f2a488f6630afdaee",
         "false",
         "login-authentication",
         "v1/login",
         "iOS 17",
         "iPhone 13 Pro Max",
         "2.0.3",
         "0",
         "1730533160000.0",
         "2024-11-02"
        ],
        [
         "4db1dd69a2f32abf5c1e6a5b35afd4dacff993a1225be32c1992f21ab71416b2",
         "cbcf1c0b87ca349500be5cd79a07004a798857553f3358f354490ce2ea6f81f2",
         "VIVO",
         "24.207.238.157",
         "-16.868310056552748",
         "-49.1066257276867",
         "bae054174539873cbae5cc8dfc96e61bfdd7d40f8de4b1122db06f9396239b85",
         "c739acb36a887d96736f8741f92e4668825409117bfb005356c01f23bd67418e",
         "true",
         "login-authentication",
         "v1/login",
         "iOS 17",
         "iPhone 15 Pro",
         "2.0.3",
         "0",
         "1730451944000.0",
         "2024-11-01"
        ],
        [
         "224456108956907cd3e01b9351c661f46df3638e2fe7c5868ae93bc2fbd827a3",
         "4c4f46616e24c5415f5971e4c7c9f03e9e7f6811c854fde2d0815fc259a9ad30",
         "OI",
         "134.233.248.217",
         "-21.27361610252252",
         "-51.36096727986295",
         "67c80222ad9dd8c3f9986f92b147f83765363b486b8354b68be19a37b878330c",
         "98f46f877925be3710ee3c83dd09b5e523203d51ba8d4f56afdda8d4d6f1353f",
         "true",
         "login-authentication",
         "v1/login",
         "Android 14 (Stock Android)",
         "Google Pixel 7a",
         "2.0.2",
         "0",
         "1730512985000.0",
         "2024-11-02"
        ],
        [
         "229c7b49fba0e3b861b5fc43cd652e9c05c52d3c63589c99d1c5b1908aa5edd2",
         "c2f8c35acec2a67a1da688ad3d7d0e0c1ea1bbf6d2d2f3738ee7695f8b53c017",
         "VIVO",
         "142.40.0.144",
         "-5.814031456079968",
         "-35.331578825924815",
         "84e9f90aebca5d3f91b9b96d4806151b28307ada2e57a913c86f1271cdc3395f",
         "fadea2bc5551d1258ecf9d921fec33c7e807ca4ef1b31c1e856606c43d4e5759",
         "false",
         "login-authentication",
         "v1/login",
         "Android 13 (MIUI 14)",
         "Poco X5 Pro",
         "2.0.3",
         "0",
         "1730430279000.0",
         "2024-11-01"
        ],
        [
         "147dae0dab9c1ec7aa07861d4c0568f3ea54d3a7ec995d4ba5aa2ae293fa9f34",
         "9182c64cd60d92a2facc9ca3686fc9fd925dc2d4c871c55053696d1739c114f2",
         "VIVO",
         "85.43.38.164",
         "-6.979254146753711",
         "-35.24811240817165",
         "5b84ad3414d5fdba92023e1edc84c5a2b8323ba399de67375b3c91fa5c1090fd",
         "86e3d2c576e321aaef5cf48b675380a7c9a2468db53c733b68348159d00c4646",
         "true",
         "login-authentication",
         "v1/login",
         "Android 13 (MyUX)",
         "Motorola Razr 40 Ultra",
         "2.0.3",
         "0",
         "1730530833000.0",
         "2024-11-02"
        ],
        [
         "d6fe5cbb09be6da0d63f10c8feffb115abdda132488bbd4f5dfccd911759b6c1",
         "ee4dcd6246162b25c95f2514da337704b6f88b5555813e3a9903e642e8c2924f",
         "CLARO",
         "155.8.226.160",
         "-11.362730408444724",
         "-37.30090240985121",
         "17b80eee40e84f00c160becc1a4f4b7820c158d2f73318efa238bee3a55970ba",
         "4f342c713fd98368302637823cb994f251c26f060c3d6ee47a37a282ff7047f4",
         "false",
         "login-authentication",
         "v1/login",
         "iOS 17",
         "iPhone 14 Pro",
         "2.0.3",
         "0",
         "1730588094000.0",
         "2024-11-02"
        ],
        [
         "3ad33f45327b7b62df9c435fa414f335aa8b9e71a325b2beadd4d204068c3898",
         "ab2070a4e39acb2636812e64083a67beb345eb186101cbf61d2f5f267ae8b5a6",
         "OI",
         "16.232.67.188",
         "-8.319845218211931",
         "-35.021676324775946",
         "c0f362b558d7f09612aa04ca792fe5783deadd47436b0c8ea9364c5688ee597b",
         "8fefeb5eff570727cbb8ecbe8429301f6da468a43648206351a1e8ad10249ec7",
         "true",
         "login-authentication",
         "v1/login",
         "iOS 16",
         "iPhone X",
         "2.0.3",
         "0",
         "1730536241000.0",
         "2024-11-02"
        ],
        [
         "ffa0a2a52ab034ade872a791323d65cc3df53cbcd45b2595481bb862937c59c2",
         "9a7223e71d456efa5f5653112944cbe4b26c09527df4e6641a5d55df7bf29573",
         "CLARO",
         "209.252.198.97",
         "-2.560529396104336",
         "-44.22196452251703",
         "68cb2b687d57e5e8e13d079ed4ada1783ebb55ca176a92fcd175509af646127c",
         "4568b9a552a729078fb420deca6eaa1138d29019315efde260f0e11a8575cf1f",
         "true",
         "login-authentication",
         "v1/login",
         "iOS 17",
         "iPhone 13 Pro Max",
         "2.0.3",
         "0",
         "1730440899000.0",
         "2024-11-01"
        ],
        [
         "27014122b53a1360db8bfa23dc31a28ba4054c8e8aa467949a88c5e1a8cebba1",
         "c6e8218a671a19b20eee15d0c90879ae01da4ce21b7e5a1833c0a7a5b7cd559b",
         "CLARO",
         "17.31.200.72",
         "-20.768919813069726",
         "-40.17583513845812",
         "4ffb80e6dfd570fd415dffba67ce229babd33e97d056d8603fb2a93623f4de18",
         "7e155d5ee6a9e2890f0ee2e3f4ed2115ceb1be491e7710848dafc7eb0cc10002",
         "true",
         "login-authentication",
         "v1/login",
         "Android 13 (MIUI 14)",
         "Poco X5 Pro",
         "2.0.3",
         "0",
         "1730538006000.0",
         "2024-11-02"
        ],
        [
         "268670e6c7ce055ff95951c8d4a870b13e20738122304b1a09282c19b55f4ed8",
         "57d318554f68d477da313c7acea9d333390394c4f3bf224911ed9dbbcdee6ca0",
         "VIVO",
         "19.183.2.19",
         "-3.7775510615455254",
         "-38.61874184048658",
         "ef18fc0f8dd86d38111592fc7df72680d5e611e24969d4fd3d718566021ebfe1",
         "8230e01690da11c88dad5b34db5c59cc1d1116795e2b7a2ab7b08f52d93b8324",
         "true",
         "login-authentication",
         "v1/login",
         "Android 13 (Realme UI 4.0)",
         "Realme 11 Pro+",
         "2.0.3",
         "0",
         "1730476585000.0",
         "2024-11-01"
        ],
        [
         "522e98dbaea2982e334be5bbb87b3b1238198a8a85cbcc68e89dfc09774db02f",
         "34df080597a1e6068bd3affcbe4aaeb01f2aefcf5ec914562a91039c31976208",
         "VIVO",
         "116.180.28.178",
         "-9.455553832386729",
         "-48.67339633036817",
         "7616ecbc9cd7ab5a8e6f8396b15bde9cb7cc4e997ad5f8549d20d5a9e05f22a4",
         "44c13bf06cf5fc3f1222cbffc0841258daab84c562ad4b96fb94d1cacb2434e2",
         "true",
         "login-authentication",
         "v1/login",
         "iOS 15.7.8",
         "iPhone 7",
         "2.0.3",
         "0",
         "1730488992000.0",
         "2024-11-01"
        ],
        [
         "3121462af33c74cacda85106ca288fcc1bf1090b09e6362c0689cedc45b0b842",
         "d5de95020b9429c02e096e3510b7307e11b1fa8957bc1bcfccee6a314fdf60eb",
         "CLARO",
         "158.239.198.161",
         "-5.370536318600085",
         "-47.33990883693613",
         "4ffb80e6dfd570fd415dffba67ce229babd33e97d056d8603fb2a93623f4de18",
         "048ce83923e380e1c6af77eec4f61917e63bff98a68171220050089d4fa885bf",
         "true",
         "login-authentication",
         "v1/login",
         "Android 13 (Funtouch OS 13)",
         "Vivo X90",
         "2.0.2",
         "0",
         "1730587988000.0",
         "2024-11-02"
        ],
        [
         "2e8662e5c3545947cc10a9493b909f6a42fbbe228eff0b7b1574549ae61bcb03",
         "99b73611afca92aea3282028c97d151186f792fcb025d2a09f5d3e504d8422cb",
         "OI",
         "112.29.126.88",
         "-19.733216665899384",
         "-44.25156131759471",
         "b794d8e1826c1348feea79fdde7cab6d55666b039339eb6fd05bac8e937d6fcf",
         "c4888bf81759548daa3d0ba75ccdcbb9f9cfe4ac18d786cb9abcc4fbc68a7496",
         "true",
         "login-authentication",
         "v1/login",
         "Android 13 (MyUX)",
         "Motorola Moto G Power 2023",
         "2.0.3",
         "0",
         "1730564694000.0",
         "2024-11-02"
        ],
        [
         "2e1d2eea427eec7ad46f70e08d134ecd7d5ba164109b83a74a3881be1dc31af1",
         "1b31eca3ff6475ba4781c4ea2b3eebd093e5e66aa92bb38d7242a0435d39756a",
         "CLARO",
         "101.215.193.166",
         "-23.568582303899642",
         "-46.37166842006189",
         "9a6c6d25a55600d49cdfae816b6f1513d559509c396b2a0d949c69706375f6cc",
         "d5008cb6fbe6f30e7802796dac782db9d713799dcd52f2e71a7c5d6fa36fe735",
         "false",
         "login-authentication",
         "v1/login",
         "Android 13 (MIUI 14)",
         "Xiaomi 13 Lite",
         "2.0.3",
         "0",
         "1730429583000.0",
         "2024-11-01"
        ],
        [
         "ca379814fd3fd34c078427b52002242ac43c71652e662f90d6e2c8be9f1a357c",
         "61496269d71b1245adb08b571349f43940fa4ddab80c6a1231e611adb4421b0d",
         "CLARO",
         "128.230.108.61",
         "2.4417739467763377",
         "-61.96509737793625",
         "a571d1583e3edf18a3f44d040fee27fe008320269dd6042a5e5af58b84ec01d0",
         "63069cc44ddb669fa1004b835c16d9ed17e3e858b20cec66f5e8c63b3bac24f7",
         "true",
         "login-authentication",
         "v1/login",
         "Android 13",
         "ZTE Nubia Z50",
         "2.0.2",
         "0",
         "1730520874000.0",
         "2024-11-02"
        ],
        [
         "c2ccc8356abc67f0f4fa24abc921f7ebce8cabdcb5065e73149bc3bcfefb9b62",
         "1d56d4f688344c140fcbfef4188ea4f2ccb014ce764f35cdb31530ef23b87f15",
         "OI",
         "68.196.57.146",
         "-18.917113537126504",
         "-57.731273681137075",
         "1dd6e1b6428fe93567a9814e6389895dcc2594708047c00b2ad6e0e489149ae6",
         "50ebe934e00aa3347b88d480ce5af1924233d5f72ff1374aeac64783550f40fc",
         "true",
         "login-authentication",
         "v1/login",
         "iOS 17",
         "iPhone 15 Plus",
         "2.0.3",
         "0",
         "1730431273000.0",
         "2024-11-01"
        ],
        [
         "33b36a9bbfc6b7cf988f289bae149c920b31f7d3cd1e0af2d5394f0d7b01caf7",
         "61ad4e88ee89ece4a74a2e021894f3ed77565eee21df44cc1840367f143f64eb",
         "VIVO",
         "148.13.146.42",
         "-7.136786372387304",
         "-39.218045943287706",
         "8ff7c44710441a30c17e2298f9c14f8ed3431ecee5bf2e2b1cb4dcf2b147a1ff",
         "b99c48ce33df239e122ed368e551e801d194df75ba44201f277dedb335ce14cf",
         "true",
         "login-authentication",
         "v1/login",
         "iOS 17",
         "iPhone 14 Pro Max",
         "2.0.2",
         "0",
         "1730524436000.0",
         "2024-11-02"
        ]
       ],
       "datasetInfos": [],
       "dbfsResultPath": null,
       "isJsonSchema": true,
       "metadata": {
        "dataframeName": "_sqldf",
        "executionCount": 1
       },
       "overflow": false,
       "plotOptions": {
        "customPlotOptions": {},
        "displayType": "table",
        "pivotAggregation": null,
        "pivotColumns": null,
        "xColumns": null,
        "yColumns": null
       },
       "removedWidgets": [],
       "schema": [
        {
         "metadata": "{}",
         "name": "imei",
         "type": "\"string\""
        },
        {
         "metadata": "{}",
         "name": "mac",
         "type": "\"string\""
        },
        {
         "metadata": "{}",
         "name": "network",
         "type": "\"string\""
        },
        {
         "metadata": "{}",
         "name": "client_ip",
         "type": "\"string\""
        },
        {
         "metadata": "{}",
         "name": "latitude",
         "type": "\"string\""
        },
        {
         "metadata": "{}",
         "name": "longitude",
         "type": "\"string\""
        },
        {
         "metadata": "{}",
         "name": "uid",
         "type": "\"string\""
        },
        {
         "metadata": "{}",
         "name": "password",
         "type": "\"string\""
        },
        {
         "metadata": "{}",
         "name": "transaction",
         "type": "\"string\""
        },
        {
         "metadata": "{}",
         "name": "api",
         "type": "\"string\""
        },
        {
         "metadata": "{}",
         "name": "endpoint",
         "type": "\"string\""
        },
        {
         "metadata": "{}",
         "name": "os",
         "type": "\"string\""
        },
        {
         "metadata": "{}",
         "name": "phone_brand",
         "type": "\"string\""
        },
        {
         "metadata": "{}",
         "name": "app_version",
         "type": "\"string\""
        },
        {
         "metadata": "{}",
         "name": "error",
         "type": "\"string\""
        },
        {
         "metadata": "{}",
         "name": "timestamp",
         "type": "\"string\""
        },
        {
         "metadata": "{}",
         "name": "dat_ref",
         "type": "\"string\""
        }
       ],
       "type": "table"
      }
     },
     "output_type": "display_data"
    }
   ],
   "source": [
    "%sql\n",
    "select * from bronze_mobile.access"
   ]
  },
  {
   "cell_type": "code",
   "execution_count": 0,
   "metadata": {
    "application/vnd.databricks.v1+cell": {
     "cellMetadata": {
      "byteLimit": 2048000,
      "implicitDf": true,
      "rowLimit": 10000
     },
     "inputWidgets": {},
     "nuid": "172ad423-87af-4a15-b628-e4c601df52ee",
     "showTitle": false,
     "tableResultSettingsMap": {},
     "title": ""
    }
   },
   "outputs": [
    {
     "data": {
      "text/html": [
       "<style scoped>\n",
       "  .table-result-container {\n",
       "    max-height: 300px;\n",
       "    overflow: auto;\n",
       "  }\n",
       "  table, th, td {\n",
       "    border: 1px solid black;\n",
       "    border-collapse: collapse;\n",
       "  }\n",
       "  th, td {\n",
       "    padding: 5px;\n",
       "  }\n",
       "  th {\n",
       "    text-align: left;\n",
       "  }\n",
       "</style><div class='table-result-container'><table class='table-result'><thead style='background-color: white'><tr><th>IMEI</th><th>MAC</th><th>NETWORK</th><th>IP</th><th>LATITUDE</th><th>LONGITUDE</th><th>UID</th><th>PASSWORD</th><th>TRANSACTION</th><th>FEATURE</th><th>FEATURE_FLOW</th><th>OPERAT_SYSTEM</th><th>PHONE_BRAND</th><th>APP_VERSION</th><th>ERROR_INF</th><th>DT_EVENT</th><th>DAT_REF</th></tr></thead><tbody><tr><td>57e4c51a4f1d2a7df81978b13b4c1bc77ad0e48be3552e84e7a8b1291bb77b9e</td><td>fd4ac89a2b04cb6ae619726140d2bb215814bcb05ac5b26853f056c5be7d0681</td><td>CLARO</td><td>43.148.34.119</td><td>-10.550478023930639</td><td>-37.087508376536086</td><td>2bfe0fe70943da3060aff4c44d7779817922707c3103b10637669f520494f5e8</td><td>11a6512f135fa2f2438a867d27cf433df7d48eb9813c540d50d1c3345adaed17</td><td>true</td><td>Login</td><td>Login com senha</td><td>iOS 17</td><td>iPhone SE 3ª Geração (2022)</td><td>2.0.3</td><td>Oper. com Sucesso</td><td>2024-11-01T16:50:17Z</td><td>2024-11-01</td></tr><tr><td>5a9425f67e853ec18b04b7d4e04bf1d1a36683c0b244677b615327c56ea9eaaa</td><td>a78f5a887aa73002b59f29b8f38d6dd590a9d2f2b6b64aa2092777c8acf58a36</td><td>CLARO</td><td>152.168.27.98</td><td>-26.999743852387805</td><td>-49.14996547763658</td><td>802402cd515a37ae50cb95268db222988f8f8d30f3d365f868b6b5ce21226f3d</td><td>d707cb2451a879c95bd898629b457f347a2695d5fa293cf6d8f2e58b73528c1f</td><td>true</td><td>Login</td><td>Login com senha</td><td>iOS 17</td><td>iPhone 15</td><td>2.0.2</td><td>Oper. com Sucesso</td><td>2024-11-01T08:43:21Z</td><td>2024-11-01</td></tr><tr><td>95525d043d18461a222ea4259fb04d5c31cdf3855c4b09d4ac834bda34064bff</td><td>2577aad776d4f9ffaa0ce8dbc3af7815349ff533d92515588578fecdc5d83598</td><td>OI</td><td>34.129.55.53</td><td>2.23418006051901</td><td>-60.53411484642213</td><td>9ce070bfb485b40ae80dccb0d93d9bd01bd09a8a2956f42db9c1a54941415379</td><td>89d4398c13b947ba32da33d450853680b827f5373296e9e8fe5b24c2f5205428</td><td>true</td><td>Login</td><td>Login com senha</td><td>iOS 17</td><td>iPhone 15 Pro</td><td>2.0.3</td><td>Oper. com Sucesso</td><td>2024-11-01T16:23:17Z</td><td>2024-11-01</td></tr><tr><td>60c2082c6af5175f9db8a696b18b12bc6a8cb4fa2b7505ec900fbffce365763c</td><td>a6f6bf0de894767230f4471fdedf751c57bfd8b1ebfb0955c8c8a0c33f1177b3</td><td>TIM</td><td>199.68.26.221</td><td>-5.958966250616518</td><td>-35.455133218816705</td><td>ff4c3949ada60e73053623b268ddb1b933491c2ba26563c86d29b7e607bb1207</td><td>b4b71f280e4cb76ecdcfd8df722bac5655600e1fbedad236165917cae5cd8028</td><td>true</td><td>Login</td><td>Login com senha</td><td>iOS 6.1.6</td><td>iPhone 3GS</td><td>2.0.3</td><td>Oper. com Sucesso</td><td>2024-11-01T13:28:04Z</td><td>2024-11-01</td></tr><tr><td>229c7b49fba0e3b861b5fc43cd652e9c05c52d3c63589c99d1c5b1908aa5edd2</td><td>c2f8c35acec2a67a1da688ad3d7d0e0c1ea1bbf6d2d2f3738ee7695f8b53c017</td><td>VIVO</td><td>142.40.0.144</td><td>-5.814031456079968</td><td>-35.331578825924815</td><td>84e9f90aebca5d3f91b9b96d4806151b28307ada2e57a913c86f1271cdc3395f</td><td>fadea2bc5551d1258ecf9d921fec33c7e807ca4ef1b31c1e856606c43d4e5759</td><td>false</td><td>Login</td><td>Login com senha</td><td>Android 13 (MIUI 14)</td><td>Poco X5 Pro</td><td>2.0.3</td><td>Oper. com Sucesso</td><td>2024-11-01T03:04:39Z</td><td>2024-11-01</td></tr><tr><td>43b79693a9e9fa213350ce9c5fb7bbf73b358f3f77c00c41adbea0ac6acb53c8</td><td>aca4f0b9652f3b32f122cdfb8c8b5b1e5d1d4d4da8983b9674fabd1fc8fcdb40</td><td>CLARO</td><td>35.158.14.240</td><td>-8.185502993982587</td><td>-34.748021134192776</td><td>84e9f90aebca5d3f91b9b96d4806151b28307ada2e57a913c86f1271cdc3395f</td><td>36abe4e1d98def6bf1911f6b7fc1ccb0b5afe20985a79a080c3b26f9cdbb1a41</td><td>false</td><td>Login</td><td>Login com senha</td><td>HarmonyOS 3.1 (internacional: EMUI 13)</td><td>Huawei P60 Pro</td><td>2.0.3</td><td>Oper. com Sucesso</td><td>2024-11-01T05:05:40Z</td><td>2024-11-01</td></tr><tr><td>4db1dd69a2f32abf5c1e6a5b35afd4dacff993a1225be32c1992f21ab71416b2</td><td>cbcf1c0b87ca349500be5cd79a07004a798857553f3358f354490ce2ea6f81f2</td><td>VIVO</td><td>24.207.238.157</td><td>-16.868310056552748</td><td>-49.1066257276867</td><td>bae054174539873cbae5cc8dfc96e61bfdd7d40f8de4b1122db06f9396239b85</td><td>c739acb36a887d96736f8741f92e4668825409117bfb005356c01f23bd67418e</td><td>true</td><td>Login</td><td>Login com senha</td><td>iOS 17</td><td>iPhone 15 Pro</td><td>2.0.3</td><td>Oper. com Sucesso</td><td>2024-11-01T09:05:44Z</td><td>2024-11-01</td></tr><tr><td>93669127b92f3a6daa0f29530e12d44590fa214585938c63c78f1fdcca873aa8</td><td>13e11e03f916f279ce700ec270014b8ec78f98659a984a2cd17b49116d5e4179</td><td>TIM</td><td>81.67.131.226</td><td>-7.956982117512137</td><td>-34.86272820723203</td><td>10cc3c6d480fbf356fcd673c06acb701f9e683f0677ef60466de3a3349583a2c</td><td>31c8b8a4ac77473185f88e6fb9c5c67e0a378ff745f6fa853625872a4dd3b15c</td><td>true</td><td>Login</td><td>Login com senha</td><td>Android 13</td><td>Sony Xperia 1 V</td><td>2.0.3</td><td>Senha incorreta</td><td>2024-11-01T16:27:54Z</td><td>2024-11-01</td></tr><tr><td>a11cc3bba1c7b431e5e14d6f931014d1b4c8420ba844b38accad251c5513f36e</td><td>d75db5918865f357ef5a4667113c2c465a76d00cf388284371ecdd0f9da6f900</td><td>VIVO</td><td>27.207.238.40</td><td>-11.899060075760922</td><td>-61.30519517393263</td><td>a374fe79a984e5a15cfc6036fda7911889a24e0b5242b0f752ce478580736530</td><td>dbcb51b4ec6d47c9bba7b54c7d1f426b768144483db4862a907cc7700ae78d94</td><td>true</td><td>Login</td><td>Login com senha</td><td>Android 12 (XOS 12)</td><td>Infinix Zero Ultra</td><td>2.0.3</td><td>Oper. com Sucesso</td><td>2024-11-01T00:33:55Z</td><td>2024-11-01</td></tr><tr><td>2e1d2eea427eec7ad46f70e08d134ecd7d5ba164109b83a74a3881be1dc31af1</td><td>1b31eca3ff6475ba4781c4ea2b3eebd093e5e66aa92bb38d7242a0435d39756a</td><td>CLARO</td><td>101.215.193.166</td><td>-23.568582303899642</td><td>-46.37166842006189</td><td>9a6c6d25a55600d49cdfae816b6f1513d559509c396b2a0d949c69706375f6cc</td><td>d5008cb6fbe6f30e7802796dac782db9d713799dcd52f2e71a7c5d6fa36fe735</td><td>false</td><td>Login</td><td>Login com senha</td><td>Android 13 (MIUI 14)</td><td>Xiaomi 13 Lite</td><td>2.0.3</td><td>Oper. com Sucesso</td><td>2024-11-01T02:53:03Z</td><td>2024-11-01</td></tr><tr><td>522e98dbaea2982e334be5bbb87b3b1238198a8a85cbcc68e89dfc09774db02f</td><td>34df080597a1e6068bd3affcbe4aaeb01f2aefcf5ec914562a91039c31976208</td><td>VIVO</td><td>116.180.28.178</td><td>-9.455553832386729</td><td>-48.67339633036817</td><td>7616ecbc9cd7ab5a8e6f8396b15bde9cb7cc4e997ad5f8549d20d5a9e05f22a4</td><td>44c13bf06cf5fc3f1222cbffc0841258daab84c562ad4b96fb94d1cacb2434e2</td><td>true</td><td>Login</td><td>Login com senha</td><td>iOS 15.7.8</td><td>iPhone 7</td><td>2.0.3</td><td>Oper. com Sucesso</td><td>2024-11-01T19:23:12Z</td><td>2024-11-01</td></tr><tr><td>c2ccc8356abc67f0f4fa24abc921f7ebce8cabdcb5065e73149bc3bcfefb9b62</td><td>1d56d4f688344c140fcbfef4188ea4f2ccb014ce764f35cdb31530ef23b87f15</td><td>OI</td><td>68.196.57.146</td><td>-18.917113537126504</td><td>-57.731273681137075</td><td>1dd6e1b6428fe93567a9814e6389895dcc2594708047c00b2ad6e0e489149ae6</td><td>50ebe934e00aa3347b88d480ce5af1924233d5f72ff1374aeac64783550f40fc</td><td>true</td><td>Login</td><td>Login com senha</td><td>iOS 17</td><td>iPhone 15 Plus</td><td>2.0.3</td><td>Oper. com Sucesso</td><td>2024-11-01T03:21:13Z</td><td>2024-11-01</td></tr><tr><td>268670e6c7ce055ff95951c8d4a870b13e20738122304b1a09282c19b55f4ed8</td><td>57d318554f68d477da313c7acea9d333390394c4f3bf224911ed9dbbcdee6ca0</td><td>VIVO</td><td>19.183.2.19</td><td>-3.7775510615455254</td><td>-38.61874184048658</td><td>ef18fc0f8dd86d38111592fc7df72680d5e611e24969d4fd3d718566021ebfe1</td><td>8230e01690da11c88dad5b34db5c59cc1d1116795e2b7a2ab7b08f52d93b8324</td><td>true</td><td>Login</td><td>Login com senha</td><td>Android 13 (Realme UI 4.0)</td><td>Realme 11 Pro+</td><td>2.0.3</td><td>Oper. com Sucesso</td><td>2024-11-01T15:56:25Z</td><td>2024-11-01</td></tr><tr><td>ffa0a2a52ab034ade872a791323d65cc3df53cbcd45b2595481bb862937c59c2</td><td>9a7223e71d456efa5f5653112944cbe4b26c09527df4e6641a5d55df7bf29573</td><td>CLARO</td><td>209.252.198.97</td><td>-2.560529396104336</td><td>-44.22196452251703</td><td>68cb2b687d57e5e8e13d079ed4ada1783ebb55ca176a92fcd175509af646127c</td><td>4568b9a552a729078fb420deca6eaa1138d29019315efde260f0e11a8575cf1f</td><td>true</td><td>Login</td><td>Login com senha</td><td>iOS 17</td><td>iPhone 13 Pro Max</td><td>2.0.3</td><td>Oper. com Sucesso</td><td>2024-11-01T06:01:39Z</td><td>2024-11-01</td></tr></tbody></table></div>"
      ]
     },
     "metadata": {
      "application/vnd.databricks.v1+output": {
       "addedWidgets": {},
       "aggData": [],
       "aggError": "",
       "aggOverflow": false,
       "aggSchema": [],
       "aggSeriesLimitReached": false,
       "aggType": "",
       "arguments": {},
       "columnCustomDisplayInfos": {},
       "data": [
        [
         "57e4c51a4f1d2a7df81978b13b4c1bc77ad0e48be3552e84e7a8b1291bb77b9e",
         "fd4ac89a2b04cb6ae619726140d2bb215814bcb05ac5b26853f056c5be7d0681",
         "CLARO",
         "43.148.34.119",
         "-10.550478023930639",
         "-37.087508376536086",
         "2bfe0fe70943da3060aff4c44d7779817922707c3103b10637669f520494f5e8",
         "11a6512f135fa2f2438a867d27cf433df7d48eb9813c540d50d1c3345adaed17",
         true,
         "Login",
         "Login com senha",
         "iOS 17",
         "iPhone SE 3ª Geração (2022)",
         "2.0.3",
         "Oper. com Sucesso",
         "2024-11-01T16:50:17Z",
         "2024-11-01"
        ],
        [
         "5a9425f67e853ec18b04b7d4e04bf1d1a36683c0b244677b615327c56ea9eaaa",
         "a78f5a887aa73002b59f29b8f38d6dd590a9d2f2b6b64aa2092777c8acf58a36",
         "CLARO",
         "152.168.27.98",
         "-26.999743852387805",
         "-49.14996547763658",
         "802402cd515a37ae50cb95268db222988f8f8d30f3d365f868b6b5ce21226f3d",
         "d707cb2451a879c95bd898629b457f347a2695d5fa293cf6d8f2e58b73528c1f",
         true,
         "Login",
         "Login com senha",
         "iOS 17",
         "iPhone 15",
         "2.0.2",
         "Oper. com Sucesso",
         "2024-11-01T08:43:21Z",
         "2024-11-01"
        ],
        [
         "95525d043d18461a222ea4259fb04d5c31cdf3855c4b09d4ac834bda34064bff",
         "2577aad776d4f9ffaa0ce8dbc3af7815349ff533d92515588578fecdc5d83598",
         "OI",
         "34.129.55.53",
         "2.23418006051901",
         "-60.53411484642213",
         "9ce070bfb485b40ae80dccb0d93d9bd01bd09a8a2956f42db9c1a54941415379",
         "89d4398c13b947ba32da33d450853680b827f5373296e9e8fe5b24c2f5205428",
         true,
         "Login",
         "Login com senha",
         "iOS 17",
         "iPhone 15 Pro",
         "2.0.3",
         "Oper. com Sucesso",
         "2024-11-01T16:23:17Z",
         "2024-11-01"
        ],
        [
         "60c2082c6af5175f9db8a696b18b12bc6a8cb4fa2b7505ec900fbffce365763c",
         "a6f6bf0de894767230f4471fdedf751c57bfd8b1ebfb0955c8c8a0c33f1177b3",
         "TIM",
         "199.68.26.221",
         "-5.958966250616518",
         "-35.455133218816705",
         "ff4c3949ada60e73053623b268ddb1b933491c2ba26563c86d29b7e607bb1207",
         "b4b71f280e4cb76ecdcfd8df722bac5655600e1fbedad236165917cae5cd8028",
         true,
         "Login",
         "Login com senha",
         "iOS 6.1.6",
         "iPhone 3GS",
         "2.0.3",
         "Oper. com Sucesso",
         "2024-11-01T13:28:04Z",
         "2024-11-01"
        ],
        [
         "229c7b49fba0e3b861b5fc43cd652e9c05c52d3c63589c99d1c5b1908aa5edd2",
         "c2f8c35acec2a67a1da688ad3d7d0e0c1ea1bbf6d2d2f3738ee7695f8b53c017",
         "VIVO",
         "142.40.0.144",
         "-5.814031456079968",
         "-35.331578825924815",
         "84e9f90aebca5d3f91b9b96d4806151b28307ada2e57a913c86f1271cdc3395f",
         "fadea2bc5551d1258ecf9d921fec33c7e807ca4ef1b31c1e856606c43d4e5759",
         false,
         "Login",
         "Login com senha",
         "Android 13 (MIUI 14)",
         "Poco X5 Pro",
         "2.0.3",
         "Oper. com Sucesso",
         "2024-11-01T03:04:39Z",
         "2024-11-01"
        ],
        [
         "43b79693a9e9fa213350ce9c5fb7bbf73b358f3f77c00c41adbea0ac6acb53c8",
         "aca4f0b9652f3b32f122cdfb8c8b5b1e5d1d4d4da8983b9674fabd1fc8fcdb40",
         "CLARO",
         "35.158.14.240",
         "-8.185502993982587",
         "-34.748021134192776",
         "84e9f90aebca5d3f91b9b96d4806151b28307ada2e57a913c86f1271cdc3395f",
         "36abe4e1d98def6bf1911f6b7fc1ccb0b5afe20985a79a080c3b26f9cdbb1a41",
         false,
         "Login",
         "Login com senha",
         "HarmonyOS 3.1 (internacional: EMUI 13)",
         "Huawei P60 Pro",
         "2.0.3",
         "Oper. com Sucesso",
         "2024-11-01T05:05:40Z",
         "2024-11-01"
        ],
        [
         "4db1dd69a2f32abf5c1e6a5b35afd4dacff993a1225be32c1992f21ab71416b2",
         "cbcf1c0b87ca349500be5cd79a07004a798857553f3358f354490ce2ea6f81f2",
         "VIVO",
         "24.207.238.157",
         "-16.868310056552748",
         "-49.1066257276867",
         "bae054174539873cbae5cc8dfc96e61bfdd7d40f8de4b1122db06f9396239b85",
         "c739acb36a887d96736f8741f92e4668825409117bfb005356c01f23bd67418e",
         true,
         "Login",
         "Login com senha",
         "iOS 17",
         "iPhone 15 Pro",
         "2.0.3",
         "Oper. com Sucesso",
         "2024-11-01T09:05:44Z",
         "2024-11-01"
        ],
        [
         "93669127b92f3a6daa0f29530e12d44590fa214585938c63c78f1fdcca873aa8",
         "13e11e03f916f279ce700ec270014b8ec78f98659a984a2cd17b49116d5e4179",
         "TIM",
         "81.67.131.226",
         "-7.956982117512137",
         "-34.86272820723203",
         "10cc3c6d480fbf356fcd673c06acb701f9e683f0677ef60466de3a3349583a2c",
         "31c8b8a4ac77473185f88e6fb9c5c67e0a378ff745f6fa853625872a4dd3b15c",
         true,
         "Login",
         "Login com senha",
         "Android 13",
         "Sony Xperia 1 V",
         "2.0.3",
         "Senha incorreta",
         "2024-11-01T16:27:54Z",
         "2024-11-01"
        ],
        [
         "a11cc3bba1c7b431e5e14d6f931014d1b4c8420ba844b38accad251c5513f36e",
         "d75db5918865f357ef5a4667113c2c465a76d00cf388284371ecdd0f9da6f900",
         "VIVO",
         "27.207.238.40",
         "-11.899060075760922",
         "-61.30519517393263",
         "a374fe79a984e5a15cfc6036fda7911889a24e0b5242b0f752ce478580736530",
         "dbcb51b4ec6d47c9bba7b54c7d1f426b768144483db4862a907cc7700ae78d94",
         true,
         "Login",
         "Login com senha",
         "Android 12 (XOS 12)",
         "Infinix Zero Ultra",
         "2.0.3",
         "Oper. com Sucesso",
         "2024-11-01T00:33:55Z",
         "2024-11-01"
        ],
        [
         "2e1d2eea427eec7ad46f70e08d134ecd7d5ba164109b83a74a3881be1dc31af1",
         "1b31eca3ff6475ba4781c4ea2b3eebd093e5e66aa92bb38d7242a0435d39756a",
         "CLARO",
         "101.215.193.166",
         "-23.568582303899642",
         "-46.37166842006189",
         "9a6c6d25a55600d49cdfae816b6f1513d559509c396b2a0d949c69706375f6cc",
         "d5008cb6fbe6f30e7802796dac782db9d713799dcd52f2e71a7c5d6fa36fe735",
         false,
         "Login",
         "Login com senha",
         "Android 13 (MIUI 14)",
         "Xiaomi 13 Lite",
         "2.0.3",
         "Oper. com Sucesso",
         "2024-11-01T02:53:03Z",
         "2024-11-01"
        ],
        [
         "522e98dbaea2982e334be5bbb87b3b1238198a8a85cbcc68e89dfc09774db02f",
         "34df080597a1e6068bd3affcbe4aaeb01f2aefcf5ec914562a91039c31976208",
         "VIVO",
         "116.180.28.178",
         "-9.455553832386729",
         "-48.67339633036817",
         "7616ecbc9cd7ab5a8e6f8396b15bde9cb7cc4e997ad5f8549d20d5a9e05f22a4",
         "44c13bf06cf5fc3f1222cbffc0841258daab84c562ad4b96fb94d1cacb2434e2",
         true,
         "Login",
         "Login com senha",
         "iOS 15.7.8",
         "iPhone 7",
         "2.0.3",
         "Oper. com Sucesso",
         "2024-11-01T19:23:12Z",
         "2024-11-01"
        ],
        [
         "c2ccc8356abc67f0f4fa24abc921f7ebce8cabdcb5065e73149bc3bcfefb9b62",
         "1d56d4f688344c140fcbfef4188ea4f2ccb014ce764f35cdb31530ef23b87f15",
         "OI",
         "68.196.57.146",
         "-18.917113537126504",
         "-57.731273681137075",
         "1dd6e1b6428fe93567a9814e6389895dcc2594708047c00b2ad6e0e489149ae6",
         "50ebe934e00aa3347b88d480ce5af1924233d5f72ff1374aeac64783550f40fc",
         true,
         "Login",
         "Login com senha",
         "iOS 17",
         "iPhone 15 Plus",
         "2.0.3",
         "Oper. com Sucesso",
         "2024-11-01T03:21:13Z",
         "2024-11-01"
        ],
        [
         "268670e6c7ce055ff95951c8d4a870b13e20738122304b1a09282c19b55f4ed8",
         "57d318554f68d477da313c7acea9d333390394c4f3bf224911ed9dbbcdee6ca0",
         "VIVO",
         "19.183.2.19",
         "-3.7775510615455254",
         "-38.61874184048658",
         "ef18fc0f8dd86d38111592fc7df72680d5e611e24969d4fd3d718566021ebfe1",
         "8230e01690da11c88dad5b34db5c59cc1d1116795e2b7a2ab7b08f52d93b8324",
         true,
         "Login",
         "Login com senha",
         "Android 13 (Realme UI 4.0)",
         "Realme 11 Pro+",
         "2.0.3",
         "Oper. com Sucesso",
         "2024-11-01T15:56:25Z",
         "2024-11-01"
        ],
        [
         "ffa0a2a52ab034ade872a791323d65cc3df53cbcd45b2595481bb862937c59c2",
         "9a7223e71d456efa5f5653112944cbe4b26c09527df4e6641a5d55df7bf29573",
         "CLARO",
         "209.252.198.97",
         "-2.560529396104336",
         "-44.22196452251703",
         "68cb2b687d57e5e8e13d079ed4ada1783ebb55ca176a92fcd175509af646127c",
         "4568b9a552a729078fb420deca6eaa1138d29019315efde260f0e11a8575cf1f",
         true,
         "Login",
         "Login com senha",
         "iOS 17",
         "iPhone 13 Pro Max",
         "2.0.3",
         "Oper. com Sucesso",
         "2024-11-01T06:01:39Z",
         "2024-11-01"
        ]
       ],
       "datasetInfos": [],
       "dbfsResultPath": null,
       "isJsonSchema": true,
       "metadata": {
        "dataframeName": "_sqldf",
        "executionCount": 2
       },
       "overflow": false,
       "plotOptions": {
        "customPlotOptions": {},
        "displayType": "table",
        "pivotAggregation": null,
        "pivotColumns": null,
        "xColumns": null,
        "yColumns": null
       },
       "removedWidgets": [],
       "schema": [
        {
         "metadata": "{}",
         "name": "IMEI",
         "type": "\"string\""
        },
        {
         "metadata": "{}",
         "name": "MAC",
         "type": "\"string\""
        },
        {
         "metadata": "{}",
         "name": "NETWORK",
         "type": "\"string\""
        },
        {
         "metadata": "{}",
         "name": "IP",
         "type": "\"string\""
        },
        {
         "metadata": "{}",
         "name": "LATITUDE",
         "type": "\"string\""
        },
        {
         "metadata": "{}",
         "name": "LONGITUDE",
         "type": "\"string\""
        },
        {
         "metadata": "{}",
         "name": "UID",
         "type": "\"string\""
        },
        {
         "metadata": "{}",
         "name": "PASSWORD",
         "type": "\"string\""
        },
        {
         "metadata": "{}",
         "name": "TRANSACTION",
         "type": "\"boolean\""
        },
        {
         "metadata": "{}",
         "name": "FEATURE",
         "type": "\"string\""
        },
        {
         "metadata": "{}",
         "name": "FEATURE_FLOW",
         "type": "\"string\""
        },
        {
         "metadata": "{}",
         "name": "OPERAT_SYSTEM",
         "type": "\"string\""
        },
        {
         "metadata": "{}",
         "name": "PHONE_BRAND",
         "type": "\"string\""
        },
        {
         "metadata": "{}",
         "name": "APP_VERSION",
         "type": "\"string\""
        },
        {
         "metadata": "{}",
         "name": "ERROR_INF",
         "type": "\"string\""
        },
        {
         "metadata": "{}",
         "name": "DT_EVENT",
         "type": "\"timestamp\""
        },
        {
         "metadata": "{}",
         "name": "DAT_REF",
         "type": "\"string\""
        }
       ],
       "type": "table"
      }
     },
     "output_type": "display_data"
    }
   ],
   "source": [
    "%sql\n",
    "select * from silver_mobile.tab_mobil_access"
   ]
  },
  {
   "cell_type": "code",
   "execution_count": 0,
   "metadata": {
    "application/vnd.databricks.v1+cell": {
     "cellMetadata": {
      "byteLimit": 2048000,
      "implicitDf": true,
      "rowLimit": 10000
     },
     "inputWidgets": {},
     "nuid": "49307c2d-0838-4d0b-b0f0-18ec6079104e",
     "showTitle": false,
     "tableResultSettingsMap": {},
     "title": ""
    }
   },
   "outputs": [
    {
     "data": {
      "text/html": [
       "<style scoped>\n",
       "  .table-result-container {\n",
       "    max-height: 300px;\n",
       "    overflow: auto;\n",
       "  }\n",
       "  table, th, td {\n",
       "    border: 1px solid black;\n",
       "    border-collapse: collapse;\n",
       "  }\n",
       "  th, td {\n",
       "    padding: 5px;\n",
       "  }\n",
       "  th {\n",
       "    text-align: left;\n",
       "  }\n",
       "</style><div class='table-result-container'><table class='table-result'><thead style='background-color: white'><tr><th>UID</th><th>ATTEMPT_ACCESS</th><th>SUCCESS_ACCESS</th><th>DEVICES</th><th>NETWORKS</th><th>PASSWORDS</th><th>TRANSACTIONS_DEVICES</th><th>APP_VERSIONS</th><th>LOCATIONS</th><th>RISK_FLAG</th><th>DAT_REF</th></tr></thead><tbody><tr><td>10cc3c6d480fbf356fcd673c06acb701f9e683f0677ef60466de3a3349583a2c</td><td>1</td><td>0</td><td>1</td><td>1</td><td>1</td><td>1</td><td>1</td><td>1</td><td>0</td><td>2024-11-01</td></tr><tr><td>84e9f90aebca5d3f91b9b96d4806151b28307ada2e57a913c86f1271cdc3395f</td><td>2</td><td>2</td><td>2</td><td>2</td><td>2</td><td>0</td><td>1</td><td>2</td><td>0</td><td>2024-11-01</td></tr><tr><td>ef18fc0f8dd86d38111592fc7df72680d5e611e24969d4fd3d718566021ebfe1</td><td>1</td><td>1</td><td>1</td><td>1</td><td>1</td><td>1</td><td>1</td><td>1</td><td>0</td><td>2024-11-01</td></tr><tr><td>bae054174539873cbae5cc8dfc96e61bfdd7d40f8de4b1122db06f9396239b85</td><td>1</td><td>1</td><td>1</td><td>1</td><td>1</td><td>1</td><td>1</td><td>1</td><td>0</td><td>2024-11-01</td></tr><tr><td>802402cd515a37ae50cb95268db222988f8f8d30f3d365f868b6b5ce21226f3d</td><td>1</td><td>1</td><td>1</td><td>1</td><td>1</td><td>1</td><td>1</td><td>1</td><td>0</td><td>2024-11-01</td></tr><tr><td>a374fe79a984e5a15cfc6036fda7911889a24e0b5242b0f752ce478580736530</td><td>1</td><td>1</td><td>1</td><td>1</td><td>1</td><td>1</td><td>1</td><td>1</td><td>0</td><td>2024-11-01</td></tr><tr><td>2bfe0fe70943da3060aff4c44d7779817922707c3103b10637669f520494f5e8</td><td>1</td><td>1</td><td>1</td><td>1</td><td>1</td><td>1</td><td>1</td><td>1</td><td>0</td><td>2024-11-01</td></tr><tr><td>9ce070bfb485b40ae80dccb0d93d9bd01bd09a8a2956f42db9c1a54941415379</td><td>1</td><td>1</td><td>1</td><td>1</td><td>1</td><td>1</td><td>1</td><td>1</td><td>0</td><td>2024-11-01</td></tr><tr><td>1dd6e1b6428fe93567a9814e6389895dcc2594708047c00b2ad6e0e489149ae6</td><td>1</td><td>1</td><td>1</td><td>1</td><td>1</td><td>1</td><td>1</td><td>1</td><td>0</td><td>2024-11-01</td></tr><tr><td>9a6c6d25a55600d49cdfae816b6f1513d559509c396b2a0d949c69706375f6cc</td><td>1</td><td>1</td><td>1</td><td>1</td><td>1</td><td>0</td><td>1</td><td>1</td><td>0</td><td>2024-11-01</td></tr><tr><td>7616ecbc9cd7ab5a8e6f8396b15bde9cb7cc4e997ad5f8549d20d5a9e05f22a4</td><td>1</td><td>1</td><td>1</td><td>1</td><td>1</td><td>1</td><td>1</td><td>1</td><td>0</td><td>2024-11-01</td></tr><tr><td>68cb2b687d57e5e8e13d079ed4ada1783ebb55ca176a92fcd175509af646127c</td><td>1</td><td>1</td><td>1</td><td>1</td><td>1</td><td>1</td><td>1</td><td>1</td><td>0</td><td>2024-11-01</td></tr><tr><td>ff4c3949ada60e73053623b268ddb1b933491c2ba26563c86d29b7e607bb1207</td><td>1</td><td>1</td><td>1</td><td>1</td><td>1</td><td>1</td><td>1</td><td>1</td><td>0</td><td>2024-11-01</td></tr></tbody></table></div>"
      ]
     },
     "metadata": {
      "application/vnd.databricks.v1+output": {
       "addedWidgets": {},
       "aggData": [],
       "aggError": "",
       "aggOverflow": false,
       "aggSchema": [],
       "aggSeriesLimitReached": false,
       "aggType": "",
       "arguments": {},
       "columnCustomDisplayInfos": {},
       "data": [
        [
         "10cc3c6d480fbf356fcd673c06acb701f9e683f0677ef60466de3a3349583a2c",
         1,
         0,
         1,
         1,
         1,
         1,
         1,
         1,
         0,
         "2024-11-01"
        ],
        [
         "84e9f90aebca5d3f91b9b96d4806151b28307ada2e57a913c86f1271cdc3395f",
         2,
         2,
         2,
         2,
         2,
         0,
         1,
         2,
         0,
         "2024-11-01"
        ],
        [
         "ef18fc0f8dd86d38111592fc7df72680d5e611e24969d4fd3d718566021ebfe1",
         1,
         1,
         1,
         1,
         1,
         1,
         1,
         1,
         0,
         "2024-11-01"
        ],
        [
         "bae054174539873cbae5cc8dfc96e61bfdd7d40f8de4b1122db06f9396239b85",
         1,
         1,
         1,
         1,
         1,
         1,
         1,
         1,
         0,
         "2024-11-01"
        ],
        [
         "802402cd515a37ae50cb95268db222988f8f8d30f3d365f868b6b5ce21226f3d",
         1,
         1,
         1,
         1,
         1,
         1,
         1,
         1,
         0,
         "2024-11-01"
        ],
        [
         "a374fe79a984e5a15cfc6036fda7911889a24e0b5242b0f752ce478580736530",
         1,
         1,
         1,
         1,
         1,
         1,
         1,
         1,
         0,
         "2024-11-01"
        ],
        [
         "2bfe0fe70943da3060aff4c44d7779817922707c3103b10637669f520494f5e8",
         1,
         1,
         1,
         1,
         1,
         1,
         1,
         1,
         0,
         "2024-11-01"
        ],
        [
         "9ce070bfb485b40ae80dccb0d93d9bd01bd09a8a2956f42db9c1a54941415379",
         1,
         1,
         1,
         1,
         1,
         1,
         1,
         1,
         0,
         "2024-11-01"
        ],
        [
         "1dd6e1b6428fe93567a9814e6389895dcc2594708047c00b2ad6e0e489149ae6",
         1,
         1,
         1,
         1,
         1,
         1,
         1,
         1,
         0,
         "2024-11-01"
        ],
        [
         "9a6c6d25a55600d49cdfae816b6f1513d559509c396b2a0d949c69706375f6cc",
         1,
         1,
         1,
         1,
         1,
         0,
         1,
         1,
         0,
         "2024-11-01"
        ],
        [
         "7616ecbc9cd7ab5a8e6f8396b15bde9cb7cc4e997ad5f8549d20d5a9e05f22a4",
         1,
         1,
         1,
         1,
         1,
         1,
         1,
         1,
         0,
         "2024-11-01"
        ],
        [
         "68cb2b687d57e5e8e13d079ed4ada1783ebb55ca176a92fcd175509af646127c",
         1,
         1,
         1,
         1,
         1,
         1,
         1,
         1,
         0,
         "2024-11-01"
        ],
        [
         "ff4c3949ada60e73053623b268ddb1b933491c2ba26563c86d29b7e607bb1207",
         1,
         1,
         1,
         1,
         1,
         1,
         1,
         1,
         0,
         "2024-11-01"
        ]
       ],
       "datasetInfos": [],
       "dbfsResultPath": null,
       "isJsonSchema": true,
       "metadata": {
        "dataframeName": "_sqldf",
        "executionCount": 3
       },
       "overflow": false,
       "plotOptions": {
        "customPlotOptions": {},
        "displayType": "table",
        "pivotAggregation": null,
        "pivotColumns": null,
        "xColumns": null,
        "yColumns": null
       },
       "removedWidgets": [],
       "schema": [
        {
         "metadata": "{}",
         "name": "UID",
         "type": "\"string\""
        },
        {
         "metadata": "{}",
         "name": "ATTEMPT_ACCESS",
         "type": "\"integer\""
        },
        {
         "metadata": "{}",
         "name": "SUCCESS_ACCESS",
         "type": "\"integer\""
        },
        {
         "metadata": "{}",
         "name": "DEVICES",
         "type": "\"integer\""
        },
        {
         "metadata": "{}",
         "name": "NETWORKS",
         "type": "\"integer\""
        },
        {
         "metadata": "{}",
         "name": "PASSWORDS",
         "type": "\"integer\""
        },
        {
         "metadata": "{}",
         "name": "TRANSACTIONS_DEVICES",
         "type": "\"integer\""
        },
        {
         "metadata": "{}",
         "name": "APP_VERSIONS",
         "type": "\"integer\""
        },
        {
         "metadata": "{}",
         "name": "LOCATIONS",
         "type": "\"integer\""
        },
        {
         "metadata": "{}",
         "name": "RISK_FLAG",
         "type": "\"integer\""
        },
        {
         "metadata": "{}",
         "name": "DAT_REF",
         "type": "\"string\""
        }
       ],
       "type": "table"
      }
     },
     "output_type": "display_data"
    }
   ],
   "source": [
    "%sql\n",
    "select * from gold_mobile.tabl_fraud_indi"
   ]
  }
 ],
 "metadata": {
  "application/vnd.databricks.v1+notebook": {
   "computePreferences": null,
   "dashboards": [],
   "environmentMetadata": {
    "base_environment": "",
    "client": "1"
   },
   "language": "python",
   "notebookMetadata": {
    "mostRecentlyExecutedCommandWithImplicitDF": {
     "commandId": 5802384872775936,
     "dataframes": [
      "_sqldf"
     ]
    },
    "pythonIndentUnit": 4
   },
   "notebookName": "CheckData",
   "widgets": {}
  },
  "language_info": {
   "name": "python"
  }
 },
 "nbformat": 4,
 "nbformat_minor": 0
}
