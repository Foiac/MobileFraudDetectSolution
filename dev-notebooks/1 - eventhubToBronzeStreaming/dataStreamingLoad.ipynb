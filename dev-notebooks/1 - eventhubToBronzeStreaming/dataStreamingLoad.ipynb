{
 "cells": [
  {
   "cell_type": "markdown",
   "metadata": {
    "application/vnd.databricks.v1+cell": {
     "cellMetadata": {
      "byteLimit": 2048000,
      "rowLimit": 10000
     },
     "inputWidgets": {},
     "nuid": "299eee61-2e99-463e-b846-110b57f8c549",
     "showTitle": false,
     "title": ""
    }
   },
   "source": [
    "# Load Data Streaming"
   ]
  },
  {
   "cell_type": "markdown",
   "metadata": {
    "application/vnd.databricks.v1+cell": {
     "cellMetadata": {
      "byteLimit": 2048000,
      "rowLimit": 10000
     },
     "inputWidgets": {},
     "nuid": "f7252a6b-c052-40f8-b511-65d73b78ab3d",
     "showTitle": false,
     "title": ""
    }
   },
   "source": [
    "Notebook de desenvolvimento responável por realizar processo streaming de ingestão de dados, o spark streaming busca os dados de um eventhub e escreve em formato delta table no \n",
    "Azure Data Lake Storage"
   ]
  },
  {
   "cell_type": "markdown",
   "metadata": {
    "application/vnd.databricks.v1+cell": {
     "cellMetadata": {
      "byteLimit": 2048000,
      "rowLimit": 10000
     },
     "inputWidgets": {},
     "nuid": "2fbbba82-9728-4b42-aa8d-cc086ee41baa",
     "showTitle": false,
     "title": ""
    }
   },
   "source": [
    "\n",
    "<div style=\"text-align: center; line-height: 0; padding-top: 9px;\">\n",
    "  <img src=\"https://raw.githubusercontent.com/Foiac/MobileFraudDetectSolution/main/Editaveis/eventhubstreamingingestion.png\" alt=\"SparkStreaming Ingest\" style=\"width: 800px\">\n",
    "</div>"
   ]
  },
  {
   "cell_type": "markdown",
   "metadata": {
    "application/vnd.databricks.v1+cell": {
     "cellMetadata": {
      "byteLimit": 2048000,
      "rowLimit": 10000
     },
     "inputWidgets": {},
     "nuid": "136ca833-9add-4929-9814-bd1d32d8656c",
     "showTitle": false,
     "title": ""
    }
   },
   "source": [
    "#### Import dependecies"
   ]
  },
  {
   "cell_type": "code",
   "execution_count": 0,
   "metadata": {
    "application/vnd.databricks.v1+cell": {
     "cellMetadata": {
      "byteLimit": 2048000,
      "rowLimit": 10000
     },
     "inputWidgets": {},
     "nuid": "2811e1c0-723b-4e4b-90ea-663b404a6ccf",
     "showTitle": false,
     "title": ""
    }
   },
   "outputs": [],
   "source": [
    "import pyspark.sql.functions as F\n",
    "from pyspark.sql.types import *"
   ]
  },
  {
   "cell_type": "markdown",
   "metadata": {
    "application/vnd.databricks.v1+cell": {
     "cellMetadata": {
      "byteLimit": 2048000,
      "rowLimit": 10000
     },
     "inputWidgets": {},
     "nuid": "3ac02568-5dc8-4125-8419-eac6cdf70caf",
     "showTitle": false,
     "title": ""
    }
   },
   "source": [
    "#### Path definitions and secrets"
   ]
  },
  {
   "cell_type": "code",
   "execution_count": 0,
   "metadata": {
    "application/vnd.databricks.v1+cell": {
     "cellMetadata": {
      "byteLimit": 2048000,
      "rowLimit": 10000
     },
     "inputWidgets": {},
     "nuid": "e93ecd55-8b6b-4b27-b9f8-87c06b486637",
     "showTitle": false,
     "title": ""
    }
   },
   "outputs": [],
   "source": [
    "storage_account_name  = \"stacmfraud\"\n",
    "\n",
    "database_name = \"bronze_mobile\"\n",
    "table_name = \"access\" \n",
    "\n",
    "container_name = \"cont-fraud\"\n",
    "container_path = f\"abfss://{container_name}@{storage_account_name}.dfs.core.windows.net/bronze/{database_name}\"\n",
    "delta_table_path = f\"abfss://{container_name}@{storage_account_name}.dfs.core.windows.net/bronze/{database_name}/{table_name}\"\n",
    "\n",
    "eventhub_name = \"fraud-detect\"\n",
    "\n",
    "connection_string = dbutils.secrets.get(scope=\"dbwsscope\", key=\"eh-cs-secret\")"
   ]
  },
  {
   "cell_type": "code",
   "execution_count": 0,
   "metadata": {
    "application/vnd.databricks.v1+cell": {
     "cellMetadata": {
      "byteLimit": 2048000,
      "rowLimit": 10000
     },
     "inputWidgets": {},
     "nuid": "111fc78c-70a0-4f25-846a-35cf33b6edbe",
     "showTitle": false,
     "title": ""
    }
   },
   "outputs": [
    {
     "output_type": "execute_result",
     "data": {
      "text/plain": [
       "'abfss://cont-fraud@stacmfraud.dfs.core.windows.net/bronze/bronze_mobile/access'"
      ]
     },
     "execution_count": 9,
     "metadata": {},
     "output_type": "execute_result"
    }
   ],
   "source": [
    "delta_table_path"
   ]
  },
  {
   "cell_type": "markdown",
   "metadata": {
    "application/vnd.databricks.v1+cell": {
     "cellMetadata": {
      "byteLimit": 2048000,
      "rowLimit": 10000
     },
     "inputWidgets": {},
     "nuid": "1b3a32ad-f7fd-4239-ac58-59532cbe1ee3",
     "showTitle": false,
     "title": ""
    }
   },
   "source": [
    "#### Connection String Configuration"
   ]
  },
  {
   "cell_type": "code",
   "execution_count": 0,
   "metadata": {
    "application/vnd.databricks.v1+cell": {
     "cellMetadata": {
      "byteLimit": 2048000,
      "rowLimit": 10000
     },
     "inputWidgets": {},
     "nuid": "2a29e339-c8d7-47fb-8e84-503a43d4430a",
     "showTitle": false,
     "title": ""
    }
   },
   "outputs": [],
   "source": [
    "eh_conf = {\n",
    "   'eventhubs.connectionString': sc._jvm.org.apache.spark.eventhubs.EventHubsUtils.encrypt(f\"{connection_string};EntityPath={eventhub_name}\")\n",
    "}"
   ]
  },
  {
   "cell_type": "markdown",
   "metadata": {
    "application/vnd.databricks.v1+cell": {
     "cellMetadata": {
      "byteLimit": 2048000,
      "rowLimit": 10000
     },
     "inputWidgets": {},
     "nuid": "1f4fd2f9-ce9a-4019-88eb-50964e88df64",
     "showTitle": false,
     "title": ""
    }
   },
   "source": [
    "#### Database Create"
   ]
  },
  {
   "cell_type": "code",
   "execution_count": 0,
   "metadata": {
    "application/vnd.databricks.v1+cell": {
     "cellMetadata": {
      "byteLimit": 2048000,
      "rowLimit": 10000
     },
     "inputWidgets": {},
     "nuid": "922f6845-2efd-42ea-8bd6-59b970ad3c6e",
     "showTitle": false,
     "title": ""
    }
   },
   "outputs": [
    {
     "output_type": "execute_result",
     "data": {
      "text/plain": [
       "DataFrame[]"
      ]
     },
     "execution_count": 11,
     "metadata": {},
     "output_type": "execute_result"
    }
   ],
   "source": [
    "spark.sql(f\"\"\"CREATE DATABASE IF NOT EXISTS {database_name} LOCATION '{container_path}'\"\"\")\n",
    "\n",
    "spark.sql(f\"\"\"CREATE TABLE IF NOT EXISTS {database_name}.{table_name} (\n",
    "        imei STRING,\n",
    "        mac STRING,\n",
    "        network STRING,\n",
    "        client_ip STRING,\n",
    "        latitude STRING,\n",
    "        longitude STRING,\n",
    "        uid STRING,\n",
    "        password STRING,\n",
    "        `transaction` STRING,\n",
    "        api STRING,\n",
    "        endpoint STRING,\n",
    "        os STRING,\n",
    "        phone_brand STRING,\n",
    "        app_version STRING,\n",
    "        error STRING,\n",
    "        `timestamp` STRING,\n",
    "        dat_ref STRING\n",
    "        )\n",
    "    USING DELTA\n",
    "    PARTITIONED BY (dat_ref)\n",
    "    LOCATION '{delta_table_path}'\"\"\")"
   ]
  },
  {
   "cell_type": "markdown",
   "metadata": {
    "application/vnd.databricks.v1+cell": {
     "cellMetadata": {
      "byteLimit": 2048000,
      "rowLimit": 10000
     },
     "inputWidgets": {},
     "nuid": "da365ce4-c08e-4557-bb5a-f1ce97c1ff83",
     "showTitle": false,
     "title": ""
    }
   },
   "source": [
    "#### Read Data Stream"
   ]
  },
  {
   "cell_type": "code",
   "execution_count": 0,
   "metadata": {
    "application/vnd.databricks.v1+cell": {
     "cellMetadata": {
      "byteLimit": 2048000,
      "rowLimit": 10000
     },
     "inputWidgets": {},
     "nuid": "1a1d016c-97a2-444d-b6a2-8cec43e0d9e9",
     "showTitle": false,
     "title": ""
    }
   },
   "outputs": [
    {
     "output_type": "stream",
     "name": "stdout",
     "output_type": "stream",
     "text": [
      "root\n |-- body: binary (nullable = true)\n |-- partition: string (nullable = true)\n |-- offset: string (nullable = true)\n |-- sequenceNumber: long (nullable = true)\n |-- enqueuedTime: timestamp (nullable = true)\n |-- publisher: string (nullable = true)\n |-- partitionKey: string (nullable = true)\n |-- properties: map (nullable = true)\n |    |-- key: string\n |    |-- value: string (valueContainsNull = true)\n |-- systemProperties: map (nullable = true)\n |    |-- key: string\n |    |-- value: string (valueContainsNull = true)\n\n"
     ]
    }
   ],
   "source": [
    "df = (spark.readStream\n",
    "    .format(\"eventhubs\")\n",
    "    .options(**eh_conf)\n",
    "    .load())\n",
    "df.printSchema()"
   ]
  },
  {
   "cell_type": "markdown",
   "metadata": {
    "application/vnd.databricks.v1+cell": {
     "cellMetadata": {
      "byteLimit": 2048000,
      "rowLimit": 10000
     },
     "inputWidgets": {},
     "nuid": "4a7ee0b9-fea9-4f1b-95fc-7327c645a17a",
     "showTitle": false,
     "title": ""
    }
   },
   "source": [
    "#### Edit dictionary"
   ]
  },
  {
   "cell_type": "code",
   "execution_count": 0,
   "metadata": {
    "application/vnd.databricks.v1+cell": {
     "cellMetadata": {
      "byteLimit": 2048000,
      "rowLimit": 10000
     },
     "inputWidgets": {},
     "nuid": "4f6ba96c-025f-482e-8b44-4e84032e6736",
     "showTitle": false,
     "title": ""
    }
   },
   "outputs": [],
   "source": [
    "# Definir o esquema para o JSON\n",
    "schema = StructType([\n",
    "    StructField(\"imei\", StringType(), True),\n",
    "    StructField(\"mac\", StringType(), True),\n",
    "    StructField(\"network\", StringType(), True),\n",
    "    StructField(\"client_ip\", StringType(), True),\n",
    "    StructField(\"latitude\", StringType(), True),\n",
    "    StructField(\"longitude\", StringType(), True),\n",
    "    StructField(\"uid\", StringType(), True),\n",
    "    StructField(\"password\", StringType(), True),\n",
    "    StructField(\"transaction\", StringType(), True),\n",
    "    StructField(\"api\", StringType(), True),\n",
    "    StructField(\"endpoint\", StringType(), True),\n",
    "    StructField(\"os\", StringType(), True),\n",
    "    StructField(\"phone_brand\", StringType(), True),\n",
    "    StructField(\"app_version\", StringType(), True),\n",
    "    StructField(\"error\", StringType(), True),\n",
    "    StructField(\"timestamp\", StringType(), True),\n",
    "    StructField(\"dat_ref\", StringType(), True)\n",
    "])\n",
    "\n",
    "# Conversão do campo body do eventhub para um DataFrame\n",
    "df = (df\n",
    "      .select(F.col(\"Body\").cast(\"string\"))\n",
    "      .withColumn(\"json_list\", F.from_json(F.col(\"Body\"), ArrayType(schema)))\n",
    "      .select(F.explode(F.col(\"json_list\")).alias(\"json_data\"))\n",
    "      )\n",
    "\n",
    "# Selecionar e exibir campos individuais\n",
    "df_body = (df.select(\n",
    "    F.col(\"json_data.imei\"),\n",
    "    F.col(\"json_data.mac\"),\n",
    "    F.col(\"json_data.network\"),\n",
    "    F.col(\"json_data.client_ip\"),\n",
    "    F.col(\"json_data.latitude\"),\n",
    "    F.col(\"json_data.longitude\"),\n",
    "    F.col(\"json_data.uid\"),\n",
    "    F.col(\"json_data.password\"),\n",
    "    F.col(\"json_data.transaction\"),\n",
    "    F.col(\"json_data.api\"),\n",
    "    F.col(\"json_data.endpoint\"),\n",
    "    F.col(\"json_data.os\"),\n",
    "    F.col(\"json_data.phone_brand\"),\n",
    "    F.col(\"json_data.app_version\"),\n",
    "    F.col(\"json_data.error\"),\n",
    "    F.col(\"json_data.timestamp\"))\n",
    "      .withColumn(\"imei\", F.sha2(F.col(\"imei\"), 256))\n",
    "      .withColumn(\"mac\", F.sha2(F.col(\"mac\"), 256))\n",
    "      .withColumn(\"uid\", F.sha2(F.col(\"uid\"), 256))\n",
    "      .withColumn(\"password\", F.sha2(F.col(\"password\"), 256))\n",
    "      .withColumn(\"dat_ref\", F.from_unixtime(F.col(\"timestamp\").cast(\"long\")/1000, \"yyyy-MM-dd\"))\n",
    "      )"
   ]
  },
  {
   "cell_type": "markdown",
   "metadata": {
    "application/vnd.databricks.v1+cell": {
     "cellMetadata": {
      "byteLimit": 2048000,
      "rowLimit": 10000
     },
     "inputWidgets": {},
     "nuid": "42c0ca09-ba70-460f-bdc9-e68dc3c61a63",
     "showTitle": false,
     "title": ""
    }
   },
   "source": [
    "#### Write data on delta table"
   ]
  },
  {
   "cell_type": "code",
   "execution_count": 0,
   "metadata": {
    "application/vnd.databricks.v1+cell": {
     "cellMetadata": {
      "byteLimit": 2048000,
      "rowLimit": 10000
     },
     "inputWidgets": {},
     "nuid": "baa35afd-c9aa-4cfd-8cb8-a6fff2d1bc88",
     "showTitle": false,
     "title": ""
    }
   },
   "outputs": [],
   "source": [
    "# Escrever os dados em uma tabela Delta\n",
    "\n",
    "query = (df_body.writeStream\n",
    "         .format(\"delta\")\n",
    "         .outputMode(\"append\")\n",
    "         .trigger(processingTime=\"2 minute\")\n",
    "         .option(\"checkpointLocation\", f\"{delta_table_path}/_checkpoints/\")\n",
    "         .partitionBy(\"dat_ref\")\n",
    "         .start(delta_table_path))\n"
   ]
  },
  {
   "cell_type": "code",
   "execution_count": 0,
   "metadata": {
    "application/vnd.databricks.v1+cell": {
     "cellMetadata": {
      "byteLimit": 2048000,
      "implicitDf": true,
      "rowLimit": 10000
     },
     "inputWidgets": {},
     "nuid": "533967ac-c23b-4179-b5fa-84e5bb9d55fd",
     "showTitle": false,
     "title": ""
    }
   },
   "outputs": [
    {
     "output_type": "display_data",
     "data": {
      "text/html": [
       "<style scoped>\n",
       "  .table-result-container {\n",
       "    max-height: 300px;\n",
       "    overflow: auto;\n",
       "  }\n",
       "  table, th, td {\n",
       "    border: 1px solid black;\n",
       "    border-collapse: collapse;\n",
       "  }\n",
       "  th, td {\n",
       "    padding: 5px;\n",
       "  }\n",
       "  th {\n",
       "    text-align: left;\n",
       "  }\n",
       "</style><div class='table-result-container'><table class='table-result'><thead style='background-color: white'><tr></tr></thead><tbody></tbody></table></div>"
      ]
     },
     "metadata": {
      "application/vnd.databricks.v1+output": {
       "addedWidgets": {},
       "aggData": [],
       "aggError": "",
       "aggOverflow": false,
       "aggSchema": [],
       "aggSeriesLimitReached": false,
       "aggType": "",
       "arguments": {},
       "columnCustomDisplayInfos": {},
       "data": [],
       "datasetInfos": [],
       "dbfsResultPath": null,
       "isJsonSchema": true,
       "metadata": {
        "dataframeName": null
       },
       "overflow": false,
       "plotOptions": {
        "customPlotOptions": {},
        "displayType": "table",
        "pivotAggregation": null,
        "pivotColumns": null,
        "xColumns": null,
        "yColumns": null
       },
       "removedWidgets": [],
       "schema": [],
       "type": "table"
      }
     },
     "output_type": "display_data"
    }
   ],
   "source": [
    "%sql\n",
    "--DROP DATABASE IF EXISTS bronze_mobile CASCADE;"
   ]
  }
 ],
 "metadata": {
  "application/vnd.databricks.v1+notebook": {
   "dashboards": [],
   "environmentMetadata": null,
   "language": "python",
   "notebookMetadata": {
    "mostRecentlyExecutedCommandWithImplicitDF": {
     "commandId": -1,
     "dataframes": [
      "_sqldf"
     ]
    },
    "pythonIndentUnit": 4
   },
   "notebookName": "dataStreamingLoad",
   "widgets": {}
  },
  "language_info": {
   "name": "python"
  }
 },
 "nbformat": 4,
 "nbformat_minor": 0
}
