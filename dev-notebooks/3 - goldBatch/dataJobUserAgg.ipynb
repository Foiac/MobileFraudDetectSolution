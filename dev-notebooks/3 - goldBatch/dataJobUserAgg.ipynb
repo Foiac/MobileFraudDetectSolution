{
 "cells": [
  {
   "cell_type": "markdown",
   "metadata": {
    "application/vnd.databricks.v1+cell": {
     "cellMetadata": {
      "byteLimit": 2048000,
      "rowLimit": 10000
     },
     "inputWidgets": {},
     "nuid": "6bf608c4-c0d2-4290-8cc8-994c5861e45b",
     "showTitle": false,
     "tableResultSettingsMap": {},
     "title": ""
    }
   },
   "source": [
    "# Data Job User Agregation"
   ]
  },
  {
   "cell_type": "markdown",
   "metadata": {
    "application/vnd.databricks.v1+cell": {
     "cellMetadata": {
      "byteLimit": 2048000,
      "rowLimit": 10000
     },
     "inputWidgets": {},
     "nuid": "27b07929-7be0-4cba-ab34-2fa4f6cbf49f",
     "showTitle": false,
     "tableResultSettingsMap": {},
     "title": ""
    }
   },
   "source": [
    "Notebook de desenvolvimento responsável por realizar agregação dos dados por usuário que utilizam um aplicativo móvel"
   ]
  },
  {
   "cell_type": "markdown",
   "metadata": {
    "application/vnd.databricks.v1+cell": {
     "cellMetadata": {
      "byteLimit": 2048000,
      "rowLimit": 10000
     },
     "inputWidgets": {},
     "nuid": "a77d58ee-5caf-47cb-b382-0e235a1050a4",
     "showTitle": false,
     "tableResultSettingsMap": {},
     "title": ""
    }
   },
   "source": [
    "\n",
    "<div style=\"text-align: center; line-height: 0; padding-top: 9px;\">\n",
    "  <img src=\"https://raw.githubusercontent.com/Foiac/MobileFraudDetectSolution/main/Editaveis/Imagens/goldjobtransformer.png\" alt=\"Clean Data\" style=\"width: 800px\">\n",
    "</div>"
   ]
  },
  {
   "cell_type": "markdown",
   "metadata": {
    "application/vnd.databricks.v1+cell": {
     "cellMetadata": {
      "byteLimit": 2048000,
      "rowLimit": 10000
     },
     "inputWidgets": {},
     "nuid": "7e58f102-c797-4b63-a12f-0ab98f273364",
     "showTitle": false,
     "tableResultSettingsMap": {},
     "title": ""
    }
   },
   "source": [
    "#### Import dependecies"
   ]
  },
  {
   "cell_type": "code",
   "execution_count": 0,
   "metadata": {
    "application/vnd.databricks.v1+cell": {
     "cellMetadata": {
      "byteLimit": 2048000,
      "rowLimit": 10000
     },
     "inputWidgets": {},
     "nuid": "22c96c2e-e21d-4138-b947-17fcc2027b27",
     "showTitle": false,
     "tableResultSettingsMap": {},
     "title": ""
    }
   },
   "outputs": [],
   "source": [
    "from pyspark.sql import functions as F\n",
    "from pyspark.sql.types import *"
   ]
  },
  {
   "cell_type": "markdown",
   "metadata": {
    "application/vnd.databricks.v1+cell": {
     "cellMetadata": {
      "byteLimit": 2048000,
      "rowLimit": 10000
     },
     "inputWidgets": {},
     "nuid": "47ba27dd-7c37-4170-9d32-e220b25e27b6",
     "showTitle": false,
     "tableResultSettingsMap": {},
     "title": ""
    }
   },
   "source": [
    "#### Path Definitions"
   ]
  },
  {
   "cell_type": "code",
   "execution_count": 0,
   "metadata": {
    "application/vnd.databricks.v1+cell": {
     "cellMetadata": {
      "byteLimit": 2048000,
      "rowLimit": 10000
     },
     "inputWidgets": {},
     "nuid": "e27be145-f505-45c4-a4bb-6a7e705b2fde",
     "showTitle": false,
     "tableResultSettingsMap": {},
     "title": ""
    }
   },
   "outputs": [],
   "source": [
    "storage_account_name  = \"stacmfraud\"\n",
    "container_name = \"cont-fraud\"\n",
    "\n",
    "database_name_input = \"silver_mobile\"\n",
    "table_name_input = \"tab_mobil_access\"\n",
    "\n",
    "database_name_output = \"gold_mobile\"\n",
    "table_name_output = \"tabl_fraud_indi\"\n",
    "container_path = f\"abfss://{container_name}@{storage_account_name}.dfs.core.windows.net/gold/{database_name_output}\"\n",
    "delta_table_path_output = f\"abfss://{container_name}@{storage_account_name}.dfs.core.windows.net/gold/{database_name_output}/{table_name_output}\""
   ]
  },
  {
   "cell_type": "markdown",
   "metadata": {
    "application/vnd.databricks.v1+cell": {
     "cellMetadata": {
      "byteLimit": 2048000,
      "rowLimit": 10000
     },
     "inputWidgets": {},
     "nuid": "8138e7bd-fcd3-4e7e-a1e1-295a238ff728",
     "showTitle": false,
     "tableResultSettingsMap": {},
     "title": ""
    }
   },
   "source": [
    "#### Database Create"
   ]
  },
  {
   "cell_type": "code",
   "execution_count": 0,
   "metadata": {
    "application/vnd.databricks.v1+cell": {
     "cellMetadata": {
      "byteLimit": 2048000,
      "rowLimit": 10000
     },
     "inputWidgets": {},
     "nuid": "c6ff47e5-a08d-461f-8960-e6f9103502e9",
     "showTitle": false,
     "tableResultSettingsMap": {},
     "title": ""
    }
   },
   "outputs": [
    {
     "data": {
      "text/plain": [
       "DataFrame[]"
      ]
     },
     "execution_count": 119,
     "metadata": {},
     "output_type": "execute_result"
    }
   ],
   "source": [
    "spark.sql(f\"\"\"CREATE DATABASE IF NOT EXISTS {database_name_output} LOCATION '{container_path}'\"\"\")\n",
    "\n",
    "spark.sql(f\"\"\"CREATE TABLE IF NOT EXISTS {database_name_output}.{table_name_output} (\n",
    "    UID STRING,\n",
    "    ATTEMPT_ACCESS INTEGER,\n",
    "    SUCCESS_ACCESS INTEGER,\n",
    "    DEVICES INTEGER,\n",
    "    NETWORKS INTEGER,\n",
    "    PASSWORDS INTEGER,\n",
    "    TRANSACTIONS_DEVICES INTEGER,\n",
    "    APP_VERSIONS INTEGER,\n",
    "    `LOCATIONS` INTEGER,\n",
    "    RISK_FLAG INTEGER,\n",
    "    DAT_REF STRING\n",
    "    ) \n",
    "USING DELTA\n",
    "LOCATION '{delta_table_path_output}'\"\"\")\n"
   ]
  },
  {
   "cell_type": "markdown",
   "metadata": {
    "application/vnd.databricks.v1+cell": {
     "cellMetadata": {
      "byteLimit": 2048000,
      "rowLimit": 10000
     },
     "inputWidgets": {},
     "nuid": "329f3de4-ae71-46c6-afc8-99b08562bce2",
     "showTitle": false,
     "tableResultSettingsMap": {},
     "title": ""
    }
   },
   "source": [
    "#### Read Databricks Catalog Table"
   ]
  },
  {
   "cell_type": "code",
   "execution_count": 0,
   "metadata": {
    "application/vnd.databricks.v1+cell": {
     "cellMetadata": {
      "byteLimit": 2048000,
      "rowLimit": 10000
     },
     "inputWidgets": {},
     "nuid": "8d5957ec-e921-469a-89cc-831b0f416883",
     "showTitle": false,
     "tableResultSettingsMap": {
      "0": {
       "filterBlob": "{\"filterGroups\":[],\"syncTimestamp\":1731264681480}",
       "tableResultIndex": 0
      }
     },
     "title": ""
    }
   },
   "outputs": [],
   "source": [
    "filter_date = '2024-11-01'\n",
    "df = spark.table(f\"{database_name_input}.{table_name_input}\").filter(F.col(\"DAT_REF\") == filter_date)\n",
    "display(df)"
   ]
  },
  {
   "cell_type": "markdown",
   "metadata": {
    "application/vnd.databricks.v1+cell": {
     "cellMetadata": {
      "byteLimit": 2048000,
      "rowLimit": 10000
     },
     "inputWidgets": {},
     "nuid": "5ee4b79a-f4fc-4508-b5e9-be9ee6789985",
     "showTitle": false,
     "tableResultSettingsMap": {},
     "title": ""
    }
   },
   "source": [
    "### Rules to Business Metrics\n",
    "\n",
    "- Access attempt per device\n",
    "- Users Access Success \n",
    "- Devices per _User_\n",
    "- Networks per _User_\n",
    "- Passwords per _User_\n",
    "- Last Transaction State\n",
    "- Aplication versions per _User_\n",
    "- Locations per _User_"
   ]
  },
  {
   "cell_type": "code",
   "execution_count": 0,
   "metadata": {
    "application/vnd.databricks.v1+cell": {
     "cellMetadata": {
      "byteLimit": 2048000,
      "rowLimit": 10000
     },
     "inputWidgets": {},
     "nuid": "9aeed129-7838-476f-9a34-4567a75ec035",
     "showTitle": false,
     "tableResultSettingsMap": {},
     "title": ""
    }
   },
   "outputs": [],
   "source": [
    "df_agg = (df\n",
    "             .select(\"UID\", \"ERROR_INF\", \"IMEI\", \"NETWORK\", \"PASSWORD\", \"TRANSACTION\", \"APP_VERSION\", \"LATITUDE\", \"LONGITUDE\")\n",
    "             .groupBy(\"UID\")\n",
    "             .agg(\n",
    "               F.count(\"*\").cast(IntegerType()).alias(\"ATTEMPT_ACCESS\"),\n",
    "               F.sum(\n",
    "                 F.when(F.col(\"ERROR_INF\")==\"Oper. com Sucesso\", 1).otherwise(0)\n",
    "                 ).cast(IntegerType()).alias(\"SUCCESS_ACCESS\"),\n",
    "               F.countDistinct(\"IMEI\").cast(IntegerType()).alias(\"DEVICES\"),\n",
    "               F.countDistinct(\"NETWORK\").cast(IntegerType()).alias(\"NETWORKS\"),\n",
    "               F.countDistinct(\"PASSWORD\").cast(IntegerType()).alias(\"PASSWORDS\"),\n",
    "               F.countDistinct(F.when(F.col(\"TRANSACTION\") == True, F.col(\"IMEI\"))).cast(IntegerType()).alias(\"TRANSACTIONS_DEVICES\"),\n",
    "               F.countDistinct(\"APP_VERSION\").cast(IntegerType()).alias(\"APP_VERSIONS\"),\n",
    "               F.countDistinct(\"LATITUDE\", \"LONGITUDE\").cast(IntegerType()).alias(\"LOCATIONS\")\n",
    "             )\n",
    "             )\n",
    "\n",
    "display(df_agg)"
   ]
  },
  {
   "cell_type": "markdown",
   "metadata": {
    "application/vnd.databricks.v1+cell": {
     "cellMetadata": {
      "byteLimit": 2048000,
      "rowLimit": 10000
     },
     "inputWidgets": {},
     "nuid": "7956f2dd-f9f0-45ac-859e-fcf979dd682c",
     "showTitle": false,
     "tableResultSettingsMap": {},
     "title": ""
    }
   },
   "source": [
    "### Rules to Risk `Flag`"
   ]
  },
  {
   "cell_type": "code",
   "execution_count": 0,
   "metadata": {
    "application/vnd.databricks.v1+cell": {
     "cellMetadata": {
      "byteLimit": 2048000,
      "rowLimit": 10000
     },
     "inputWidgets": {},
     "nuid": "538f087f-1c87-4414-8fb7-10c949185f56",
     "showTitle": false,
     "tableResultSettingsMap": {},
     "title": ""
    }
   },
   "outputs": [],
   "source": [
    "df_gold = (df_agg\n",
    "           .withColumn(\"RISK_FLAG\", \n",
    "                       F.when((( F.col(\"ATTEMPT_ACCESS\") > 50 ) | \n",
    "                               ( F.col(\"TRANSACTIONS_DEVICES\") > 4 ) | \n",
    "                               ( F.col(\"PASSWORDS\") > 4 ) |\n",
    "                               ( F.col(\"LOCATIONS\") > 100 )\n",
    "                               ), 1)\n",
    "                       .otherwise(0)\n",
    "                       .cast(IntegerType())\n",
    "           )\n",
    "           .withColumn(\"DAT_REF\", F.lit(filter_date))\n",
    ")\n",
    "display(df_gold)"
   ]
  },
  {
   "cell_type": "markdown",
   "metadata": {
    "application/vnd.databricks.v1+cell": {
     "cellMetadata": {
      "byteLimit": 2048000,
      "rowLimit": 10000
     },
     "inputWidgets": {},
     "nuid": "cab7caee-7b25-4b9f-88db-b8ab8d82c9c9",
     "showTitle": false,
     "tableResultSettingsMap": {},
     "title": ""
    }
   },
   "source": [
    "### Write Data on `Gold Table` "
   ]
  },
  {
   "cell_type": "code",
   "execution_count": 0,
   "metadata": {
    "application/vnd.databricks.v1+cell": {
     "cellMetadata": {
      "byteLimit": 2048000,
      "rowLimit": 10000
     },
     "inputWidgets": {},
     "nuid": "a4c4c815-4655-4dd0-a162-e6e3fe31d709",
     "showTitle": false,
     "tableResultSettingsMap": {},
     "title": ""
    }
   },
   "outputs": [],
   "source": [
    "df_gold.write \\\n",
    "    .format(\"delta\") \\\n",
    "    .mode(\"append\") \\\n",
    "    .option(\"path\", delta_table_path_output) \\\n",
    "    .saveAsTable(f\"{database_name_output}.{table_name_output}\")"
   ]
  }
 ],
 "metadata": {
  "application/vnd.databricks.v1+notebook": {
   "dashboards": [],
   "environmentMetadata": {
    "base_environment": "",
    "client": "1"
   },
   "language": "python",
   "notebookMetadata": {
    "mostRecentlyExecutedCommandWithImplicitDF": {
     "commandId": 1189715455303330,
     "dataframes": [
      "_sqldf"
     ]
    },
    "pythonIndentUnit": 2
   },
   "notebookName": "dataJobUserAgg",
   "widgets": {}
  },
  "language_info": {
   "name": "python"
  }
 },
 "nbformat": 4,
 "nbformat_minor": 0
}
