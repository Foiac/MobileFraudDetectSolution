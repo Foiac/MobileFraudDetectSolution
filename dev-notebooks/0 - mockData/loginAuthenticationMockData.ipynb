{
 "cells": [
  {
   "cell_type": "markdown",
   "metadata": {},
   "source": [
    "# Login Authentication Mock Data"
   ]
  },
  {
   "cell_type": "markdown",
   "metadata": {},
   "source": [
    "Notebook de desenvolvimento responável por realizar processo de mock dos dados e evenviar os dados para o eventhub utilizando autenticação com SPN"
   ]
  },
  {
   "cell_type": "markdown",
   "metadata": {},
   "source": [
    "\n",
    "<div style=\"text-align: center; line-height: 0; padding-top: 9px;\">\n",
    "  <img src=\"https://raw.githubusercontent.com/Foiac/MobileFraudDetectSolution/main/Editaveis/Imagens/login-authetication-mock-data.png\" alt=\"SparkStreaming Ingest\" style=\"width: 800px\">\n",
    "</div>"
   ]
  },
  {
   "cell_type": "markdown",
   "metadata": {},
   "source": [
    "#### Import dependecies"
   ]
  },
  {
   "cell_type": "code",
   "execution_count": 2,
   "metadata": {},
   "outputs": [],
   "source": [
    "import random\n",
    "import json\n",
    "from faker import Faker\n",
    "from datetime import datetime\n",
    "from azure.eventhub import EventHubProducerClient, EventData\n",
    "from azure.identity import ClientSecretCredential\n",
    "import pandas as pd\n",
    "import threading\n",
    "from dotenv import load_dotenv\n",
    "import os"
   ]
  },
  {
   "cell_type": "markdown",
   "metadata": {},
   "source": [
    "#### Path definitions and secrets"
   ]
  },
  {
   "cell_type": "code",
   "execution_count": 3,
   "metadata": {},
   "outputs": [],
   "source": [
    "load_dotenv()\n",
    "\n",
    "azure_tenant_id: str = os.environ[\"AZURE_TENANT\"]\n",
    "azure_client_id: str = os.environ[\"CLIENT_ID\"]\n",
    "azure_client_secret: str = os.environ[\"CLIENT_SECRET\"] \n",
    "eventhub_namespace: str = os.environ[\"EVENTHUB_NAMESPACE\"]\n",
    "eventhub_namespace_fully: str = f\"{eventhub_namespace}.servicebus.windows.net\"\n",
    "eventhub_name: str = os.environ[\"EVENTHUB_NAME\"]"
   ]
  },
  {
   "cell_type": "code",
   "execution_count": 4,
   "metadata": {},
   "outputs": [],
   "source": [
    "file_path = 'phonedataset.csv'\n",
    "\n",
    "df = pd.read_csv(file_path, sep=';')\n",
    "phone_list = df.values.tolist()\n",
    "\n",
    "with open('city_clusters.json', 'r', encoding='utf-8') as file:\n",
    "    city_clusters = json.load(file)"
   ]
  },
  {
   "cell_type": "markdown",
   "metadata": {},
   "source": [
    "#### Initial Definitions"
   ]
  },
  {
   "cell_type": "code",
   "execution_count": 5,
   "metadata": {},
   "outputs": [],
   "source": [
    "start_date = datetime(2024, 11, 1, 0)\n",
    "end_date = datetime(2024, 11, 2, 23)"
   ]
  },
  {
   "cell_type": "code",
   "execution_count": 6,
   "metadata": {},
   "outputs": [],
   "source": [
    "fake = Faker()\n",
    "\n",
    "transaction_prob_true = 0.78\n",
    "transaction_prob_false = 0.22\n",
    "transaction_prob = [transaction_prob_true, transaction_prob_false] \n",
    "\n",
    "app_version_prob_v201 = 0.05\n",
    "app_version_prob_v202 = 0.20\n",
    "app_version_prob_v203 = 0.75\n",
    "app_version_prob = [app_version_prob_v201, app_version_prob_v202, app_version_prob_v203] \n",
    "\n",
    "error_prob_success = 0.90\n",
    "error_prob_incorrect_pass = 0.08\n",
    "error_prob_user_not_fount = 0.02\n",
    "error_prob = [error_prob_success, error_prob_incorrect_pass, error_prob_user_not_fount] \n",
    "\n",
    "uids = [str(fake.random_number(digits=11, fix_len=True)) for _ in range(2)]"
   ]
  },
  {
   "cell_type": "code",
   "execution_count": 7,
   "metadata": {},
   "outputs": [
    {
     "data": {
      "text/plain": [
       "['64385266624', '29758192608']"
      ]
     },
     "execution_count": 7,
     "metadata": {},
     "output_type": "execute_result"
    }
   ],
   "source": [
    "uids"
   ]
  },
  {
   "cell_type": "markdown",
   "metadata": {},
   "source": [
    "#### Function to Create SPN Client "
   ]
  },
  {
   "cell_type": "code",
   "execution_count": 8,
   "metadata": {},
   "outputs": [],
   "source": [
    "def spn_authentication():\n",
    "    \"\"\"\n",
    "    Creates an Event Hub producer client using SPN credentials.\n",
    "\n",
    "    Returns:\n",
    "        EventHubProducerClient: Client for sending events to Azure Event Hub.\n",
    "    \"\"\"\n",
    "    \n",
    "    print(\"init procces\")\n",
    "    credential = ClientSecretCredential(tenant_id=azure_tenant_id, \n",
    "                                        client_id=azure_client_id,\n",
    "                                        client_secret=azure_client_secret)\n",
    "    print(\"credential create\")\n",
    "    producer = EventHubProducerClient(fully_qualified_namespace=eventhub_namespace_fully,\n",
    "                                        eventhub_name=eventhub_name,\n",
    "                                        credential=credential)\n",
    "    print(\"producer create\")\n",
    "\n",
    "    return producer\n",
    "\n",
    "#segregação mais clara de escopos entre autenticão e criação do producer"
   ]
  },
  {
   "cell_type": "markdown",
   "metadata": {},
   "source": [
    "#### Function to Generate Random Data"
   ]
  },
  {
   "cell_type": "code",
   "execution_count": 9,
   "metadata": {},
   "outputs": [],
   "source": [
    "def generate_random_data():\n",
    "    \"\"\"\n",
    "    Generates a dictionary representing random simulated data for login authentication events.\n",
    "\n",
    "    This function creates data for testing or simulation purposes, including fields like\n",
    "    geographic location, device information, network details, and authentication attributes.\n",
    "\n",
    "    Returns:\n",
    "        dict: A dictionary containing randomly generated data fields:\n",
    "            - imei (str): Randomly generated 15-digit IMEI number.\n",
    "            - mac (str): Randomly generated MAC address.\n",
    "            - network (str): Randomly chosen network provider (e.g., \"VIVO\", \"TIM\").\n",
    "            - client_ip (str): Random IPv4 address.\n",
    "            - latitude (float): Latitude based on a random city cluster and Gaussian noise.\n",
    "            - longitude (float): Longitude based on a random city cluster and Gaussian noise.\n",
    "            - uid (str): Randomly generated user ID (UID) or chosen from a predefined list.\n",
    "            - password (str): Random password with a mix of digits, upper- and lower-case letters.\n",
    "            - transaction (str): Simulated transaction status (\"true\" or \"false\").\n",
    "            - api (str): API name for the simulated event (\"login-authentication\").\n",
    "            - endpoint (str): API endpoint (\"v1/login\").\n",
    "            - os (str): Randomly selected operational version from the phone list.\n",
    "            - phone_brand (str): Phone brand associated with the operational version.\n",
    "            - app_version (str): Randomly chosen application version.\n",
    "            - error (str): Simulated error code (e.g., \"0\", \"INCORRECT_PASS\").\n",
    "            - timestamp (str): Random UNIX timestamp in milliseconds.\n",
    "            \"\"\"\n",
    "\n",
    "    city = random.choice(city_clusters)\n",
    "    latitude = random.gauss(city[\"lat\"], city[\"std_dev\"])\n",
    "    longitude = random.gauss(city[\"long\"], city[\"std_dev\"])\n",
    "\n",
    "    brand_version = random.choice(phone_list)\n",
    "    phone_brand = brand_version[0]\n",
    "    operational_version = brand_version[1]\n",
    "\n",
    "    fraud_prob = 0.15\n",
    "\n",
    "    uid = random.choice(uids) if random.random() < fraud_prob else str(fake.random_number(digits=11, fix_len=True))\n",
    "\n",
    "    return {\n",
    "        \"imei\": str(fake.random_number(digits=15, fix_len=True)),\n",
    "        \"mac\": ':'.join([f\"{random.randint(0, 255):02X}\" for _ in range(6)]),\n",
    "        \"network\": random.choice([\"VIVO\", \"TIM\", \"CLARO\", \"OI\"]),\n",
    "        \"client_ip\": fake.ipv4(),\n",
    "        \"latitude\": latitude,\n",
    "        \"longitude\": longitude,\n",
    "        \"uid\": uid,\n",
    "        \"password\": fake.password(length=6, special_chars=False, digits=True, upper_case=True, lower_case=True),\n",
    "        \"transaction\": random.choices([\"true\", \"false\"], weights=transaction_prob, k=1)[0],\n",
    "        \"api\": \"login-authentication\",\n",
    "        \"endpoint\": \"v1/login\",\n",
    "        \"os\": operational_version,\n",
    "        \"phone_brand\": phone_brand,\n",
    "        \"app_version\": random.choices([\"2.0.1\", \"2.0.2\", \"2.0.3\"], weights=app_version_prob, k=1)[0],\n",
    "        \"error\": random.choices([\"0\", \"INCORRECT_PASS\", \"USER_NOT_FOUND\"], weights=error_prob, k=1)[0],\n",
    "        \"timestamp\": str(fake.unix_time(start_datetime=start_date, end_datetime=end_date) * 1000)\n",
    "    }"
   ]
  },
  {
   "cell_type": "code",
   "execution_count": 10,
   "metadata": {},
   "outputs": [
    {
     "data": {
      "text/plain": [
       "{'imei': '546027542908093',\n",
       " 'mac': '93:BA:49:FC:11:6D',\n",
       " 'network': 'TIM',\n",
       " 'client_ip': '14.37.22.189',\n",
       " 'latitude': -4.772630522107724,\n",
       " 'longitude': -62.31493752100181,\n",
       " 'uid': '63274966823',\n",
       " 'password': '2ylUy4',\n",
       " 'transaction': 'true',\n",
       " 'api': 'login-authentication',\n",
       " 'endpoint': 'v1/login',\n",
       " 'os': 'Android 13 (Fairphone OS)',\n",
       " 'phone_brand': 'Fairphone 5',\n",
       " 'app_version': '2.0.3',\n",
       " 'error': '0',\n",
       " 'timestamp': '1730455915000.0'}"
      ]
     },
     "execution_count": 10,
     "metadata": {},
     "output_type": "execute_result"
    }
   ],
   "source": [
    "generate_random_data()"
   ]
  },
  {
   "cell_type": "markdown",
   "metadata": {},
   "source": [
    "#### Function to Send Data do Eventhub"
   ]
  },
  {
   "cell_type": "code",
   "execution_count": 11,
   "metadata": {},
   "outputs": [],
   "source": [
    "def send_message_to_eventhub(eh_producer, msg_number, trh_number):\n",
    "    \"\"\"\n",
    "    Sends a specified number of JSON messages to Azure Event Hub using the provided producer client.\n",
    "\n",
    "    Args:\n",
    "        eh_producer (EventHubProducerClient): Event Hub producer client.\n",
    "        msg_number (int): Number of messages to send.\n",
    "        trh_number (int): Transaction identifier for logging.\n",
    "\n",
    "    Raises:\n",
    "        ValueError: If a message exceeds batch size limits.\n",
    "        Exception: For unexpected errors during sending.\n",
    "    \"\"\"\n",
    "        \n",
    "    for i in range(msg_number):\n",
    "\n",
    "        message = json.dumps(generate_random_data())\n",
    "\n",
    "        try:\n",
    "            with eh_producer:\n",
    "                event_data_batch = eh_producer.create_batch()\n",
    "\n",
    "                event_data_batch.add(EventData(message))\n",
    "\n",
    "                eh_producer.send_batch(event_data_batch)\n",
    "                \n",
    "                print(f\"[{trh_number}] - Mensagem enviada com sucesso! - {message}\")\n",
    "        except ValueError as ve:\n",
    "            print(f\"Erro ao enviar mensagem: {ve}\")\n",
    "        except Exception as e:\n",
    "            print(f\"Erro inesperado ao enviar mensagem: {e}\")\n",
    "        finally:\n",
    "            eh_producer.close()\n"
   ]
  },
  {
   "cell_type": "markdown",
   "metadata": {},
   "source": [
    "#### Start Thread to Send Data"
   ]
  },
  {
   "cell_type": "code",
   "execution_count": 12,
   "metadata": {},
   "outputs": [
    {
     "name": "stdout",
     "output_type": "stream",
     "text": [
      "init procces\n",
      "credential create\n",
      "producer create\n",
      "[1] - Mensagem enviada com sucesso! - {\"imei\": \"575286266571974\", \"mac\": \"1F:DA:AD:7D:29:3D\", \"network\": \"CLARO\", \"client_ip\": \"209.252.198.97\", \"latitude\": -2.560529396104336, \"longitude\": -44.22196452251703, \"uid\": \"51807322516\", \"password\": \"q65IYo\", \"transaction\": \"true\", \"api\": \"login-authentication\", \"endpoint\": \"v1/login\", \"os\": \"iOS 17\", \"phone_brand\": \"iPhone 13 Pro Max\", \"app_version\": \"2.0.3\", \"error\": \"0\", \"timestamp\": \"1730440899000.0\"}\n",
      "[2] - Mensagem enviada com sucesso! - {\"imei\": \"586337584394556\", \"mac\": \"E6:01:6B:CC:2D:82\", \"network\": \"CLARO\", \"client_ip\": \"17.31.200.72\", \"latitude\": -20.768919813069726, \"longitude\": -40.17583513845812, \"uid\": \"64385266624\", \"password\": \"1A2oVJ\", \"transaction\": \"true\", \"api\": \"login-authentication\", \"endpoint\": \"v1/login\", \"os\": \"Android 13 (MIUI 14)\", \"phone_brand\": \"Poco X5 Pro\", \"app_version\": \"2.0.3\", \"error\": \"0\", \"timestamp\": \"1730538006000.0\"}\n",
      "[2] - Mensagem enviada com sucesso! - {\"imei\": \"831923093103887\", \"mac\": \"0B:0D:93:2E:C6:FD\", \"network\": \"VIVO\", \"client_ip\": \"19.183.2.19\", \"latitude\": -3.7775510615455254, \"longitude\": -38.61874184048658, \"uid\": \"22042611022\", \"password\": \"YM9Rmv\", \"transaction\": \"true\", \"api\": \"login-authentication\", \"endpoint\": \"v1/login\", \"os\": \"Android 13 (Realme UI 4.0)\", \"phone_brand\": \"Realme 11 Pro+\", \"app_version\": \"2.0.3\", \"error\": \"0\", \"timestamp\": \"1730476585000.0\"}\n",
      "[1] - Mensagem enviada com sucesso! - {\"imei\": \"989376718047967\", \"mac\": \"F2:11:2A:BA:92:62\", \"network\": \"VIVO\", \"client_ip\": \"116.180.28.178\", \"latitude\": -9.455553832386729, \"longitude\": -48.67339633036817, \"uid\": \"29758192608\", \"password\": \"A8Nbli\", \"transaction\": \"true\", \"api\": \"login-authentication\", \"endpoint\": \"v1/login\", \"os\": \"iOS 15.7.8\", \"phone_brand\": \"iPhone 7\", \"app_version\": \"2.0.3\", \"error\": \"0\", \"timestamp\": \"1730488992000.0\"}\n",
      "[1] - Mensagem enviada com sucesso! - {\"imei\": \"743562279887542\", \"mac\": \"C6:6E:0E:A1:50:31\", \"network\": \"CLARO\", \"client_ip\": \"158.239.198.161\", \"latitude\": -5.370536318600085, \"longitude\": -47.33990883693613, \"uid\": \"64385266624\", \"password\": \"9OPZHv\", \"transaction\": \"true\", \"api\": \"login-authentication\", \"endpoint\": \"v1/login\", \"os\": \"Android 13 (Funtouch OS 13)\", \"phone_brand\": \"Vivo X90\", \"app_version\": \"2.0.2\", \"error\": \"0\", \"timestamp\": \"1730587988000.0\"}\n",
      "[2] - Mensagem enviada com sucesso! - {\"imei\": \"638604138748168\", \"mac\": \"ED:EA:01:0A:E5:04\", \"network\": \"OI\", \"client_ip\": \"112.29.126.88\", \"latitude\": -19.733216665899384, \"longitude\": -44.25156131759471, \"uid\": \"42460161670\", \"password\": \"h3Ntw9\", \"transaction\": \"true\", \"api\": \"login-authentication\", \"endpoint\": \"v1/login\", \"os\": \"Android 13 (MyUX)\", \"phone_brand\": \"Motorola Moto G Power 2023\", \"app_version\": \"2.0.3\", \"error\": \"0\", \"timestamp\": \"1730564694000.0\"}\n",
      "[2] - Mensagem enviada com sucesso! - {\"imei\": \"408201927588423\", \"mac\": \"E2:F1:5F:88:CA:BF\", \"network\": \"CLARO\", \"client_ip\": \"101.215.193.166\", \"latitude\": -23.568582303899642, \"longitude\": -46.37166842006189, \"uid\": \"54612860124\", \"password\": \"Z39Xdh\", \"transaction\": \"false\", \"api\": \"login-authentication\", \"endpoint\": \"v1/login\", \"os\": \"Android 13 (MIUI 14)\", \"phone_brand\": \"Xiaomi 13 Lite\", \"app_version\": \"2.0.3\", \"error\": \"0\", \"timestamp\": \"1730429583000.0\"}\n",
      "[1] - Mensagem enviada com sucesso! - {\"imei\": \"294245662465806\", \"mac\": \"79:38:C4:6A:C9:DB\", \"network\": \"CLARO\", \"client_ip\": \"128.230.108.61\", \"latitude\": 2.4417739467763377, \"longitude\": -61.96509737793625, \"uid\": \"28714980699\", \"password\": \"wp3W9q\", \"transaction\": \"true\", \"api\": \"login-authentication\", \"endpoint\": \"v1/login\", \"os\": \"Android 13\", \"phone_brand\": \"ZTE Nubia Z50\", \"app_version\": \"2.0.2\", \"error\": \"0\", \"timestamp\": \"1730520874000.0\"}\n",
      "[2] - Mensagem enviada com sucesso! - {\"imei\": \"834037172464093\", \"mac\": \"81:55:18:45:C4:63\", \"network\": \"OI\", \"client_ip\": \"68.196.57.146\", \"latitude\": -18.917113537126504, \"longitude\": -57.731273681137075, \"uid\": \"98854348723\", \"password\": \"0xR5im\", \"transaction\": \"true\", \"api\": \"login-authentication\", \"endpoint\": \"v1/login\", \"os\": \"iOS 17\", \"phone_brand\": \"iPhone 15 Plus\", \"app_version\": \"2.0.3\", \"error\": \"0\", \"timestamp\": \"1730431273000.0\"}\n",
      "[1] - Mensagem enviada com sucesso! - {\"imei\": \"298946892125851\", \"mac\": \"9A:24:4B:69:A7:24\", \"network\": \"VIVO\", \"client_ip\": \"148.13.146.42\", \"latitude\": -7.136786372387304, \"longitude\": -39.218045943287706, \"uid\": \"38156123477\", \"password\": \"l8oQRu\", \"transaction\": \"true\", \"api\": \"login-authentication\", \"endpoint\": \"v1/login\", \"os\": \"iOS 17\", \"phone_brand\": \"iPhone 14 Pro Max\", \"app_version\": \"2.0.2\", \"error\": \"0\", \"timestamp\": \"1730524436000.0\"}\n"
     ]
    }
   ],
   "source": [
    "eh_producer = spn_authentication()\n",
    "\n",
    "msg_number = 5\n",
    "\n",
    "thread_1 = threading.Thread(target=send_message_to_eventhub, args = (eh_producer, msg_number, 1))\n",
    "thread_2 = threading.Thread(target=send_message_to_eventhub, args = (eh_producer, msg_number, 2))\n",
    "\n",
    "thread_1.start()\n",
    "thread_2.start()\n",
    "\n",
    "thread_1.join()\n",
    "thread_2.join()"
   ]
  }
 ],
 "metadata": {
  "kernelspec": {
   "display_name": "Python 3",
   "language": "python",
   "name": "python3"
  },
  "language_info": {
   "codemirror_mode": {
    "name": "ipython",
    "version": 3
   },
   "file_extension": ".py",
   "mimetype": "text/x-python",
   "name": "python",
   "nbconvert_exporter": "python",
   "pygments_lexer": "ipython3",
   "version": "3.10.6"
  }
 },
 "nbformat": 4,
 "nbformat_minor": 2
}
