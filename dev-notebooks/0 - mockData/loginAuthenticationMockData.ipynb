{
 "cells": [
  {
   "cell_type": "markdown",
   "metadata": {},
   "source": [
    "# Login Authentication Mock Data"
   ]
  },
  {
   "cell_type": "markdown",
   "metadata": {},
   "source": [
    "Notebook de desenvolvimento responável por realizar processo de mock dos dados e evenviar os dados para o eventhub utilizando autenticação com SPN"
   ]
  },
  {
   "cell_type": "markdown",
   "metadata": {},
   "source": [
    "\n",
    "<div style=\"text-align: center; line-height: 0; padding-top: 9px;\">\n",
    "  <img src=\"https://raw.githubusercontent.com/Foiac/MobileFraudDetectSolution/main/Editaveis/Imagens/login-authetication-mock-data.png\" alt=\"SparkStreaming Ingest\" style=\"width: 800px\">\n",
    "</div>"
   ]
  },
  {
   "cell_type": "markdown",
   "metadata": {},
   "source": [
    "#### Import dependecies"
   ]
  },
  {
   "cell_type": "code",
   "execution_count": 2,
   "metadata": {},
   "outputs": [],
   "source": [
    "import random\n",
    "import json\n",
    "from faker import Faker\n",
    "from datetime import datetime\n",
    "from azure.eventhub import EventHubProducerClient, EventData\n",
    "from azure.identity import ClientSecretCredential\n",
    "import pandas as pd\n",
    "import threading\n",
    "from dotenv import load_dotenv\n",
    "import os"
   ]
  },
  {
   "cell_type": "markdown",
   "metadata": {},
   "source": [
    "#### Path definitions and secrets"
   ]
  },
  {
   "cell_type": "code",
   "execution_count": 3,
   "metadata": {},
   "outputs": [],
   "source": [
    "load_dotenv()\n",
    "\n",
    "azure_tenant_id: str = os.environ[\"AZURE_TENANT\"]\n",
    "azure_client_id: str = os.environ[\"CLIENT_ID\"]\n",
    "azure_client_secret: str = os.environ[\"CLIENT_SECRET\"] \n",
    "eventhub_namespace: str = os.environ[\"EVENTHUB_NAMESPACE\"]\n",
    "eventhub_namespace_fully: str = f\"{eventhub_namespace}.servicebus.windows.net\"\n",
    "eventhub_name: str = os.environ[\"EVENTHUB_NAME\"]"
   ]
  },
  {
   "cell_type": "code",
   "execution_count": 4,
   "metadata": {},
   "outputs": [],
   "source": [
    "file_path = 'phonedataset.csv'\n",
    "\n",
    "df = pd.read_csv(file_path, sep=';')\n",
    "phone_list = df.values.tolist()\n",
    "\n",
    "with open('city_clusters.json', 'r', encoding='utf-8') as file:\n",
    "    city_clusters = json.load(file)"
   ]
  },
  {
   "cell_type": "markdown",
   "metadata": {},
   "source": [
    "#### Initial Definitions"
   ]
  },
  {
   "cell_type": "code",
   "execution_count": 5,
   "metadata": {},
   "outputs": [],
   "source": [
    "start_date = datetime(2024, 11, 1, 0)\n",
    "end_date = datetime(2024, 11, 2, 23)"
   ]
  },
  {
   "cell_type": "code",
   "execution_count": 6,
   "metadata": {},
   "outputs": [],
   "source": [
    "fake = Faker()\n",
    "\n",
    "transaction_prob_true = 0.78\n",
    "transaction_prob_false = 0.22\n",
    "transaction_prob = [transaction_prob_true, transaction_prob_false] \n",
    "\n",
    "app_version_prob_v201 = 0.05\n",
    "app_version_prob_v202 = 0.20\n",
    "app_version_prob_v203 = 0.75\n",
    "app_version_prob = [app_version_prob_v201, app_version_prob_v202, app_version_prob_v203] \n",
    "\n",
    "error_prob_success = 0.90\n",
    "error_prob_incorrect_pass = 0.08\n",
    "error_prob_user_not_fount = 0.02\n",
    "error_prob = [error_prob_success, error_prob_incorrect_pass, error_prob_user_not_fount] \n",
    "\n",
    "uids = [str(fake.random_number(digits=11, fix_len=True)) for _ in range(2)]"
   ]
  },
  {
   "cell_type": "code",
   "execution_count": 7,
   "metadata": {},
   "outputs": [
    {
     "data": {
      "text/plain": [
       "['34909767117', '11549456256']"
      ]
     },
     "execution_count": 7,
     "metadata": {},
     "output_type": "execute_result"
    }
   ],
   "source": [
    "uids"
   ]
  },
  {
   "cell_type": "markdown",
   "metadata": {},
   "source": [
    "#### Function to Create SPN Client "
   ]
  },
  {
   "cell_type": "code",
   "execution_count": 8,
   "metadata": {},
   "outputs": [],
   "source": [
    "def spn_authentication():\n",
    "    \"\"\"\n",
    "    Get OAuth credentials to send messages to eventhub\n",
    "\n",
    "    Returns:\n",
    "        ClientSecretCredential: Credential to use to create eventhub client\n",
    "    \"\"\"\n",
    "    \n",
    "    print(\"init procces\")\n",
    "    credential = ClientSecretCredential(tenant_id=azure_tenant_id, \n",
    "                                        client_id=azure_client_id,\n",
    "                                        client_secret=azure_client_secret)\n",
    "    print(\"credential create\")\n",
    "\n",
    "    return credential\n",
    "\n",
    "#segregação mais clara de escopos entre autenticão e criação do producer"
   ]
  },
  {
   "cell_type": "markdown",
   "metadata": {},
   "source": [
    "#### Function to Return Producer"
   ]
  },
  {
   "cell_type": "code",
   "execution_count": 9,
   "metadata": {},
   "outputs": [],
   "source": [
    "def eventhub_producer(credential):\n",
    "    \"\"\"\n",
    "    Creates an Event Hub producer client using SPN credentials.\n",
    "\n",
    "    Returns:\n",
    "        EventHubProducerClient: Client for sending events to Azure Event Hub.\n",
    "    \"\"\"\n",
    "\n",
    "    producer = EventHubProducerClient(fully_qualified_namespace=eventhub_namespace_fully,\n",
    "                                        eventhub_name=eventhub_name,\n",
    "                                        credential=credential)\n",
    "    print(\"producer create\")\n",
    "\n",
    "    return producer"
   ]
  },
  {
   "cell_type": "markdown",
   "metadata": {},
   "source": [
    "#### Function to Generate Random Data"
   ]
  },
  {
   "cell_type": "code",
   "execution_count": 10,
   "metadata": {},
   "outputs": [],
   "source": [
    "def generate_random_data():\n",
    "    \"\"\"\n",
    "    Generates a dictionary representing random simulated data for login authentication events.\n",
    "\n",
    "    This function creates data for testing or simulation purposes, including fields like\n",
    "    geographic location, device information, network details, and authentication attributes.\n",
    "\n",
    "    Returns:\n",
    "        dict: A dictionary containing randomly generated data fields:\n",
    "            - imei (str): Randomly generated 15-digit IMEI number.\n",
    "            - mac (str): Randomly generated MAC address.\n",
    "            - network (str): Randomly chosen network provider (e.g., \"VIVO\", \"TIM\").\n",
    "            - client_ip (str): Random IPv4 address.\n",
    "            - latitude (float): Latitude based on a random city cluster and Gaussian noise.\n",
    "            - longitude (float): Longitude based on a random city cluster and Gaussian noise.\n",
    "            - uid (str): Randomly generated user ID (UID) or chosen from a predefined list.\n",
    "            - password (str): Random password with a mix of digits, upper- and lower-case letters.\n",
    "            - transaction (str): Simulated transaction status (\"true\" or \"false\").\n",
    "            - api (str): API name for the simulated event (\"login-authentication\").\n",
    "            - endpoint (str): API endpoint (\"v1/login\").\n",
    "            - os (str): Randomly selected operational version from the phone list.\n",
    "            - phone_brand (str): Phone brand associated with the operational version.\n",
    "            - app_version (str): Randomly chosen application version.\n",
    "            - error (str): Simulated error code (e.g., \"0\", \"INCORRECT_PASS\").\n",
    "            - timestamp (str): Random UNIX timestamp in milliseconds.\n",
    "            \"\"\"\n",
    "\n",
    "    city = random.choice(city_clusters)\n",
    "    latitude = random.gauss(city[\"lat\"], city[\"std_dev\"])\n",
    "    longitude = random.gauss(city[\"long\"], city[\"std_dev\"])\n",
    "\n",
    "    brand_version = random.choice(phone_list)\n",
    "    phone_brand = brand_version[0]\n",
    "    operational_version = brand_version[1]\n",
    "\n",
    "    fraud_prob = 0.15\n",
    "\n",
    "    uid = random.choice(uids) if random.random() < fraud_prob else str(fake.random_number(digits=11, fix_len=True))\n",
    "\n",
    "    return {\n",
    "        \"imei\": str(fake.random_number(digits=15, fix_len=True)),\n",
    "        \"mac\": ':'.join([f\"{random.randint(0, 255):02X}\" for _ in range(6)]),\n",
    "        \"network\": random.choice([\"VIVO\", \"TIM\", \"CLARO\", \"OI\"]),\n",
    "        \"client_ip\": fake.ipv4(),\n",
    "        \"latitude\": latitude,\n",
    "        \"longitude\": longitude,\n",
    "        \"uid\": uid,\n",
    "        \"password\": fake.password(length=6, special_chars=False, digits=True, upper_case=True, lower_case=True),\n",
    "        \"transaction\": random.choices([\"true\", \"false\"], weights=transaction_prob, k=1)[0],\n",
    "        \"api\": \"login-authentication\",\n",
    "        \"endpoint\": \"v1/login\",\n",
    "        \"os\": operational_version,\n",
    "        \"phone_brand\": phone_brand,\n",
    "        \"app_version\": random.choices([\"2.0.1\", \"2.0.2\", \"2.0.3\"], weights=app_version_prob, k=1)[0],\n",
    "        \"error\": random.choices([\"0\", \"INCORRECT_PASS\", \"USER_NOT_FOUND\"], weights=error_prob, k=1)[0],\n",
    "        \"timestamp\": str(fake.unix_time(start_datetime=start_date, end_datetime=end_date) * 1000)\n",
    "    }"
   ]
  },
  {
   "cell_type": "code",
   "execution_count": 11,
   "metadata": {},
   "outputs": [
    {
     "data": {
      "text/plain": [
       "{'imei': '782323063790042',\n",
       " 'mac': '7F:34:CD:FD:98:9A',\n",
       " 'network': 'VIVO',\n",
       " 'client_ip': '128.121.132.134',\n",
       " 'latitude': -27.27699093535492,\n",
       " 'longitude': -52.729783519507684,\n",
       " 'uid': '11549456256',\n",
       " 'password': '2bkWOv',\n",
       " 'transaction': 'false',\n",
       " 'api': 'login-authentication',\n",
       " 'endpoint': 'v1/login',\n",
       " 'os': 'Android 13',\n",
       " 'phone_brand': 'Sony Xperia 10 V',\n",
       " 'app_version': '2.0.3',\n",
       " 'error': '0',\n",
       " 'timestamp': '1730480563000.0'}"
      ]
     },
     "execution_count": 11,
     "metadata": {},
     "output_type": "execute_result"
    }
   ],
   "source": [
    "generate_random_data()"
   ]
  },
  {
   "cell_type": "markdown",
   "metadata": {},
   "source": [
    "#### Function to Send Data do Eventhub"
   ]
  },
  {
   "cell_type": "code",
   "execution_count": 12,
   "metadata": {},
   "outputs": [],
   "source": [
    "def send_message_to_eventhub(eh_producer, msg_number, trh_number):\n",
    "    \"\"\"\n",
    "    Sends a specified number of JSON messages to Azure Event Hub using the provided producer client.\n",
    "\n",
    "    Args:\n",
    "        eh_producer (EventHubProducerClient): Event Hub producer client.\n",
    "        msg_number (int): Number of messages to send.\n",
    "        trh_number (int): Transaction identifier for logging.\n",
    "\n",
    "    Raises:\n",
    "        ValueError: If a message exceeds batch size limits.\n",
    "        Exception: For unexpected errors during sending.\n",
    "    \"\"\"\n",
    "        \n",
    "    for i in range(msg_number):\n",
    "\n",
    "        message = json.dumps(generate_random_data())\n",
    "\n",
    "        try:\n",
    "            with eh_producer:\n",
    "                event_data_batch = eh_producer.create_batch()\n",
    "\n",
    "                event_data_batch.add(EventData(message))\n",
    "\n",
    "                eh_producer.send_batch(event_data_batch)\n",
    "                \n",
    "                print(f\"[{trh_number}-{eventhub_namespace_fully}] - Mensagem enviada com sucesso! - {message}\")\n",
    "        except ValueError as ve:\n",
    "            print(f\"Erro ao enviar mensagem: {ve}\")\n",
    "        except Exception as e:\n",
    "            print(f\"Erro inesperado ao enviar mensagem: {e}\")\n",
    "        finally:\n",
    "            eh_producer.close()\n"
   ]
  },
  {
   "cell_type": "markdown",
   "metadata": {},
   "source": [
    "#### Start Thread to Send Data"
   ]
  },
  {
   "cell_type": "code",
   "execution_count": null,
   "metadata": {},
   "outputs": [
    {
     "name": "stdout",
     "output_type": "stream",
     "text": [
      "init procces\n",
      "credential create\n",
      "producer create\n",
      "[1-fraud-eh-namespace-standard.servicebus.windows.net] - Mensagem enviada com sucesso! - {\"imei\": \"131109236181229\", \"mac\": \"F7:6F:28:E6:FB:24\", \"network\": \"TIM\", \"client_ip\": \"22.214.112.237\", \"latitude\": -8.181264568881199, \"longitude\": -35.195731715288666, \"uid\": \"49703154315\", \"password\": \"NXA1Ra\", \"transaction\": \"true\", \"api\": \"login-authentication\", \"endpoint\": \"v1/login\", \"os\": \"iOS 17\", \"phone_brand\": \"iPhone 13 Mini\", \"app_version\": \"2.0.3\", \"error\": \"0\", \"timestamp\": \"1730554409000.0\"}\n",
      "[2-fraud-eh-namespace-standard.servicebus.windows.net] - Mensagem enviada com sucesso! - {\"imei\": \"839982047247759\", \"mac\": \"B4:31:AC:6C:71:C2\", \"network\": \"TIM\", \"client_ip\": \"107.142.230.179\", \"latitude\": -3.374218076700725, \"longitude\": -38.34671252626709, \"uid\": \"53008320505\", \"password\": \"1Wqxox\", \"transaction\": \"false\", \"api\": \"login-authentication\", \"endpoint\": \"v1/login\", \"os\": \"Android 13 (MIUI 14)\", \"phone_brand\": \"Xiaomi Redmi Note 12\", \"app_version\": \"2.0.2\", \"error\": \"0\", \"timestamp\": \"1730500340000.0\"}\n",
      "[1-fraud-eh-namespace-standard.servicebus.windows.net] - Mensagem enviada com sucesso! - {\"imei\": \"923192244448551\", \"mac\": \"C5:1E:2C:18:8D:25\", \"network\": \"TIM\", \"client_ip\": \"204.27.239.8\", \"latitude\": -20.906666835948315, \"longitude\": -51.99924902200413, \"uid\": \"88066295114\", \"password\": \"86Z8Tz\", \"transaction\": \"false\", \"api\": \"login-authentication\", \"endpoint\": \"v1/login\", \"os\": \"iOS 17\", \"phone_brand\": \"iPhone 15 Pro Max\", \"app_version\": \"2.0.2\", \"error\": \"INCORRECT_PASS\", \"timestamp\": \"1730568920000.0\"}\n",
      "[2-fraud-eh-namespace-standard.servicebus.windows.net] - Mensagem enviada com sucesso! - {\"imei\": \"109204005460052\", \"mac\": \"B3:97:68:EA:6F:C7\", \"network\": \"VIVO\", \"client_ip\": \"78.112.40.163\", \"latitude\": -27.040696968613595, \"longitude\": -52.72532273242792, \"uid\": \"29310343514\", \"password\": \"1DNu0Z\", \"transaction\": \"true\", \"api\": \"login-authentication\", \"endpoint\": \"v1/login\", \"os\": \"Android 13\", \"phone_brand\": \"ZTE Nubia Z50\", \"app_version\": \"2.0.3\", \"error\": \"0\", \"timestamp\": \"1730580398000.0\"}\n",
      "[1-fraud-eh-namespace-standard.servicebus.windows.net] - Mensagem enviada com sucesso! - {\"imei\": \"379878033281446\", \"mac\": \"D1:58:91:A4:BC:37\", \"network\": \"OI\", \"client_ip\": \"220.78.99.50\", \"latitude\": -23.77563100432002, \"longitude\": -51.262987693146776, \"uid\": \"89718886349\", \"password\": \"m4mcBm\", \"transaction\": \"true\", \"api\": \"login-authentication\", \"endpoint\": \"v1/login\", \"os\": \"iOS 16\", \"phone_brand\": \"iPhone 8\", \"app_version\": \"2.0.3\", \"error\": \"0\", \"timestamp\": \"1730491222000.0\"}\n",
      "[2-fraud-eh-namespace-standard.servicebus.windows.net] - Mensagem enviada com sucesso! - {\"imei\": \"888042925223174\", \"mac\": \"B9:4B:05:07:B6:BA\", \"network\": \"VIVO\", \"client_ip\": \"81.177.184.248\", \"latitude\": -21.703336134274167, \"longitude\": -43.454286695170055, \"uid\": \"80673548451\", \"password\": \"UG1Ebv\", \"transaction\": \"true\", \"api\": \"login-authentication\", \"endpoint\": \"v1/login\", \"os\": \"iOS 17\", \"phone_brand\": \"iPhone SE 2020\", \"app_version\": \"2.0.3\", \"error\": \"0\", \"timestamp\": \"1730565877000.0\"}\n",
      "[1-fraud-eh-namespace-standard.servicebus.windows.net] - Mensagem enviada com sucesso! - {\"imei\": \"648003790122509\", \"mac\": \"AB:F7:E0:D4:0E:43\", \"network\": \"OI\", \"client_ip\": \"66.182.23.205\", \"latitude\": -9.370609183608783, \"longitude\": -36.000740168887646, \"uid\": \"76263902094\", \"password\": \"7y5Ngk\", \"transaction\": \"true\", \"api\": \"login-authentication\", \"endpoint\": \"v1/login\", \"os\": \"Android 13 (Funtouch OS 13)\", \"phone_brand\": \"Vivo V29e\", \"app_version\": \"2.0.3\", \"error\": \"0\", \"timestamp\": \"1730495312000.0\"}\n",
      "[2-fraud-eh-namespace-standard.servicebus.windows.net] - Mensagem enviada com sucesso! - {\"imei\": \"814617337708969\", \"mac\": \"11:46:97:41:24:15\", \"network\": \"TIM\", \"client_ip\": \"163.34.180.118\", \"latitude\": -19.649171045838926, \"longitude\": -44.13518572870252, \"uid\": \"76367924129\", \"password\": \"d9BRRe\", \"transaction\": \"false\", \"api\": \"login-authentication\", \"endpoint\": \"v1/login\", \"os\": \"iOS 10.3.4\", \"phone_brand\": \"iPhone 5\", \"app_version\": \"2.0.2\", \"error\": \"0\", \"timestamp\": \"1730503785000.0\"}\n",
      "[1-fraud-eh-namespace-standard.servicebus.windows.net] - Mensagem enviada com sucesso! - {\"imei\": \"566503296520263\", \"mac\": \"52:F6:4C:44:57:4D\", \"network\": \"OI\", \"client_ip\": \"87.218.173.230\", \"latitude\": -8.23590352456598, \"longitude\": -34.93756363014488, \"uid\": \"13873379268\", \"password\": \"44LolO\", \"transaction\": \"true\", \"api\": \"login-authentication\", \"endpoint\": \"v1/login\", \"os\": \"iOS 17\", \"phone_brand\": \"iPhone 11 Pro Max\", \"app_version\": \"2.0.3\", \"error\": \"0\", \"timestamp\": \"1730491469000.0\"}\n",
      "[1-fraud-eh-namespace-standard.servicebus.windows.net] - Mensagem enviada com sucesso! - {\"imei\": \"669675196489604\", \"mac\": \"C4:60:2D:98:B5:21\", \"network\": \"TIM\", \"client_ip\": \"125.41.132.238\", \"latitude\": -9.86805392718289, \"longitude\": -35.48945302108216, \"uid\": \"67145580269\", \"password\": \"6DK9jJ\", \"transaction\": \"false\", \"api\": \"login-authentication\", \"endpoint\": \"v1/login\", \"os\": \"iOS 4.2.1\", \"phone_brand\": \"iPhone 3G\", \"app_version\": \"2.0.3\", \"error\": \"0\", \"timestamp\": \"1730558263000.0\"}\n",
      "[2-fraud-eh-namespace-standard.servicebus.windows.net] - Mensagem enviada com sucesso! - {\"imei\": \"599896046759960\", \"mac\": \"26:A0:8F:90:9F:89\", \"network\": \"OI\", \"client_ip\": \"118.24.160.145\", \"latitude\": -2.1890253983261907, \"longitude\": -57.010920594040726, \"uid\": \"11549456256\", \"password\": \"6Q1oAg\", \"transaction\": \"true\", \"api\": \"login-authentication\", \"endpoint\": \"v1/login\", \"os\": \"Android 13 (MyUX)\", \"phone_brand\": \"Motorola Moto G Power 2023\", \"app_version\": \"2.0.3\", \"error\": \"0\", \"timestamp\": \"1730534166000.0\"}\n",
      "[1-fraud-eh-namespace-standard.servicebus.windows.net] - Mensagem enviada com sucesso! - {\"imei\": \"625884858619212\", \"mac\": \"AF:68:FC:07:1D:B4\", \"network\": \"TIM\", \"client_ip\": \"47.179.147.165\", \"latitude\": -5.984354395007907, \"longitude\": -35.71067742536712, \"uid\": \"27490489839\", \"password\": \"6HD5Ey\", \"transaction\": \"false\", \"api\": \"login-authentication\", \"endpoint\": \"v1/login\", \"os\": \"Android 14 (Stock Android)\", \"phone_brand\": \"Google Pixel 8 Pro\", \"app_version\": \"2.0.2\", \"error\": \"0\", \"timestamp\": \"1730489420000.0\"}\n",
      "[2-fraud-eh-namespace-standard.servicebus.windows.net] - Mensagem enviada com sucesso! - {\"imei\": \"968788127973127\", \"mac\": \"E3:CD:EF:9C:C0:75\", \"network\": \"CLARO\", \"client_ip\": \"44.111.9.101\", \"latitude\": -30.18451361755625, \"longitude\": -51.03876300886537, \"uid\": \"50181245988\", \"password\": \"0RLz5L\", \"transaction\": \"false\", \"api\": \"login-authentication\", \"endpoint\": \"v1/login\", \"os\": \"Android 12 (XOS 12)\", \"phone_brand\": \"Infinix Zero Ultra\", \"app_version\": \"2.0.3\", \"error\": \"0\", \"timestamp\": \"1730457558000.0\"}\n",
      "[1-fraud-eh-namespace-standard.servicebus.windows.net] - Mensagem enviada com sucesso! - {\"imei\": \"666952169474387\", \"mac\": \"0E:19:48:45:52:B5\", \"network\": \"CLARO\", \"client_ip\": \"198.142.165.78\", \"latitude\": -3.388612414467726, \"longitude\": -40.503998141398895, \"uid\": \"93630109662\", \"password\": \"126QWw\", \"transaction\": \"true\", \"api\": \"login-authentication\", \"endpoint\": \"v1/login\", \"os\": \"Android 13 (MIUI 14)\", \"phone_brand\": \"Xiaomi 13 Lite\", \"app_version\": \"2.0.3\", \"error\": \"0\", \"timestamp\": \"1730420332000.0\"}\n",
      "[2-fraud-eh-namespace-standard.servicebus.windows.net] - Mensagem enviada com sucesso! - {\"imei\": \"791127811854060\", \"mac\": \"14:B5:C5:1E:D6:59\", \"network\": \"VIVO\", \"client_ip\": \"33.167.184.236\", \"latitude\": 2.1829838670206487, \"longitude\": -61.24347889049008, \"uid\": \"89971034375\", \"password\": \"50LKb6\", \"transaction\": \"true\", \"api\": \"login-authentication\", \"endpoint\": \"v1/login\", \"os\": \"Android 14 (Stock Android)\", \"phone_brand\": \"Google Pixel 8 Pro\", \"app_version\": \"2.0.3\", \"error\": \"USER_NOT_FOUND\", \"timestamp\": \"1730473740000.0\"}\n",
      "[1-fraud-eh-namespace-standard.servicebus.windows.net] - Mensagem enviada com sucesso! - {\"imei\": \"421307116528129\", \"mac\": \"EE:52:24:0F:6F:0A\", \"network\": \"OI\", \"client_ip\": \"103.86.182.48\", \"latitude\": -11.148063158583602, \"longitude\": -61.24609214820808, \"uid\": \"21444691017\", \"password\": \"3BaBZn\", \"transaction\": \"true\", \"api\": \"login-authentication\", \"endpoint\": \"v1/login\", \"os\": \"iOS 17\", \"phone_brand\": \"iPhone XS\", \"app_version\": \"2.0.3\", \"error\": \"USER_NOT_FOUND\", \"timestamp\": \"1730552824000.0\"}\n",
      "[2-fraud-eh-namespace-standard.servicebus.windows.net] - Mensagem enviada com sucesso! - {\"imei\": \"397722319144684\", \"mac\": \"97:88:62:A6:B2:BF\", \"network\": \"TIM\", \"client_ip\": \"211.138.33.195\", \"latitude\": -10.818563420158418, \"longitude\": -61.52152014661998, \"uid\": \"79525964549\", \"password\": \"A25Chx\", \"transaction\": \"true\", \"api\": \"login-authentication\", \"endpoint\": \"v1/login\", \"os\": \"Android 13 (Funtouch OS 13)\", \"phone_brand\": \"Vivo X90 Pro\", \"app_version\": \"2.0.3\", \"error\": \"0\", \"timestamp\": \"1730462365000.0\"}\n",
      "[1-fraud-eh-namespace-standard.servicebus.windows.net] - Mensagem enviada com sucesso! - {\"imei\": \"622639669570245\", \"mac\": \"84:13:F1:0C:0E:FA\", \"network\": \"TIM\", \"client_ip\": \"106.197.228.139\", \"latitude\": -3.708043592274844, \"longitude\": -40.37824528473357, \"uid\": \"95527777967\", \"password\": \"Ji7R2l\", \"transaction\": \"true\", \"api\": \"login-authentication\", \"endpoint\": \"v1/login\", \"os\": \"iOS 17\", \"phone_brand\": \"iPhone SE 1\\u00aa Gera\\u00e7\\u00e3o (2016)\", \"app_version\": \"2.0.2\", \"error\": \"0\", \"timestamp\": \"1730486770000.0\"}\n",
      "[2-fraud-eh-namespace-standard.servicebus.windows.net] - Mensagem enviada com sucesso! - {\"imei\": \"436995912724105\", \"mac\": \"6C:24:3F:C2:0B:7E\", \"network\": \"VIVO\", \"client_ip\": \"153.179.47.115\", \"latitude\": -23.5166184274317, \"longitude\": -45.53923989731569, \"uid\": \"88840943496\", \"password\": \"7zFwbr\", \"transaction\": \"true\", \"api\": \"login-authentication\", \"endpoint\": \"v1/login\", \"os\": \"iOS 17\", \"phone_brand\": \"iPhone 14 Plus\", \"app_version\": \"2.0.3\", \"error\": \"0\", \"timestamp\": \"1730508912000.0\"}\n",
      "[1-fraud-eh-namespace-standard.servicebus.windows.net] - Mensagem enviada com sucesso! - {\"imei\": \"504650679605455\", \"mac\": \"95:6A:1B:48:D5:01\", \"network\": \"CLARO\", \"client_ip\": \"161.94.143.32\", \"latitude\": -0.5458416493490932, \"longitude\": -51.587438679229024, \"uid\": \"34909767117\", \"password\": \"0YN2ny\", \"transaction\": \"false\", \"api\": \"login-authentication\", \"endpoint\": \"v1/login\", \"os\": \"Android 13 (MIUI 14)\", \"phone_brand\": \"Xiaomi 13\", \"app_version\": \"2.0.1\", \"error\": \"0\", \"timestamp\": \"1730435286000.0\"}\n",
      "[2-fraud-eh-namespace-standard.servicebus.windows.net] - Mensagem enviada com sucesso! - {\"imei\": \"409342544251799\", \"mac\": \"AD:9A:CC:76:CF:00\", \"network\": \"OI\", \"client_ip\": \"156.128.246.6\", \"latitude\": -12.679714074681165, \"longitude\": -37.966658753025015, \"uid\": \"39612147466\", \"password\": \"D5KCrb\", \"transaction\": \"true\", \"api\": \"login-authentication\", \"endpoint\": \"v1/login\", \"os\": \"Android 13 (ColorOS 13.1)\", \"phone_brand\": \"OPPO Reno 10 Pro+\", \"app_version\": \"2.0.3\", \"error\": \"0\", \"timestamp\": \"1730472076000.0\"}\n",
      "[1-fraud-eh-namespace-standard.servicebus.windows.net] - Mensagem enviada com sucesso! - {\"imei\": \"405872297857479\", \"mac\": \"24:05:AC:16:DD:16\", \"network\": \"VIVO\", \"client_ip\": \"7.220.152.107\", \"latitude\": -6.763317198016507, \"longitude\": -39.03878063669815, \"uid\": \"29786595433\", \"password\": \"ji4Fkb\", \"transaction\": \"true\", \"api\": \"login-authentication\", \"endpoint\": \"v1/login\", \"os\": \"Android 14 (Stock Android)\", \"phone_brand\": \"Google Pixel 8\", \"app_version\": \"2.0.2\", \"error\": \"0\", \"timestamp\": \"1730480813000.0\"}\n",
      "[2-fraud-eh-namespace-standard.servicebus.windows.net] - Mensagem enviada com sucesso! - {\"imei\": \"563846699189285\", \"mac\": \"FF:55:69:65:E4:06\", \"network\": \"TIM\", \"client_ip\": \"159.236.165.164\", \"latitude\": -5.544499589671969, \"longitude\": -37.01667702903112, \"uid\": \"31020964737\", \"password\": \"jz5iRi\", \"transaction\": \"true\", \"api\": \"login-authentication\", \"endpoint\": \"v1/login\", \"os\": \"Android 13 (MIUI 14)\", \"phone_brand\": \"Poco X5 Pro\", \"app_version\": \"2.0.3\", \"error\": \"0\", \"timestamp\": \"1730545770000.0\"}\n",
      "[1-fraud-eh-namespace-standard.servicebus.windows.net] - Mensagem enviada com sucesso! - {\"imei\": \"395297789839535\", \"mac\": \"B1:3A:69:03:33:A5\", \"network\": \"TIM\", \"client_ip\": \"185.224.31.64\", \"latitude\": -8.084510923140154, \"longitude\": -71.05584141976897, \"uid\": \"12705595177\", \"password\": \"9oNSbV\", \"transaction\": \"true\", \"api\": \"login-authentication\", \"endpoint\": \"v1/login\", \"os\": \"iOS 17\", \"phone_brand\": \"iPhone XS\", \"app_version\": \"2.0.3\", \"error\": \"0\", \"timestamp\": \"1730561366000.0\"}\n",
      "[2-fraud-eh-namespace-standard.servicebus.windows.net] - Mensagem enviada com sucesso! - {\"imei\": \"708291023809947\", \"mac\": \"2E:93:48:3A:32:58\", \"network\": \"OI\", \"client_ip\": \"40.183.161.122\", \"latitude\": -22.50008153900569, \"longitude\": -47.04242096774821, \"uid\": \"15945637494\", \"password\": \"vt70Vm\", \"transaction\": \"false\", \"api\": \"login-authentication\", \"endpoint\": \"v1/login\", \"os\": \"Android 12 (XOS 12)\", \"phone_brand\": \"Infinix Zero Ultra\", \"app_version\": \"2.0.3\", \"error\": \"0\", \"timestamp\": \"1730428643000.0\"}\n",
      "[1-fraud-eh-namespace-standard.servicebus.windows.net] - Mensagem enviada com sucesso! - {\"imei\": \"573528472010483\", \"mac\": \"96:C2:E6:CF:7A:63\", \"network\": \"TIM\", \"client_ip\": \"147.191.3.173\", \"latitude\": -5.117248201492188, \"longitude\": -42.9069958137918, \"uid\": \"60650407943\", \"password\": \"98PsgU\", \"transaction\": \"true\", \"api\": \"login-authentication\", \"endpoint\": \"v1/login\", \"os\": \"Android 13 (MIUI 14)\", \"phone_brand\": \"Xiaomi 13 Lite\", \"app_version\": \"2.0.2\", \"error\": \"0\", \"timestamp\": \"1730540632000.0\"}\n",
      "[2-fraud-eh-namespace-standard.servicebus.windows.net] - Mensagem enviada com sucesso! - {\"imei\": \"830474629678198\", \"mac\": \"71:9B:78:74:8F:A7\", \"network\": \"CLARO\", \"client_ip\": \"195.221.183.66\", \"latitude\": -16.268155702031255, \"longitude\": -47.68730948993053, \"uid\": \"30498488414\", \"password\": \"76NFLk\", \"transaction\": \"true\", \"api\": \"login-authentication\", \"endpoint\": \"v1/login\", \"os\": \"Android 13 (MagicOS 7.1)\", \"phone_brand\": \"Honor Magic 5 Pro\", \"app_version\": \"2.0.3\", \"error\": \"0\", \"timestamp\": \"1730545582000.0\"}\n",
      "[1-fraud-eh-namespace-standard.servicebus.windows.net] - Mensagem enviada com sucesso! - {\"imei\": \"774945048318839\", \"mac\": \"AB:E5:51:7C:0A:C2\", \"network\": \"VIVO\", \"client_ip\": \"193.221.136.247\", \"latitude\": 2.7787351756099303, \"longitude\": -60.75170242657341, \"uid\": \"11549456256\", \"password\": \"3GDokg\", \"transaction\": \"true\", \"api\": \"login-authentication\", \"endpoint\": \"v1/login\", \"os\": \"iOS 17\", \"phone_brand\": \"iPhone 13 Pro\", \"app_version\": \"2.0.3\", \"error\": \"INCORRECT_PASS\", \"timestamp\": \"1730488392000.0\"}\n",
      "[2-fraud-eh-namespace-standard.servicebus.windows.net] - Mensagem enviada com sucesso! - {\"imei\": \"545540210330733\", \"mac\": \"D5:4F:91:A0:D4:8B\", \"network\": \"OI\", \"client_ip\": \"55.38.168.56\", \"latitude\": -6.42706416805029, \"longitude\": -35.33637781486881, \"uid\": \"12116291557\", \"password\": \"3pOqxt\", \"transaction\": \"true\", \"api\": \"login-authentication\", \"endpoint\": \"v1/login\", \"os\": \"Android 13 (OxygenOS 13.1)\", \"phone_brand\": \"OnePlus Nord 3\", \"app_version\": \"2.0.3\", \"error\": \"0\", \"timestamp\": \"1730553930000.0\"}\n",
      "[1-fraud-eh-namespace-standard.servicebus.windows.net] - Mensagem enviada com sucesso! - {\"imei\": \"437194331882682\", \"mac\": \"91:43:92:AB:00:CE\", \"network\": \"CLARO\", \"client_ip\": \"142.14.6.19\", \"latitude\": -15.36707481327708, \"longitude\": -56.46885238160125, \"uid\": \"88125481421\", \"password\": \"6TQFWr\", \"transaction\": \"true\", \"api\": \"login-authentication\", \"endpoint\": \"v1/login\", \"os\": \"iOS 17\", \"phone_brand\": \"iPhone 13\", \"app_version\": \"2.0.3\", \"error\": \"0\", \"timestamp\": \"1730576318000.0\"}\n",
      "[2-fraud-eh-namespace-standard.servicebus.windows.net] - Mensagem enviada com sucesso! - {\"imei\": \"899518871245493\", \"mac\": \"F3:3E:C4:83:AE:06\", \"network\": \"VIVO\", \"client_ip\": \"10.240.248.145\", \"latitude\": -21.289557389669984, \"longitude\": -52.24681512127164, \"uid\": \"12294689169\", \"password\": \"uu6JIm\", \"transaction\": \"true\", \"api\": \"login-authentication\", \"endpoint\": \"v1/login\", \"os\": \"iOS 7.1.2\", \"phone_brand\": \"iPhone 4\", \"app_version\": \"2.0.3\", \"error\": \"0\", \"timestamp\": \"1730446099000.0\"}\n",
      "[1-fraud-eh-namespace-standard.servicebus.windows.net] - Mensagem enviada com sucesso! - {\"imei\": \"665010943956789\", \"mac\": \"05:4B:26:03:2D:8F\", \"network\": \"CLARO\", \"client_ip\": \"92.48.162.152\", \"latitude\": -0.613816927408625, \"longitude\": -48.38237973234131, \"uid\": \"88187514818\", \"password\": \"1TLKcv\", \"transaction\": \"true\", \"api\": \"login-authentication\", \"endpoint\": \"v1/login\", \"os\": \"Android 13 (ColorOS 13.1)\", \"phone_brand\": \"OPPO Reno 10 Pro+\", \"app_version\": \"2.0.3\", \"error\": \"0\", \"timestamp\": \"1730539637000.0\"}\n",
      "[2-fraud-eh-namespace-standard.servicebus.windows.net] - Mensagem enviada com sucesso! - {\"imei\": \"901343235567049\", \"mac\": \"89:F1:83:DD:51:F9\", \"network\": \"OI\", \"client_ip\": \"188.162.141.150\", \"latitude\": -20.222475232515755, \"longitude\": -54.7122832498946, \"uid\": \"96021642455\", \"password\": \"p0eXWr\", \"transaction\": \"true\", \"api\": \"login-authentication\", \"endpoint\": \"v1/login\", \"os\": \"Android 13 (MyUX)\", \"phone_brand\": \"Motorola Moto G Power 2023\", \"app_version\": \"2.0.3\", \"error\": \"0\", \"timestamp\": \"1730515120000.0\"}\n",
      "[1-fraud-eh-namespace-standard.servicebus.windows.net] - Mensagem enviada com sucesso! - {\"imei\": \"516786856708730\", \"mac\": \"DC:70:AD:1D:4F:77\", \"network\": \"CLARO\", \"client_ip\": \"110.160.69.43\", \"latitude\": -14.102578008427685, \"longitude\": -57.29111384135449, \"uid\": \"57122571720\", \"password\": \"7gFkTn\", \"transaction\": \"false\", \"api\": \"login-authentication\", \"endpoint\": \"v1/login\", \"os\": \"Android 13 (Nothing OS 2.0)\", \"phone_brand\": \"Nothing Phone (2)\", \"app_version\": \"2.0.3\", \"error\": \"0\", \"timestamp\": \"1730498162000.0\"}\n",
      "[2-fraud-eh-namespace-standard.servicebus.windows.net] - Mensagem enviada com sucesso! - {\"imei\": \"860350588528534\", \"mac\": \"3C:E8:16:42:AF:29\", \"network\": \"CLARO\", \"client_ip\": \"46.169.5.196\", \"latitude\": -3.93052637622767, \"longitude\": -63.35499004979187, \"uid\": \"58042877770\", \"password\": \"3YQzG7\", \"transaction\": \"true\", \"api\": \"login-authentication\", \"endpoint\": \"v1/login\", \"os\": \"iOS 10.3.3\", \"phone_brand\": \"iPhone 5C\", \"app_version\": \"2.0.3\", \"error\": \"0\", \"timestamp\": \"1730440840000.0\"}\n",
      "[1-fraud-eh-namespace-standard.servicebus.windows.net] - Mensagem enviada com sucesso! - {\"imei\": \"547155749821862\", \"mac\": \"49:29:F0:69:4C:76\", \"network\": \"VIVO\", \"client_ip\": \"31.254.88.0\", \"latitude\": -9.32946081762529, \"longitude\": -40.1748288115729, \"uid\": \"50437412473\", \"password\": \"0qrZvv\", \"transaction\": \"false\", \"api\": \"login-authentication\", \"endpoint\": \"v1/login\", \"os\": \"Android 13 (MagicOS 7.1)\", \"phone_brand\": \"Honor 90\", \"app_version\": \"2.0.1\", \"error\": \"0\", \"timestamp\": \"1730448964000.0\"}\n",
      "[2-fraud-eh-namespace-standard.servicebus.windows.net] - Mensagem enviada com sucesso! - {\"imei\": \"178284961585950\", \"mac\": \"E6:C6:98:21:87:C3\", \"network\": \"CLARO\", \"client_ip\": \"158.57.90.213\", \"latitude\": -9.427434024636453, \"longitude\": -68.77978784123799, \"uid\": \"25218860209\", \"password\": \"D6IekJ\", \"transaction\": \"false\", \"api\": \"login-authentication\", \"endpoint\": \"v1/login\", \"os\": \"iOS 17\", \"phone_brand\": \"iPhone XR\", \"app_version\": \"2.0.3\", \"error\": \"0\", \"timestamp\": \"1730464473000.0\"}\n",
      "[2-fraud-eh-namespace-standard.servicebus.windows.net] - Mensagem enviada com sucesso! - {\"imei\": \"239994309815611\", \"mac\": \"7C:96:6E:16:9F:70\", \"network\": \"OI\", \"client_ip\": \"108.255.110.242\", \"latitude\": -7.798814185476337, \"longitude\": -34.32456875187385, \"uid\": \"11549456256\", \"password\": \"6D7w6z\", \"transaction\": \"true\", \"api\": \"login-authentication\", \"endpoint\": \"v1/login\", \"os\": \"iOS 17\", \"phone_brand\": \"iPhone XR\", \"app_version\": \"2.0.3\", \"error\": \"0\", \"timestamp\": \"1730434592000.0\"}\n",
      "[1-fraud-eh-namespace-standard.servicebus.windows.net] - Mensagem enviada com sucesso! - {\"imei\": \"724395885150675\", \"mac\": \"10:7B:22:C6:0A:DC\", \"network\": \"VIVO\", \"client_ip\": \"138.30.72.244\", \"latitude\": -7.438569658467247, \"longitude\": -34.664139322038324, \"uid\": \"18841515341\", \"password\": \"6DndQ7\", \"transaction\": \"false\", \"api\": \"login-authentication\", \"endpoint\": \"v1/login\", \"os\": \"Android 14 (Stock Android)\", \"phone_brand\": \"Google Pixel 8\", \"app_version\": \"2.0.3\", \"error\": \"0\", \"timestamp\": \"1730577101000.0\"}\n",
      "[2-fraud-eh-namespace-standard.servicebus.windows.net] - Mensagem enviada com sucesso! - {\"imei\": \"103039530129728\", \"mac\": \"95:6C:14:2F:5E:3D\", \"network\": \"TIM\", \"client_ip\": \"217.33.70.119\", \"latitude\": -27.15012120535361, \"longitude\": -49.033909986316715, \"uid\": \"88771656463\", \"password\": \"w6FHhy\", \"transaction\": \"true\", \"api\": \"login-authentication\", \"endpoint\": \"v1/login\", \"os\": \"iOS 7.1.2\", \"phone_brand\": \"iPhone 4\", \"app_version\": \"2.0.3\", \"error\": \"0\", \"timestamp\": \"1730435249000.0\"}\n",
      "[1-fraud-eh-namespace-standard.servicebus.windows.net] - Mensagem enviada com sucesso! - {\"imei\": \"771599730897272\", \"mac\": \"70:F2:AF:29:99:BB\", \"network\": \"OI\", \"client_ip\": \"184.83.205.77\", \"latitude\": -4.170065805770658, \"longitude\": -41.93523822333087, \"uid\": \"19766836631\", \"password\": \"R4y6Jf\", \"transaction\": \"false\", \"api\": \"login-authentication\", \"endpoint\": \"v1/login\", \"os\": \"iOS 10.3.3\", \"phone_brand\": \"iPhone 5C\", \"app_version\": \"2.0.1\", \"error\": \"0\", \"timestamp\": \"1730488372000.0\"}\n",
      "[2-fraud-eh-namespace-standard.servicebus.windows.net] - Mensagem enviada com sucesso! - {\"imei\": \"433632373609478\", \"mac\": \"CF:39:B0:0D:43:56\", \"network\": \"OI\", \"client_ip\": \"140.223.239.5\", \"latitude\": -4.00202733289827, \"longitude\": -63.115590392030825, \"uid\": \"85494130706\", \"password\": \"19hIxr\", \"transaction\": \"true\", \"api\": \"login-authentication\", \"endpoint\": \"v1/login\", \"os\": \"Android 14 (Stock Android)\", \"phone_brand\": \"Google Pixel 8\", \"app_version\": \"2.0.3\", \"error\": \"0\", \"timestamp\": \"1730487823000.0\"}\n",
      "[1-fraud-eh-namespace-standard.servicebus.windows.net] - Mensagem enviada com sucesso! - {\"imei\": \"706947443530531\", \"mac\": \"C2:0F:CC:16:EE:B8\", \"network\": \"VIVO\", \"client_ip\": \"50.143.125.192\", \"latitude\": -20.37384292754045, \"longitude\": -40.263987382270855, \"uid\": \"29873022842\", \"password\": \"X4XGRk\", \"transaction\": \"false\", \"api\": \"login-authentication\", \"endpoint\": \"v1/login\", \"os\": \"Android 13\", \"phone_brand\": \"Nokia G42\", \"app_version\": \"2.0.2\", \"error\": \"0\", \"timestamp\": \"1730561142000.0\"}\n",
      "[2-fraud-eh-namespace-standard.servicebus.windows.net] - Mensagem enviada com sucesso! - {\"imei\": \"713133191942544\", \"mac\": \"01:D4:5F:56:26:DD\", \"network\": \"CLARO\", \"client_ip\": \"45.243.113.168\", \"latitude\": -20.140955636557237, \"longitude\": -44.23424110857305, \"uid\": \"37803160713\", \"password\": \"M9W5zW\", \"transaction\": \"false\", \"api\": \"login-authentication\", \"endpoint\": \"v1/login\", \"os\": \"Android 13 (One UI 5.1)\", \"phone_brand\": \"Samsung Galaxy S23 Ultra\", \"app_version\": \"2.0.3\", \"error\": \"0\", \"timestamp\": \"1730543907000.0\"}\n",
      "[1-fraud-eh-namespace-standard.servicebus.windows.net] - Mensagem enviada com sucesso! - {\"imei\": \"199974549955430\", \"mac\": \"62:3C:9C:8C:BB:C7\", \"network\": \"VIVO\", \"client_ip\": \"140.93.197.57\", \"latitude\": -29.977952324574858, \"longitude\": -50.828537767350014, \"uid\": \"58686957847\", \"password\": \"u1qKux\", \"transaction\": \"false\", \"api\": \"login-authentication\", \"endpoint\": \"v1/login\", \"os\": \"iOS 15.7.8\", \"phone_brand\": \"iPhone 7 Plus\", \"app_version\": \"2.0.3\", \"error\": \"0\", \"timestamp\": \"1730563658000.0\"}\n",
      "[1-fraud-eh-namespace-standard.servicebus.windows.net] - Mensagem enviada com sucesso! - {\"imei\": \"645745017813558\", \"mac\": \"D2:90:07:5C:29:ED\", \"network\": \"CLARO\", \"client_ip\": \"66.95.57.236\", \"latitude\": -16.011309624763992, \"longitude\": -49.34512005919737, \"uid\": \"54159433018\", \"password\": \"6EmrzF\", \"transaction\": \"true\", \"api\": \"login-authentication\", \"endpoint\": \"v1/login\", \"os\": \"Android 13 (One UI 5.1)\", \"phone_brand\": \"Samsung Galaxy Z Fold 5\", \"app_version\": \"2.0.2\", \"error\": \"0\", \"timestamp\": \"1730564640000.0\"}\n",
      "[2-fraud-eh-namespace-standard.servicebus.windows.net] - Mensagem enviada com sucesso! - {\"imei\": \"700900336976120\", \"mac\": \"A0:B7:63:8E:E8:19\", \"network\": \"VIVO\", \"client_ip\": \"175.216.182.234\", \"latitude\": -25.46530200896477, \"longitude\": -49.182673329748006, \"uid\": \"11549456256\", \"password\": \"1Y6APy\", \"transaction\": \"true\", \"api\": \"login-authentication\", \"endpoint\": \"v1/login\", \"os\": \"iOS 17\", \"phone_brand\": \"iPhone SE 2\\u00aa Gera\\u00e7\\u00e3o (2020)\", \"app_version\": \"2.0.3\", \"error\": \"INCORRECT_PASS\", \"timestamp\": \"1730577176000.0\"}\n",
      "[1-fraud-eh-namespace-standard.servicebus.windows.net] - Mensagem enviada com sucesso! - {\"imei\": \"225000403512224\", \"mac\": \"83:E4:FF:CA:1C:7B\", \"network\": \"VIVO\", \"client_ip\": \"163.10.114.128\", \"latitude\": -1.0963051886192834, \"longitude\": -52.38301718312409, \"uid\": \"56487887858\", \"password\": \"2Y0id1\", \"transaction\": \"true\", \"api\": \"login-authentication\", \"endpoint\": \"v1/login\", \"os\": \"iOS 17\", \"phone_brand\": \"iPhone XS\", \"app_version\": \"2.0.3\", \"error\": \"0\", \"timestamp\": \"1730584459000.0\"}\n",
      "[2-fraud-eh-namespace-standard.servicebus.windows.net] - Mensagem enviada com sucesso! - {\"imei\": \"182982670985608\", \"mac\": \"E5:73:9D:61:AE:C1\", \"network\": \"OI\", \"client_ip\": \"113.174.164.74\", \"latitude\": -16.826279803187198, \"longitude\": -49.331083940743945, \"uid\": \"18836725648\", \"password\": \"r5SAmr\", \"transaction\": \"false\", \"api\": \"login-authentication\", \"endpoint\": \"v1/login\", \"os\": \"Android 13 (Realme UI 4.0)\", \"phone_brand\": \"Realme 11 Pro+\", \"app_version\": \"2.0.3\", \"error\": \"0\", \"timestamp\": \"1730506289000.0\"}\n",
      "[1-fraud-eh-namespace-standard.servicebus.windows.net] - Mensagem enviada com sucesso! - {\"imei\": \"736005561906119\", \"mac\": \"3D:82:CF:CB:95:6C\", \"network\": \"OI\", \"client_ip\": \"19.158.152.110\", \"latitude\": -9.947409095444783, \"longitude\": -35.45131017263403, \"uid\": \"71734512791\", \"password\": \"2Yrypv\", \"transaction\": \"true\", \"api\": \"login-authentication\", \"endpoint\": \"v1/login\", \"os\": \"iOS 16\", \"phone_brand\": \"iPhone 8 Plus\", \"app_version\": \"2.0.3\", \"error\": \"INCORRECT_PASS\", \"timestamp\": \"1730568027000.0\"}\n",
      "[2-fraud-eh-namespace-standard.servicebus.windows.net] - Mensagem enviada com sucesso! - {\"imei\": \"301910545975452\", \"mac\": \"78:55:F3:68:16:EA\", \"network\": \"CLARO\", \"client_ip\": \"204.33.120.89\", \"latitude\": -22.38289265085827, \"longitude\": -55.07872734444, \"uid\": \"34909767117\", \"password\": \"s3hV4l\", \"transaction\": \"true\", \"api\": \"login-authentication\", \"endpoint\": \"v1/login\", \"os\": \"iOS 16\", \"phone_brand\": \"iPhone 8\", \"app_version\": \"2.0.3\", \"error\": \"0\", \"timestamp\": \"1730563684000.0\"}\n",
      "[1-fraud-eh-namespace-standard.servicebus.windows.net] - Mensagem enviada com sucesso! - {\"imei\": \"130037244579763\", \"mac\": \"82:D5:12:BE:17:AC\", \"network\": \"CLARO\", \"client_ip\": \"56.13.130.7\", \"latitude\": -7.812638659312297, \"longitude\": -35.35826536701967, \"uid\": \"94681495573\", \"password\": \"3NKBdp\", \"transaction\": \"false\", \"api\": \"login-authentication\", \"endpoint\": \"v1/login\", \"os\": \"iOS 6.1.6\", \"phone_brand\": \"iPhone 3GS\", \"app_version\": \"2.0.3\", \"error\": \"0\", \"timestamp\": \"1730520538000.0\"}\n",
      "[2-fraud-eh-namespace-standard.servicebus.windows.net] - Mensagem enviada com sucesso! - {\"imei\": \"888429978876934\", \"mac\": \"C1:7E:9B:8C:0D:E5\", \"network\": \"VIVO\", \"client_ip\": \"208.118.213.211\", \"latitude\": -16.091387394038705, \"longitude\": -48.372315426113204, \"uid\": \"34909767117\", \"password\": \"tmk2Ch\", \"transaction\": \"true\", \"api\": \"login-authentication\", \"endpoint\": \"v1/login\", \"os\": \"Android 13 (Realme UI 4.0)\", \"phone_brand\": \"Realme 11\", \"app_version\": \"2.0.3\", \"error\": \"0\", \"timestamp\": \"1730433855000.0\"}\n",
      "[1-fraud-eh-namespace-standard.servicebus.windows.net] - Mensagem enviada com sucesso! - {\"imei\": \"130957313371966\", \"mac\": \"8F:C9:9E:34:35:A1\", \"network\": \"TIM\", \"client_ip\": \"105.181.59.39\", \"latitude\": -11.414701688241735, \"longitude\": -37.5552555420965, \"uid\": \"23300277460\", \"password\": \"aW7FeF\", \"transaction\": \"true\", \"api\": \"login-authentication\", \"endpoint\": \"v1/login\", \"os\": \"iOS 17\", \"phone_brand\": \"iPhone 14 Plus\", \"app_version\": \"2.0.3\", \"error\": \"0\", \"timestamp\": \"1730494296000.0\"}\n",
      "[2-fraud-eh-namespace-standard.servicebus.windows.net] - Mensagem enviada com sucesso! - {\"imei\": \"114984693991258\", \"mac\": \"54:DA:56:CB:57:70\", \"network\": \"TIM\", \"client_ip\": \"105.188.183.210\", \"latitude\": -24.3712442989705, \"longitude\": -53.59777844650254, \"uid\": \"11549456256\", \"password\": \"792MdN\", \"transaction\": \"true\", \"api\": \"login-authentication\", \"endpoint\": \"v1/login\", \"os\": \"Android 13\", \"phone_brand\": \"Nokia G42\", \"app_version\": \"2.0.3\", \"error\": \"0\", \"timestamp\": \"1730539620000.0\"}\n",
      "[1-fraud-eh-namespace-standard.servicebus.windows.net] - Mensagem enviada com sucesso! - {\"imei\": \"412155013983771\", \"mac\": \"0B:0C:C3:2B:5F:96\", \"network\": \"CLARO\", \"client_ip\": \"123.139.248.151\", \"latitude\": -25.313618620429004, \"longitude\": -49.114842435121766, \"uid\": \"27389435363\", \"password\": \"75YPax\", \"transaction\": \"true\", \"api\": \"login-authentication\", \"endpoint\": \"v1/login\", \"os\": \"iOS 4.2.1\", \"phone_brand\": \"iPhone 3G\", \"app_version\": \"2.0.3\", \"error\": \"0\", \"timestamp\": \"1730428928000.0\"}\n",
      "[2-fraud-eh-namespace-standard.servicebus.windows.net] - Mensagem enviada com sucesso! - {\"imei\": \"914094627932254\", \"mac\": \"E6:E4:D2:8A:40:7A\", \"network\": \"VIVO\", \"client_ip\": \"9.210.240.240\", \"latitude\": -23.480495782973183, \"longitude\": -51.71710372915005, \"uid\": \"80191360187\", \"password\": \"qv2ZMl\", \"transaction\": \"true\", \"api\": \"login-authentication\", \"endpoint\": \"v1/login\", \"os\": \"Android 13 (Realme UI 4.0)\", \"phone_brand\": \"Realme 11 Pro+\", \"app_version\": \"2.0.3\", \"error\": \"0\", \"timestamp\": \"1730553546000.0\"}\n",
      "[1-fraud-eh-namespace-standard.servicebus.windows.net] - Mensagem enviada com sucesso! - {\"imei\": \"603280189886326\", \"mac\": \"41:6A:BB:E5:BA:40\", \"network\": \"VIVO\", \"client_ip\": \"10.133.241.163\", \"latitude\": -7.842919546240319, \"longitude\": -72.98572897662461, \"uid\": \"46124345890\", \"password\": \"95ARuk\", \"transaction\": \"false\", \"api\": \"login-authentication\", \"endpoint\": \"v1/login\", \"os\": \"Android 13 (MIUI 14)\", \"phone_brand\": \"Xiaomi Redmi Note 12 Pro\", \"app_version\": \"2.0.1\", \"error\": \"0\", \"timestamp\": \"1730582686000.0\"}\n",
      "[2-fraud-eh-namespace-standard.servicebus.windows.net] - Mensagem enviada com sucesso! - {\"imei\": \"312091174221220\", \"mac\": \"90:10:1D:98:F5:41\", \"network\": \"CLARO\", \"client_ip\": \"111.115.181.176\", \"latitude\": -7.132757226447094, \"longitude\": -42.65094857550051, \"uid\": \"19372477319\", \"password\": \"1j3pRj\", \"transaction\": \"false\", \"api\": \"login-authentication\", \"endpoint\": \"v1/login\", \"os\": \"HarmonyOS 3.1 (internacional: EMUI 13)\", \"phone_brand\": \"Huawei P60 Pro\", \"app_version\": \"2.0.3\", \"error\": \"0\", \"timestamp\": \"1730456479000.0\"}\n",
      "[1-fraud-eh-namespace-standard.servicebus.windows.net] - Mensagem enviada com sucesso! - {\"imei\": \"702806729807252\", \"mac\": \"25:D3:57:56:EB:B9\", \"network\": \"OI\", \"client_ip\": \"88.64.98.32\", \"latitude\": -27.632897771501366, \"longitude\": -52.17619243439593, \"uid\": \"62618276679\", \"password\": \"Oq8PhN\", \"transaction\": \"false\", \"api\": \"login-authentication\", \"endpoint\": \"v1/login\", \"os\": \"Android 13 (XOS 13)\", \"phone_brand\": \"Infinix Note 30 Pro\", \"app_version\": \"2.0.2\", \"error\": \"0\", \"timestamp\": \"1730523985000.0\"}\n",
      "[2-fraud-eh-namespace-standard.servicebus.windows.net] - Mensagem enviada com sucesso! - {\"imei\": \"794789505397832\", \"mac\": \"C8:AF:F4:CA:3B:D0\", \"network\": \"TIM\", \"client_ip\": \"168.219.174.79\", \"latitude\": -10.741049515803283, \"longitude\": -37.681811745782646, \"uid\": \"18542417916\", \"password\": \"s9oIOw\", \"transaction\": \"false\", \"api\": \"login-authentication\", \"endpoint\": \"v1/login\", \"os\": \"Android 13\", \"phone_brand\": \"Sony Xperia 10 V\", \"app_version\": \"2.0.3\", \"error\": \"0\", \"timestamp\": \"1730511583000.0\"}\n",
      "[1-fraud-eh-namespace-standard.servicebus.windows.net] - Mensagem enviada com sucesso! - {\"imei\": \"225477790106141\", \"mac\": \"7C:2E:BD:68:02:60\", \"network\": \"VIVO\", \"client_ip\": \"76.177.175.244\", \"latitude\": -13.17973069431699, \"longitude\": -60.806303528587094, \"uid\": \"82102321551\", \"password\": \"Rwh8Wp\", \"transaction\": \"false\", \"api\": \"login-authentication\", \"endpoint\": \"v1/login\", \"os\": \"iOS 17\", \"phone_brand\": \"iPhone SE 2\\u00aa Gera\\u00e7\\u00e3o (2020)\", \"app_version\": \"2.0.3\", \"error\": \"0\", \"timestamp\": \"1730563756000.0\"}\n",
      "[2-fraud-eh-namespace-standard.servicebus.windows.net] - Mensagem enviada com sucesso! - {\"imei\": \"646457374354737\", \"mac\": \"3A:7C:B3:15:8D:6E\", \"network\": \"OI\", \"client_ip\": \"6.134.142.255\", \"latitude\": -6.007312679000229, \"longitude\": -35.01073855661834, \"uid\": \"24725135360\", \"password\": \"4iCHul\", \"transaction\": \"false\", \"api\": \"login-authentication\", \"endpoint\": \"v1/login\", \"os\": \"iOS 17\", \"phone_brand\": \"iPhone SE 2020\", \"app_version\": \"2.0.3\", \"error\": \"0\", \"timestamp\": \"1730484940000.0\"}\n",
      "[1-fraud-eh-namespace-standard.servicebus.windows.net] - Mensagem enviada com sucesso! - {\"imei\": \"665320948691283\", \"mac\": \"41:3E:9E:D6:D5:AD\", \"network\": \"OI\", \"client_ip\": \"161.135.187.167\", \"latitude\": -11.892223646963206, \"longitude\": -55.37632921095679, \"uid\": \"88262642657\", \"password\": \"f1FjLb\", \"transaction\": \"true\", \"api\": \"login-authentication\", \"endpoint\": \"v1/login\", \"os\": \"iOS 17\", \"phone_brand\": \"iPhone 12 Pro\", \"app_version\": \"2.0.3\", \"error\": \"0\", \"timestamp\": \"1730480742000.0\"}\n",
      "[2-fraud-eh-namespace-standard.servicebus.windows.net] - Mensagem enviada com sucesso! - {\"imei\": \"532506811649650\", \"mac\": \"75:99:70:D0:7E:62\", \"network\": \"VIVO\", \"client_ip\": \"109.242.79.47\", \"latitude\": -7.37805344675566, \"longitude\": -43.51168559964693, \"uid\": \"68324266676\", \"password\": \"J3kMnH\", \"transaction\": \"true\", \"api\": \"login-authentication\", \"endpoint\": \"v1/login\", \"os\": \"Android 13 (Funtouch OS 13)\", \"phone_brand\": \"Vivo V29e\", \"app_version\": \"2.0.2\", \"error\": \"0\", \"timestamp\": \"1730561608000.0\"}\n",
      "[1-fraud-eh-namespace-standard.servicebus.windows.net] - Mensagem enviada com sucesso! - {\"imei\": \"860468810320022\", \"mac\": \"58:89:60:BE:BF:44\", \"network\": \"OI\", \"client_ip\": \"197.152.109.49\", \"latitude\": -24.01451516461781, \"longitude\": -46.67439275902231, \"uid\": \"11549456256\", \"password\": \"6Q5kSw\", \"transaction\": \"true\", \"api\": \"login-authentication\", \"endpoint\": \"v1/login\", \"os\": \"iOS 17\", \"phone_brand\": \"iPhone 13 Pro\", \"app_version\": \"2.0.3\", \"error\": \"0\", \"timestamp\": \"1730548728000.0\"}\n",
      "[1-fraud-eh-namespace-standard.servicebus.windows.net] - Mensagem enviada com sucesso! - {\"imei\": \"728524585797454\", \"mac\": \"CE:AF:D8:ED:C1:F8\", \"network\": \"OI\", \"client_ip\": \"32.38.164.206\", \"latitude\": -27.109588005650266, \"longitude\": -53.1312379920426, \"uid\": \"10527593964\", \"password\": \"5bEuw7\", \"transaction\": \"true\", \"api\": \"login-authentication\", \"endpoint\": \"v1/login\", \"os\": \"Android 13\", \"phone_brand\": \"Sony Xperia 10 V\", \"app_version\": \"2.0.3\", \"error\": \"0\", \"timestamp\": \"1730584879000.0\"}\n",
      "[2-fraud-eh-namespace-standard.servicebus.windows.net] - Mensagem enviada com sucesso! - {\"imei\": \"587101682940653\", \"mac\": \"84:BE:AB:0B:C9:01\", \"network\": \"CLARO\", \"client_ip\": \"25.133.23.229\", \"latitude\": -10.975147648676927, \"longitude\": -37.28036112688374, \"uid\": \"50441683135\", \"password\": \"Q8O6Rh\", \"transaction\": \"true\", \"api\": \"login-authentication\", \"endpoint\": \"v1/login\", \"os\": \"Android 13 (MIUI 14)\", \"phone_brand\": \"Xiaomi 13\", \"app_version\": \"2.0.2\", \"error\": \"0\", \"timestamp\": \"1730434591000.0\"}\n"
     ]
    }
   ],
   "source": [
    "credential = spn_authentication()\n",
    "eh_producer = eventhub_producer(credential)\n",
    "\n",
    "msg_number = 100\n",
    "\n",
    "thread_1 = threading.Thread(target=send_message_to_eventhub, args = (eh_producer, msg_number, 1))\n",
    "thread_2 = threading.Thread(target=send_message_to_eventhub, args = (eh_producer, msg_number, 2))\n",
    "\n",
    "thread_1.start()\n",
    "thread_2.start()\n",
    "\n",
    "thread_1.join()\n",
    "thread_2.join()"
   ]
  }
 ],
 "metadata": {
  "kernelspec": {
   "display_name": "Python 3",
   "language": "python",
   "name": "python3"
  },
  "language_info": {
   "codemirror_mode": {
    "name": "ipython",
    "version": 3
   },
   "file_extension": ".py",
   "mimetype": "text/x-python",
   "name": "python",
   "nbconvert_exporter": "python",
   "pygments_lexer": "ipython3",
   "version": "3.10.6"
  }
 },
 "nbformat": 4,
 "nbformat_minor": 2
}
