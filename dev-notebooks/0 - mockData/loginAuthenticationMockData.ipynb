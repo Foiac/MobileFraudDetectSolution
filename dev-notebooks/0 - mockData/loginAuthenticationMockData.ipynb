{
 "cells": [
  {
   "cell_type": "markdown",
   "metadata": {},
   "source": [
    "# Login Authentication Mock Data"
   ]
  },
  {
   "cell_type": "markdown",
   "metadata": {},
   "source": [
    "Notebook de desenvolvimento responável por realizar processo de mock dos dados e evenviar os dados para o eventhub utilizando autenticação com SPN"
   ]
  },
  {
   "cell_type": "markdown",
   "metadata": {},
   "source": [
    "\n",
    "<div style=\"text-align: center; line-height: 0; padding-top: 9px;\">\n",
    "  <img src=\"https://raw.githubusercontent.com/Foiac/MobileFraudDetectSolution/main/Editaveis/Imagens/login-authetication-mock-data.png\" alt=\"SparkStreaming Ingest\" style=\"width: 800px\">\n",
    "</div>"
   ]
  },
  {
   "cell_type": "markdown",
   "metadata": {},
   "source": [
    "#### Import dependecies"
   ]
  },
  {
   "cell_type": "code",
   "execution_count": 26,
   "metadata": {},
   "outputs": [],
   "source": [
    "import random\n",
    "import json\n",
    "from faker import Faker\n",
    "from datetime import datetime\n",
    "from azure.eventhub import EventHubProducerClient, EventData\n",
    "from azure.identity import ClientSecretCredential\n",
    "import pandas as pd\n",
    "import threading\n",
    "from dotenv import load_dotenv\n",
    "import os"
   ]
  },
  {
   "cell_type": "markdown",
   "metadata": {},
   "source": [
    "#### Path definitions and secrets"
   ]
  },
  {
   "cell_type": "code",
   "execution_count": 27,
   "metadata": {},
   "outputs": [],
   "source": [
    "load_dotenv()\n",
    "\n",
    "azure_tenant_id: str = os.environ[\"AZURE_TENANT\"]\n",
    "azure_client_id: str = os.environ[\"CLIENT_ID\"]\n",
    "azure_client_secret: str = os.environ[\"CLIENT_SECRET\"] \n",
    "eventhub_namespace: str = os.environ[\"EVENTHUB_NAMESPACE\"]\n",
    "eventhub_namespace_fully: str = f\"{eventhub_namespace}.servicebus.windows.net\"\n",
    "eventhub_name: str = os.environ[\"EVENTHUB_NAME\"]"
   ]
  },
  {
   "cell_type": "code",
   "execution_count": 28,
   "metadata": {},
   "outputs": [],
   "source": [
    "file_path = 'phonedataset.csv'\n",
    "\n",
    "df = pd.read_csv(file_path, sep=';')\n",
    "phone_list = df.values.tolist()\n",
    "\n",
    "with open('city_clusters.json', 'r', encoding='utf-8') as file:\n",
    "    city_clusters = json.load(file)"
   ]
  },
  {
   "cell_type": "markdown",
   "metadata": {},
   "source": [
    "#### Initial Definitions"
   ]
  },
  {
   "cell_type": "code",
   "execution_count": 29,
   "metadata": {},
   "outputs": [],
   "source": [
    "start_date = datetime(2024, 11, 1, 0)\n",
    "end_date = datetime(2024, 11, 2, 23)"
   ]
  },
  {
   "cell_type": "code",
   "execution_count": 30,
   "metadata": {},
   "outputs": [],
   "source": [
    "fake = Faker()\n",
    "\n",
    "transaction_prob_true = 0.78\n",
    "transaction_prob_false = 0.22\n",
    "transaction_prob = [transaction_prob_true, transaction_prob_false] \n",
    "\n",
    "app_version_prob_v201 = 0.05\n",
    "app_version_prob_v202 = 0.20\n",
    "app_version_prob_v203 = 0.75\n",
    "app_version_prob = [app_version_prob_v201, app_version_prob_v202, app_version_prob_v203] \n",
    "\n",
    "error_prob_success = 0.90\n",
    "error_prob_incorrect_pass = 0.08\n",
    "error_prob_user_not_fount = 0.02\n",
    "error_prob = [error_prob_success, error_prob_incorrect_pass, error_prob_user_not_fount] \n",
    "\n",
    "uids = [str(fake.random_number(digits=11, fix_len=True)) for _ in range(2)]"
   ]
  },
  {
   "cell_type": "code",
   "execution_count": 31,
   "metadata": {},
   "outputs": [
    {
     "data": {
      "text/plain": [
       "['40357350503', '56867076831']"
      ]
     },
     "execution_count": 31,
     "metadata": {},
     "output_type": "execute_result"
    }
   ],
   "source": [
    "uids"
   ]
  },
  {
   "cell_type": "markdown",
   "metadata": {},
   "source": [
    "#### Function to Create SPN Client "
   ]
  },
  {
   "cell_type": "code",
   "execution_count": 32,
   "metadata": {},
   "outputs": [],
   "source": [
    "def spn_authentication():\n",
    "    \"\"\"\n",
    "    Get OAuth credentials to send messages to eventhub\n",
    "\n",
    "    Returns:\n",
    "        ClientSecretCredential: Credential to use to create eventhub client\n",
    "    \"\"\"\n",
    "    \n",
    "    print(\"init procces\")\n",
    "    credential = ClientSecretCredential(tenant_id=azure_tenant_id, \n",
    "                                        client_id=azure_client_id,\n",
    "                                        client_secret=azure_client_secret)\n",
    "    print(\"credential create\")\n",
    "\n",
    "    return credential\n",
    "\n",
    "#segregação mais clara de escopos entre autenticão e criação do producer"
   ]
  },
  {
   "cell_type": "markdown",
   "metadata": {},
   "source": [
    "#### Function to Return Producer"
   ]
  },
  {
   "cell_type": "code",
   "execution_count": null,
   "metadata": {},
   "outputs": [],
   "source": [
    "def eventhub_producer(credential):\n",
    "    \"\"\"\n",
    "    Creates an Event Hub producer client using SPN credentials.\n",
    "\n",
    "    Returns:\n",
    "        EventHubProducerClient: Client for sending events to Azure Event Hub.\n",
    "    \"\"\"\n",
    "\n",
    "    producer = EventHubProducerClient(fully_qualified_namespace=eventhub_namespace_fully,\n",
    "                                        eventhub_name=eventhub_name,\n",
    "                                        credential=credential)\n",
    "    print(\"producer create\")\n",
    "\n",
    "    return producer"
   ]
  },
  {
   "cell_type": "markdown",
   "metadata": {},
   "source": [
    "#### Function to Generate Random Data"
   ]
  },
  {
   "cell_type": "code",
   "execution_count": 34,
   "metadata": {},
   "outputs": [],
   "source": [
    "def generate_random_data():\n",
    "    \"\"\"\n",
    "    Generates a dictionary representing random simulated data for login authentication events.\n",
    "\n",
    "    This function creates data for testing or simulation purposes, including fields like\n",
    "    geographic location, device information, network details, and authentication attributes.\n",
    "\n",
    "    Returns:\n",
    "        dict: A dictionary containing randomly generated data fields:\n",
    "            - imei (str): Randomly generated 15-digit IMEI number.\n",
    "            - mac (str): Randomly generated MAC address.\n",
    "            - network (str): Randomly chosen network provider (e.g., \"VIVO\", \"TIM\").\n",
    "            - client_ip (str): Random IPv4 address.\n",
    "            - latitude (float): Latitude based on a random city cluster and Gaussian noise.\n",
    "            - longitude (float): Longitude based on a random city cluster and Gaussian noise.\n",
    "            - uid (str): Randomly generated user ID (UID) or chosen from a predefined list.\n",
    "            - password (str): Random password with a mix of digits, upper- and lower-case letters.\n",
    "            - transaction (str): Simulated transaction status (\"true\" or \"false\").\n",
    "            - api (str): API name for the simulated event (\"login-authentication\").\n",
    "            - endpoint (str): API endpoint (\"v1/login\").\n",
    "            - os (str): Randomly selected operational version from the phone list.\n",
    "            - phone_brand (str): Phone brand associated with the operational version.\n",
    "            - app_version (str): Randomly chosen application version.\n",
    "            - error (str): Simulated error code (e.g., \"0\", \"INCORRECT_PASS\").\n",
    "            - timestamp (str): Random UNIX timestamp in milliseconds.\n",
    "            \"\"\"\n",
    "\n",
    "    city = random.choice(city_clusters)\n",
    "    latitude = random.gauss(city[\"lat\"], city[\"std_dev\"])\n",
    "    longitude = random.gauss(city[\"long\"], city[\"std_dev\"])\n",
    "\n",
    "    brand_version = random.choice(phone_list)\n",
    "    phone_brand = brand_version[0]\n",
    "    operational_version = brand_version[1]\n",
    "\n",
    "    fraud_prob = 0.15\n",
    "\n",
    "    uid = random.choice(uids) if random.random() < fraud_prob else str(fake.random_number(digits=11, fix_len=True))\n",
    "\n",
    "    return {\n",
    "        \"imei\": str(fake.random_number(digits=15, fix_len=True)),\n",
    "        \"mac\": ':'.join([f\"{random.randint(0, 255):02X}\" for _ in range(6)]),\n",
    "        \"network\": random.choice([\"VIVO\", \"TIM\", \"CLARO\", \"OI\"]),\n",
    "        \"client_ip\": fake.ipv4(),\n",
    "        \"latitude\": latitude,\n",
    "        \"longitude\": longitude,\n",
    "        \"uid\": uid,\n",
    "        \"password\": fake.password(length=6, special_chars=False, digits=True, upper_case=True, lower_case=True),\n",
    "        \"transaction\": random.choices([\"true\", \"false\"], weights=transaction_prob, k=1)[0],\n",
    "        \"api\": \"login-authentication\",\n",
    "        \"endpoint\": \"v1/login\",\n",
    "        \"os\": operational_version,\n",
    "        \"phone_brand\": phone_brand,\n",
    "        \"app_version\": random.choices([\"2.0.1\", \"2.0.2\", \"2.0.3\"], weights=app_version_prob, k=1)[0],\n",
    "        \"error\": random.choices([\"0\", \"INCORRECT_PASS\", \"USER_NOT_FOUND\"], weights=error_prob, k=1)[0],\n",
    "        \"timestamp\": str(fake.unix_time(start_datetime=start_date, end_datetime=end_date) * 1000)\n",
    "    }"
   ]
  },
  {
   "cell_type": "code",
   "execution_count": 35,
   "metadata": {},
   "outputs": [
    {
     "data": {
      "text/plain": [
       "{'imei': '239532542658578',\n",
       " 'mac': 'FD:37:91:A1:74:34',\n",
       " 'network': 'VIVO',\n",
       " 'client_ip': '215.83.204.67',\n",
       " 'latitude': -20.8337242546624,\n",
       " 'longitude': -40.7947078779564,\n",
       " 'uid': '46854578398',\n",
       " 'password': 'mV4aWt',\n",
       " 'transaction': 'true',\n",
       " 'api': 'login-authentication',\n",
       " 'endpoint': 'v1/login',\n",
       " 'os': 'Android 13',\n",
       " 'phone_brand': 'ZTE Axon 50 Ultra',\n",
       " 'app_version': '2.0.3',\n",
       " 'error': '0',\n",
       " 'timestamp': '1730463979000.0'}"
      ]
     },
     "execution_count": 35,
     "metadata": {},
     "output_type": "execute_result"
    }
   ],
   "source": [
    "generate_random_data()"
   ]
  },
  {
   "cell_type": "markdown",
   "metadata": {},
   "source": [
    "#### Function to Send Data do Eventhub"
   ]
  },
  {
   "cell_type": "code",
   "execution_count": 36,
   "metadata": {},
   "outputs": [],
   "source": [
    "def send_message_to_eventhub(eh_producer, msg_number, trh_number):\n",
    "    \"\"\"\n",
    "    Sends a specified number of JSON messages to Azure Event Hub using the provided producer client.\n",
    "\n",
    "    Args:\n",
    "        eh_producer (EventHubProducerClient): Event Hub producer client.\n",
    "        msg_number (int): Number of messages to send.\n",
    "        trh_number (int): Transaction identifier for logging.\n",
    "\n",
    "    Raises:\n",
    "        ValueError: If a message exceeds batch size limits.\n",
    "        Exception: For unexpected errors during sending.\n",
    "    \"\"\"\n",
    "        \n",
    "    for i in range(msg_number):\n",
    "\n",
    "        message = json.dumps(generate_random_data())\n",
    "\n",
    "        try:\n",
    "            with eh_producer:\n",
    "                event_data_batch = eh_producer.create_batch()\n",
    "\n",
    "                event_data_batch.add(EventData(message))\n",
    "\n",
    "                eh_producer.send_batch(event_data_batch)\n",
    "                \n",
    "                print(f\"[{trh_number}] - Mensagem enviada com sucesso! - {message}\")\n",
    "        except ValueError as ve:\n",
    "            print(f\"Erro ao enviar mensagem: {ve}\")\n",
    "        except Exception as e:\n",
    "            print(f\"Erro inesperado ao enviar mensagem: {e}\")\n",
    "        finally:\n",
    "            eh_producer.close()\n"
   ]
  },
  {
   "cell_type": "markdown",
   "metadata": {},
   "source": [
    "#### Start Thread to Send Data"
   ]
  },
  {
   "cell_type": "code",
   "execution_count": null,
   "metadata": {},
   "outputs": [
    {
     "name": "stdout",
     "output_type": "stream",
     "text": [
      "init procces\n",
      "credential create\n",
      "producer create\n",
      "[1] - Mensagem enviada com sucesso! - {\"imei\": \"673228216182397\", \"mac\": \"D0:2D:14:98:9D:F7\", \"network\": \"OI\", \"client_ip\": \"43.47.73.142\", \"latitude\": -27.48879683946477, \"longitude\": -47.99512010466361, \"uid\": \"53545899880\", \"password\": \"Xgj2Uv\", \"transaction\": \"true\", \"api\": \"login-authentication\", \"endpoint\": \"v1/login\", \"os\": \"iOS 12.5.7\", \"phone_brand\": \"iPhone 6 Plus\", \"app_version\": \"2.0.3\", \"error\": \"0\", \"timestamp\": \"1730477927000.0\"}\n",
      "[2] - Mensagem enviada com sucesso! - {\"imei\": \"194443275697875\", \"mac\": \"7E:CA:19:99:1C:7B\", \"network\": \"TIM\", \"client_ip\": \"74.222.235.241\", \"latitude\": -21.472787876122275, \"longitude\": -44.027863295504574, \"uid\": \"84396598856\", \"password\": \"S0Kc1m\", \"transaction\": \"false\", \"api\": \"login-authentication\", \"endpoint\": \"v1/login\", \"os\": \"Android 13\", \"phone_brand\": \"ZTE Nubia Z50\", \"app_version\": \"2.0.3\", \"error\": \"0\", \"timestamp\": \"1730487858000.0\"}\n",
      "[2] - Mensagem enviada com sucesso! - {\"imei\": \"127318650356300\", \"mac\": \"38:A8:C2:81:50:CC\", \"network\": \"VIVO\", \"client_ip\": \"26.100.179.194\", \"latitude\": -19.49908676933496, \"longitude\": -40.35430126903763, \"uid\": \"56867076831\", \"password\": \"1cCWKe\", \"transaction\": \"true\", \"api\": \"login-authentication\", \"endpoint\": \"v1/login\", \"os\": \"iOS 17\", \"phone_brand\": \"iPhone 12 Pro Max\", \"app_version\": \"2.0.3\", \"error\": \"0\", \"timestamp\": \"1730560524000.0\"}\n",
      "[1] - Mensagem enviada com sucesso! - {\"imei\": \"883128721347503\", \"mac\": \"FC:9E:29:19:96:38\", \"network\": \"CLARO\", \"client_ip\": \"69.198.216.29\", \"latitude\": -20.18913505192937, \"longitude\": -40.56802672372065, \"uid\": \"68248159346\", \"password\": \"ou5Ir3\", \"transaction\": \"true\", \"api\": \"login-authentication\", \"endpoint\": \"v1/login\", \"os\": \"iOS 17\", \"phone_brand\": \"iPhone 12 Pro Max\", \"app_version\": \"2.0.3\", \"error\": \"INCORRECT_PASS\", \"timestamp\": \"1730463108000.0\"}\n",
      "[2] - Mensagem enviada com sucesso! - {\"imei\": \"826334262355956\", \"mac\": \"0C:A1:8C:8B:BF:C5\", \"network\": \"TIM\", \"client_ip\": \"84.52.205.92\", \"latitude\": -11.116895567195112, \"longitude\": -37.977423318556376, \"uid\": \"19242754939\", \"password\": \"9NIlIh\", \"transaction\": \"true\", \"api\": \"login-authentication\", \"endpoint\": \"v1/login\", \"os\": \"Android 13 (HiOS 13 Fold)\", \"phone_brand\": \"Tecno Phantom V Fold\", \"app_version\": \"2.0.2\", \"error\": \"0\", \"timestamp\": \"1730474306000.0\"}\n",
      "[1] - Mensagem enviada com sucesso! - {\"imei\": \"201641029706100\", \"mac\": \"AC:86:BC:21:52:EE\", \"network\": \"OI\", \"client_ip\": \"161.86.91.175\", \"latitude\": -9.31789466766826, \"longitude\": -68.9668115010477, \"uid\": \"71041623268\", \"password\": \"4ibWun\", \"transaction\": \"true\", \"api\": \"login-authentication\", \"endpoint\": \"v1/login\", \"os\": \"iOS 16\", \"phone_brand\": \"iPhone X\", \"app_version\": \"2.0.3\", \"error\": \"0\", \"timestamp\": \"1730516037000.0\"}\n",
      "[1] - Mensagem enviada com sucesso! - {\"imei\": \"264776570216523\", \"mac\": \"73:7F:90:79:FC:5C\", \"network\": \"TIM\", \"client_ip\": \"153.117.15.213\", \"latitude\": -21.519166590876047, \"longitude\": -43.351567532922246, \"uid\": \"24968863831\", \"password\": \"t8Sok7\", \"transaction\": \"false\", \"api\": \"login-authentication\", \"endpoint\": \"v1/login\", \"os\": \"Android 13 (One UI 5.1)\", \"phone_brand\": \"Samsung Galaxy A54\", \"app_version\": \"2.0.3\", \"error\": \"INCORRECT_PASS\", \"timestamp\": \"1730497319000.0\"}\n",
      "[2] - Mensagem enviada com sucesso! - {\"imei\": \"569710547171716\", \"mac\": \"82:3B:7A:B4:2D:F8\", \"network\": \"CLARO\", \"client_ip\": \"3.187.125.60\", \"latitude\": -28.114913320637864, \"longitude\": -48.26805466029097, \"uid\": \"34695272748\", \"password\": \"J0DxTe\", \"transaction\": \"true\", \"api\": \"login-authentication\", \"endpoint\": \"v1/login\", \"os\": \"Android 13 (One UI 5.1)\", \"phone_brand\": \"Samsung Galaxy A34\", \"app_version\": \"2.0.3\", \"error\": \"0\", \"timestamp\": \"1730520668000.0\"}\n"
     ]
    }
   ],
   "source": [
    "credential = spn_authentication()\n",
    "eh_producer = eventhub_producer(credential)\n",
    "\n",
    "msg_number = 5\n",
    "\n",
    "thread_1 = threading.Thread(target=send_message_to_eventhub, args = (eh_producer, msg_number, 1))\n",
    "thread_2 = threading.Thread(target=send_message_to_eventhub, args = (eh_producer, msg_number, 2))\n",
    "\n",
    "thread_1.start()\n",
    "thread_2.start()\n",
    "\n",
    "thread_1.join()\n",
    "thread_2.join()"
   ]
  }
 ],
 "metadata": {
  "kernelspec": {
   "display_name": "Python 3",
   "language": "python",
   "name": "python3"
  },
  "language_info": {
   "codemirror_mode": {
    "name": "ipython",
    "version": 3
   },
   "file_extension": ".py",
   "mimetype": "text/x-python",
   "name": "python",
   "nbconvert_exporter": "python",
   "pygments_lexer": "ipython3",
   "version": "3.10.6"
  }
 },
 "nbformat": 4,
 "nbformat_minor": 2
}
