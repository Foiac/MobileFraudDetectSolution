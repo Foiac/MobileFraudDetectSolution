{
 "cells": [
  {
   "cell_type": "markdown",
   "metadata": {
    "application/vnd.databricks.v1+cell": {
     "cellMetadata": {
      "byteLimit": 2048000,
      "rowLimit": 10000
     },
     "inputWidgets": {},
     "nuid": "d5a233e0-d62e-48ef-8902-acdce4afcaa5",
     "showTitle": false,
     "tableResultSettingsMap": {},
     "title": ""
    }
   },
   "source": [
    "# Load Data Streaming"
   ]
  },
  {
   "cell_type": "markdown",
   "metadata": {
    "application/vnd.databricks.v1+cell": {
     "cellMetadata": {
      "byteLimit": 2048000,
      "rowLimit": 10000
     },
     "inputWidgets": {},
     "nuid": "a192147c-fbcf-42d5-929d-6d6f369a4bd6",
     "showTitle": false,
     "tableResultSettingsMap": {},
     "title": ""
    }
   },
   "source": [
    "Notebook de desenvolvimento responável por realizar processo streaming de ingestão de dados, o spark streaming busca os dados de um eventhub e escreve em formato delta table no \n",
    "Azure Data Lake Storage"
   ]
  },
  {
   "cell_type": "markdown",
   "metadata": {
    "application/vnd.databricks.v1+cell": {
     "cellMetadata": {
      "byteLimit": 2048000,
      "rowLimit": 10000
     },
     "inputWidgets": {},
     "nuid": "4ec67eda-4502-4faa-8e3d-6acd18ee6ea5",
     "showTitle": false,
     "tableResultSettingsMap": {},
     "title": ""
    }
   },
   "source": [
    "\n",
    "<div style=\"text-align: center; line-height: 0; padding-top: 9px;\">\n",
    "  <img src=\"https://raw.githubusercontent.com/Foiac/MobileFraudDetectSolution/main/Editaveis/Imagens/eventhubstreamingingestion.png\" alt=\"SparkStreaming Ingest\" style=\"width: 800px\">\n",
    "</div>"
   ]
  },
  {
   "cell_type": "markdown",
   "metadata": {
    "application/vnd.databricks.v1+cell": {
     "cellMetadata": {
      "byteLimit": 2048000,
      "rowLimit": 10000
     },
     "inputWidgets": {},
     "nuid": "3b845918-a437-4af3-8a1f-b54a6c8704d4",
     "showTitle": false,
     "tableResultSettingsMap": {},
     "title": ""
    }
   },
   "source": [
    "#### Import dependecies"
   ]
  },
  {
   "cell_type": "code",
   "execution_count": 0,
   "metadata": {
    "application/vnd.databricks.v1+cell": {
     "cellMetadata": {
      "byteLimit": 2048000,
      "rowLimit": 10000
     },
     "inputWidgets": {},
     "nuid": "bbf4176f-fc32-46b8-b85b-0e539200b488",
     "showTitle": false,
     "tableResultSettingsMap": {},
     "title": ""
    }
   },
   "outputs": [],
   "source": [
    "import pyspark.sql.functions as F\n",
    "from pyspark.sql.types import *\n",
    "import json"
   ]
  },
  {
   "cell_type": "markdown",
   "metadata": {
    "application/vnd.databricks.v1+cell": {
     "cellMetadata": {
      "byteLimit": 2048000,
      "rowLimit": 10000
     },
     "inputWidgets": {},
     "nuid": "3f3c6e2d-1f81-42c9-81ac-03f1590af74d",
     "showTitle": false,
     "tableResultSettingsMap": {},
     "title": ""
    }
   },
   "source": [
    "#### Path definitions and secrets"
   ]
  },
  {
   "cell_type": "code",
   "execution_count": 0,
   "metadata": {
    "application/vnd.databricks.v1+cell": {
     "cellMetadata": {
      "byteLimit": 2048000,
      "rowLimit": 10000
     },
     "inputWidgets": {},
     "nuid": "24ba3850-0c59-481c-8cdc-b4e4765f520d",
     "showTitle": false,
     "tableResultSettingsMap": {},
     "title": ""
    }
   },
   "outputs": [],
   "source": [
    "storage_account_name  = \"stacmfraud\"\n",
    "\n",
    "database_name = \"bronze_mobile\"\n",
    "table_name = \"access\" \n",
    "\n",
    "tenant_id = \"dc25df03-ffa5-4111-b188-46fe6cd26a3a\"\n",
    "client_id = \"775d1965-2ada-4399-adb9-ead9caaf4d72\"\n",
    "\n",
    "container_name = \"cont-fraud\"\n",
    "container_path = f\"abfss://{container_name}@{storage_account_name}.dfs.core.windows.net/bronze/{database_name}\"\n",
    "delta_table_path = f\"abfss://{container_name}@{storage_account_name}.dfs.core.windows.net/bronze/{database_name}/{table_name}\"\n",
    "\n",
    "event_hubs_server = \"fraud-eh-namespace-standard.servicebus.windows.net\"\n",
    "event_hubs_topic = \"fraud-detect\"\n",
    "\n",
    "connection_string = dbutils.secrets.get(scope=\"dbwsscope\", key=\"spn-secret\")\n",
    "hash_word = dbutils.secrets.get(scope=\"dbwsscope\", key=\"hash-word\")"
   ]
  },
  {
   "cell_type": "markdown",
   "metadata": {
    "application/vnd.databricks.v1+cell": {
     "cellMetadata": {
      "byteLimit": 2048000,
      "rowLimit": 10000
     },
     "inputWidgets": {},
     "nuid": "e30eb2ba-fffc-427b-ae20-eff27f579d43",
     "showTitle": false,
     "tableResultSettingsMap": {},
     "title": ""
    }
   },
   "source": [
    "#### `Kafka` definitions"
   ]
  },
  {
   "cell_type": "code",
   "execution_count": 0,
   "metadata": {
    "application/vnd.databricks.v1+cell": {
     "cellMetadata": {
      "byteLimit": 2048000,
      "rowLimit": 10000
     },
     "inputWidgets": {},
     "nuid": "22679f5d-6fbc-4261-a8c8-d89763d68900",
     "showTitle": false,
     "tableResultSettingsMap": {},
     "title": ""
    }
   },
   "outputs": [],
   "source": [
    "sasl_config = f'kafkashaded.org.apache.kafka.common.security.oauthbearer.OAuthBearerLoginModule required clientId=\"{client_id}\" clientSecret=\"{client_secret}\" scope=\"https://{event_hubs_server}/.default\" ssl.protocol=\"SSL\";'\n",
    "\n",
    "kafka_options = {\n",
    "# Port 9093 is the EventHubs Kafka port\n",
    "\"kafka.bootstrap.servers\": f\"{event_hubs_server}:9093\",\n",
    "\"kafka.sasl.jaas.config\": sasl_config,\n",
    "\"kafka.sasl.oauthbearer.token.endpoint.url\": f\"https://login.microsoft.com/{tenant_id}/oauth2/v2.0/token\",\n",
    "\"subscribe\": event_hubs_topic,\n",
    "\n",
    "# You should not need to modify these\n",
    "\"kafka.security.protocol\": \"SASL_SSL\",\n",
    "\"kafka.sasl.mechanism\": \"OAUTHBEARER\",\n",
    "\"kafka.sasl.login.callback.handler.class\": \"kafkashaded.org.apache.kafka.common.security.oauthbearer.secured.OAuthBearerLoginCallbackHandler\"\n",
    "}"
   ]
  },
  {
   "cell_type": "markdown",
   "metadata": {
    "application/vnd.databricks.v1+cell": {
     "cellMetadata": {
      "byteLimit": 2048000,
      "rowLimit": 10000
     },
     "inputWidgets": {},
     "nuid": "d481f209-0499-4b64-8926-561f89c941f9",
     "showTitle": false,
     "tableResultSettingsMap": {},
     "title": ""
    }
   },
   "source": [
    "#### Database Create"
   ]
  },
  {
   "cell_type": "code",
   "execution_count": 0,
   "metadata": {
    "application/vnd.databricks.v1+cell": {
     "cellMetadata": {
      "byteLimit": 2048000,
      "rowLimit": 10000
     },
     "inputWidgets": {},
     "nuid": "bc456cee-51cf-48fb-b458-c1d79b246c3a",
     "showTitle": false,
     "tableResultSettingsMap": {},
     "title": ""
    }
   },
   "outputs": [
    {
     "data": {
      "text/plain": [
       "DataFrame[]"
      ]
     },
     "execution_count": 63,
     "metadata": {},
     "output_type": "execute_result"
    }
   ],
   "source": [
    "spark.sql(f\"\"\"CREATE DATABASE IF NOT EXISTS {database_name} LOCATION '{container_path}'\"\"\")\n",
    "\n",
    "spark.sql(f\"\"\"CREATE TABLE IF NOT EXISTS {database_name}.{table_name} (\n",
    "        imei STRING,\n",
    "        mac STRING,\n",
    "        network STRING,\n",
    "        client_ip STRING,\n",
    "        latitude STRING,\n",
    "        longitude STRING,\n",
    "        uid STRING,\n",
    "        password STRING,\n",
    "        `transaction` STRING,\n",
    "        api STRING,\n",
    "        endpoint STRING,\n",
    "        os STRING,\n",
    "        phone_brand STRING,\n",
    "        app_version STRING,\n",
    "        error STRING,\n",
    "        `timestamp` STRING,\n",
    "        dat_ref STRING\n",
    "        )\n",
    "    USING DELTA\n",
    "    LOCATION '{delta_table_path}'\"\"\")"
   ]
  },
  {
   "cell_type": "markdown",
   "metadata": {
    "application/vnd.databricks.v1+cell": {
     "cellMetadata": {
      "byteLimit": 2048000,
      "rowLimit": 10000
     },
     "inputWidgets": {},
     "nuid": "e957e481-0301-4f54-b3a7-303eb878828d",
     "showTitle": false,
     "tableResultSettingsMap": {},
     "title": ""
    }
   },
   "source": [
    "#### Read Data Stream"
   ]
  },
  {
   "cell_type": "code",
   "execution_count": 0,
   "metadata": {
    "application/vnd.databricks.v1+cell": {
     "cellMetadata": {
      "byteLimit": 2048000,
      "rowLimit": 10000
     },
     "inputWidgets": {},
     "nuid": "baeee2b4-37fb-4e20-8c63-b6e02b5930f4",
     "showTitle": false,
     "tableResultSettingsMap": {},
     "title": ""
    }
   },
   "outputs": [
    {
     "name": "stdout",
     "output_type": "stream",
     "text": [
      "root\n",
      " |-- key: binary (nullable = true)\n",
      " |-- value: binary (nullable = true)\n",
      " |-- topic: string (nullable = true)\n",
      " |-- partition: integer (nullable = true)\n",
      " |-- offset: long (nullable = true)\n",
      " |-- timestamp: timestamp (nullable = true)\n",
      " |-- timestampType: integer (nullable = true)\n",
      "\n"
     ]
    }
   ],
   "source": [
    "df = (\n",
    "    spark.readStream\n",
    "      .format(\"kafka\")\n",
    "      .options(**kafka_options)\n",
    "      .load()\n",
    "      )\n",
    "\n",
    "df.printSchema()"
   ]
  },
  {
   "cell_type": "markdown",
   "metadata": {
    "application/vnd.databricks.v1+cell": {
     "cellMetadata": {
      "byteLimit": 2048000,
      "rowLimit": 10000
     },
     "inputWidgets": {},
     "nuid": "5dcfd11c-1564-4a92-afdc-b5d788f28382",
     "showTitle": false,
     "tableResultSettingsMap": {},
     "title": ""
    }
   },
   "source": [
    "#### Edit dictionary"
   ]
  },
  {
   "cell_type": "code",
   "execution_count": 0,
   "metadata": {
    "application/vnd.databricks.v1+cell": {
     "cellMetadata": {
      "byteLimit": 2048000,
      "rowLimit": 10000
     },
     "inputWidgets": {},
     "nuid": "8de14d18-1edd-4068-b75f-71075342c4fa",
     "showTitle": false,
     "tableResultSettingsMap": {},
     "title": ""
    }
   },
   "outputs": [],
   "source": [
    "# Define schema for the JSON\n",
    "schema = StructType([\n",
    "    StructField(\"imei\", StringType(), True),\n",
    "    StructField(\"mac\", StringType(), True),\n",
    "    StructField(\"network\", StringType(), True),\n",
    "    StructField(\"client_ip\", StringType(), True),\n",
    "    StructField(\"latitude\", StringType(), True),\n",
    "    StructField(\"longitude\", StringType(), True),\n",
    "    StructField(\"uid\", StringType(), True),\n",
    "    StructField(\"password\", StringType(), True),\n",
    "    StructField(\"transaction\", StringType(), True),\n",
    "    StructField(\"api\", StringType(), True),\n",
    "    StructField(\"endpoint\", StringType(), True),\n",
    "    StructField(\"os\", StringType(), True),\n",
    "    StructField(\"phone_brand\", StringType(), True),\n",
    "    StructField(\"app_version\", StringType(), True),\n",
    "    StructField(\"error\", StringType(), True),\n",
    "    StructField(\"timestamp\", StringType(), True),\n",
    "    StructField(\"dat_ref\", StringType(), True)\n",
    "])\n",
    "\n",
    "# Converting the event hub body field to a DataFrame\n",
    "\n",
    "df = (df\n",
    "      .select(F.col(\"value\").cast(\"string\"))\n",
    "      .withColumn(\"json_list\", F.from_json(F.col(\"value\"), ArrayType(schema)))\n",
    "      .select(F.explode(F.col(\"json_list\")).alias(\"json_data\"))\n",
    "      )\n",
    "\n",
    "# Select and display individual fields\n",
    "df_body = (df.select(\n",
    "    F.col(\"json_data.imei\"),\n",
    "    F.col(\"json_data.mac\"),\n",
    "    F.col(\"json_data.network\"),\n",
    "    F.col(\"json_data.client_ip\"),\n",
    "    F.col(\"json_data.latitude\"),\n",
    "    F.col(\"json_data.longitude\"),\n",
    "    F.col(\"json_data.uid\"),\n",
    "    F.col(\"json_data.password\"),\n",
    "    F.col(\"json_data.transaction\"),\n",
    "    F.col(\"json_data.api\"),\n",
    "    F.col(\"json_data.endpoint\"),\n",
    "    F.col(\"json_data.os\"),\n",
    "    F.col(\"json_data.phone_brand\"),\n",
    "    F.col(\"json_data.app_version\"),\n",
    "    F.col(\"json_data.error\"),\n",
    "    F.col(\"json_data.timestamp\"))\n",
    "      .withColumn(\"imei\", F.sha2(F.concat(F.col(\"imei\"), F.lit(hash_word)), 256))\n",
    "      .withColumn(\"mac\", F.sha2(F.concat(F.col(\"mac\"), F.lit(hash_word)), 256))\n",
    "      .withColumn(\"uid\", F.sha2(F.concat(F.col(\"uid\"), F.lit(hash_word)), 256))\n",
    "      .withColumn(\"password\", F.sha2(F.concat(F.col(\"password\"), F.lit(hash_word)), 256))\n",
    "      .withColumn(\"dat_ref\", F.from_unixtime(F.col(\"timestamp\").cast(\"long\")/1000, \"yyyy-MM-dd\"))\n",
    "      )"
   ]
  },
  {
   "cell_type": "markdown",
   "metadata": {
    "application/vnd.databricks.v1+cell": {
     "cellMetadata": {
      "byteLimit": 2048000,
      "rowLimit": 10000
     },
     "inputWidgets": {},
     "nuid": "7da2deb7-9caa-4277-b228-4fb0510b2bf2",
     "showTitle": false,
     "tableResultSettingsMap": {},
     "title": ""
    }
   },
   "source": [
    "#### Write data on `Bronze Table`"
   ]
  },
  {
   "cell_type": "code",
   "execution_count": 0,
   "metadata": {
    "application/vnd.databricks.v1+cell": {
     "cellMetadata": {
      "byteLimit": 2048000,
      "rowLimit": 10000
     },
     "inputWidgets": {},
     "nuid": "fd1a44f8-e5e2-40f0-b545-7f780db216b3",
     "showTitle": false,
     "tableResultSettingsMap": {},
     "title": ""
    }
   },
   "outputs": [],
   "source": [
    "query = (df_body.writeStream\n",
    "         .format(\"delta\")\n",
    "         .outputMode(\"append\")\n",
    "         .trigger(once=True)\n",
    "         .option(\"checkpointLocation\", f\"{delta_table_path}/_checkpoints/\")\n",
    "         .start(delta_table_path))\n"
   ]
  },
  {
   "cell_type": "code",
   "execution_count": 0,
   "metadata": {
    "application/vnd.databricks.v1+cell": {
     "cellMetadata": {
      "byteLimit": 2048000,
      "rowLimit": 10000
     },
     "inputWidgets": {},
     "nuid": "8c9d5f6e-6a2b-4d0f-b243-a4859aad47a6",
     "showTitle": false,
     "tableResultSettingsMap": {},
     "title": ""
    }
   },
   "outputs": [
    {
     "data": {
      "text/html": [
       "<style scoped>\n",
       "  .table-result-container {\n",
       "    max-height: 300px;\n",
       "    overflow: auto;\n",
       "  }\n",
       "  table, th, td {\n",
       "    border: 1px solid black;\n",
       "    border-collapse: collapse;\n",
       "  }\n",
       "  th, td {\n",
       "    padding: 5px;\n",
       "  }\n",
       "  th {\n",
       "    text-align: left;\n",
       "  }\n",
       "</style><div class='table-result-container'><table class='table-result'><thead style='background-color: white'><tr><th>imei</th><th>mac</th><th>network</th><th>client_ip</th><th>latitude</th><th>longitude</th><th>uid</th><th>password</th><th>transaction</th><th>api</th><th>endpoint</th><th>os</th><th>phone_brand</th><th>app_version</th><th>error</th><th>timestamp</th><th>dat_ref</th></tr></thead><tbody><tr><td>8013a84716f3db1a15e90fa085c5b353e41ad0d7b167d129f737628d27618579</td><td>933a9ff5c439b555936ab5edbc3b9e48d2688c9e343a1d0a89e38de514f72242</td><td>OI</td><td>220.78.99.50</td><td>-23.77563100432002</td><td>-51.262987693146776</td><td>677f7e365aedb68907d75345fa73468391bfbdc909f1848d7390881abf1d1e67</td><td>2f727553c360ec78cc026ae2b477f89dba4b582bb2f45c0b4fdf0fc48dc017a9</td><td>true</td><td>login-authentication</td><td>v1/login</td><td>iOS 16</td><td>iPhone 8</td><td>2.0.3</td><td>0</td><td>1730491222000.0</td><td>2024-11-01</td></tr><tr><td>271e7373bd8700a81c95c66561f1c980a22adaaf25c48d51224339ad513e6003</td><td>faa026689361a6b8560bd840b90194427d77aeedcf315b88079dafcf6df77156</td><td>VIVO</td><td>81.177.184.248</td><td>-21.703336134274167</td><td>-43.454286695170055</td><td>afaa06a8bebc3119b8a491a9634bba55e8583977ac359787e3d17e135b4c3dda</td><td>6765e2574e8235784ab2810fb7c5f3132ecba4b2409fb3e11c55d6283eae2eae</td><td>true</td><td>login-authentication</td><td>v1/login</td><td>iOS 17</td><td>iPhone SE 2020</td><td>2.0.3</td><td>0</td><td>1730565877000.0</td><td>2024-11-02</td></tr><tr><td>82a0936f125b41b754437d93c5ec1eeee65192d146ac350874e828a788982499</td><td>ab7b78b59f76ab1c11abb8c79ffce22b3b28615088836a7f4d58c811beb8bbe7</td><td>OI</td><td>66.182.23.205</td><td>-9.370609183608783</td><td>-36.000740168887646</td><td>ea23bb98bd7a761acc1c0a57e0eb29c6916dc38e2f2c74880b081ea7d0451750</td><td>06ba8d4934f3fd5323bace59690ad5d625ce3380d9214e16961280548bf23983</td><td>true</td><td>login-authentication</td><td>v1/login</td><td>Android 13 (Funtouch OS 13)</td><td>Vivo V29e</td><td>2.0.3</td><td>0</td><td>1730495312000.0</td><td>2024-11-01</td></tr><tr><td>f0ca3836190245d30fc2484a9a4208e29e37371c58c59f6e27aa3808e779f7a3</td><td>5b326303862b0af7997c810ca75a834a7ba5a0d1cf2398a9ad68bddcca48362a</td><td>TIM</td><td>163.34.180.118</td><td>-19.649171045838926</td><td>-44.13518572870252</td><td>609ca3852d3c5ba968104a9718ea486445b3c68bd19eb91e538315d84489ec38</td><td>2f36c5c52248f0d66a4a080a62ed6c68e63e79c5757a545897dea64441400166</td><td>false</td><td>login-authentication</td><td>v1/login</td><td>iOS 10.3.4</td><td>iPhone 5</td><td>2.0.2</td><td>0</td><td>1730503785000.0</td><td>2024-11-01</td></tr><tr><td>033b1dbebf1914bc2248c0f6e4b0c326d5bb7ed627dd0da3b734a33621e4f231</td><td>00542d0f230e3fc04a26f3f5ba74074a2bb5135262202ae9f29ad5af29b5f2db</td><td>OI</td><td>87.218.173.230</td><td>-8.23590352456598</td><td>-34.93756363014488</td><td>c567cf37d440dd0f572dd68a66f7f548b2947f3602cd09ff80be4b433a12781a</td><td>7cf1ff25309278232199d8d6e05251eb53192064f0d6b10d705cef596e1f3fa2</td><td>true</td><td>login-authentication</td><td>v1/login</td><td>iOS 17</td><td>iPhone 11 Pro Max</td><td>2.0.3</td><td>0</td><td>1730491469000.0</td><td>2024-11-01</td></tr><tr><td>178e4b452fa639ec9b5ab64acdce8d1f394e111d840920aa5c73bd38e801fcbf</td><td>c223bfbe394d2411fcfee111b116a5adde4907ed8035041aac3014ace0f2f5f1</td><td>TIM</td><td>125.41.132.238</td><td>-9.86805392718289</td><td>-35.48945302108216</td><td>54dcd44b7c21f3374fe5e2bd524529515bc0173c97b4064c34c4c34612e2c33f</td><td>1134d1f3fabcadafd20664af17a7eadb8ffd5db91bf98d6732b0c5cf8f6c6536</td><td>false</td><td>login-authentication</td><td>v1/login</td><td>iOS 4.2.1</td><td>iPhone 3G</td><td>2.0.3</td><td>0</td><td>1730558263000.0</td><td>2024-11-02</td></tr><tr><td>8108ea805da4742e4d526643fac5762ef51cedb5ca528d00e72e0f8a83934d41</td><td>be1089680bc500d44219f25331a4e8c3e234c7fc27402877aa710d18204fc19c</td><td>OI</td><td>118.24.160.145</td><td>-2.1890253983261907</td><td>-57.010920594040726</td><td>848250c3a46fcc9f6cc1ddbad6a1f249b8bb71f06ee4d442f1b9ecc9e2b23a41</td><td>cab4135d86383a4806fa0597f13ff88f46bfdce921f5159615f5a65f04b65a30</td><td>true</td><td>login-authentication</td><td>v1/login</td><td>Android 13 (MyUX)</td><td>Motorola Moto G Power 2023</td><td>2.0.3</td><td>0</td><td>1730534166000.0</td><td>2024-11-02</td></tr><tr><td>4ce4bf96ba295b1c55708b7011d7895e3e22c23e6419f742f94a23806dc5b890</td><td>fe93a68c342082762a50a436f0ff616f679ee11e2f8c6595f1da49d12a6ea6b8</td><td>TIM</td><td>47.179.147.165</td><td>-5.984354395007907</td><td>-35.71067742536712</td><td>b827e15aff333dad2438751515e3396f76d5ee3069c2f3e0b6f1feef3965c133</td><td>4790ceb7f0579e26c733b52f03f9e14c0176a0c30b19516ee0248dab22d58194</td><td>false</td><td>login-authentication</td><td>v1/login</td><td>Android 14 (Stock Android)</td><td>Google Pixel 8 Pro</td><td>2.0.2</td><td>0</td><td>1730489420000.0</td><td>2024-11-01</td></tr><tr><td>9c2073c296ec2ef7b8625ba4009c68233e9c14527854a3f238bbde4d92d83e85</td><td>af9a27864578fb7813069bbbb93b5e1244f3709979598a63eaf9a1d5243edee0</td><td>CLARO</td><td>44.111.9.101</td><td>-30.18451361755625</td><td>-51.03876300886537</td><td>9a512eebc9e93b3a430973cac6dacf64d5529c7d6d2cb0fb2d4fe2fa5909dc00</td><td>750f9d697110c99bd682e95fef7ceaedd1bb77daf42fb1870b458eeb3e57471b</td><td>false</td><td>login-authentication</td><td>v1/login</td><td>Android 12 (XOS 12)</td><td>Infinix Zero Ultra</td><td>2.0.3</td><td>0</td><td>1730457558000.0</td><td>2024-11-01</td></tr><tr><td>840bac1ea1b52a998e343e34f5c70af613c1b9155997b0e604329ff1cdca2be6</td><td>20b1f4f2fab6975d1b58b7493bfc15f77f3d476524898f076bdd68a54f2aa1f4</td><td>CLARO</td><td>198.142.165.78</td><td>-3.388612414467726</td><td>-40.503998141398895</td><td>ce5bcc5462f75528c2c1c1cc8d04a084235a712958f37cf8f6625387fa84c9bd</td><td>da9a4f5af0f51bdca448c8f9022ec786f6c76ccb7fc5a223e3d13a08a698c97d</td><td>true</td><td>login-authentication</td><td>v1/login</td><td>Android 13 (MIUI 14)</td><td>Xiaomi 13 Lite</td><td>2.0.3</td><td>0</td><td>1730420332000.0</td><td>2024-11-01</td></tr><tr><td>03c2c82e7adfdd106848621e8b96ade5a573b5fcb3278f2da843569387af0048</td><td>2c72a7ebfafe4bc33b98f6bbb351acd5f52b69188757ebe583df48ee940c3486</td><td>VIVO</td><td>33.167.184.236</td><td>2.1829838670206487</td><td>-61.24347889049008</td><td>fb8e9d1962881cb986b93db62b3ae34aeda821daa37fee038ed679615ae323d2</td><td>71d8fb162905a033d5787099d593431091df6f97398eb21ac4428bd39c88d8e3</td><td>true</td><td>login-authentication</td><td>v1/login</td><td>Android 14 (Stock Android)</td><td>Google Pixel 8 Pro</td><td>2.0.3</td><td>USER_NOT_FOUND</td><td>1730473740000.0</td><td>2024-11-01</td></tr><tr><td>f086fb3b1889381ed0d0f20434becc4507a11843b3ad6942965641a75b65e238</td><td>bc7364922508442fe786fc5b0a738ffbe2f7a0e46505b52f5fbe2b13eb9b19c4</td><td>OI</td><td>103.86.182.48</td><td>-11.148063158583602</td><td>-61.24609214820808</td><td>dff43b9abe6f3f22e6029a72b50d327da040f26cf813b22b569dde8fd7b89775</td><td>030bcf13130ff3c361fb17c6b8a53732172c8f6723b786543917d28a48fae7e8</td><td>true</td><td>login-authentication</td><td>v1/login</td><td>iOS 17</td><td>iPhone XS</td><td>2.0.3</td><td>USER_NOT_FOUND</td><td>1730552824000.0</td><td>2024-11-02</td></tr><tr><td>710de16dcca729db7d2e23c8238b3b3faacfcd149f0d1bcdab1ac4bbff875ea3</td><td>3b947aee106b1957d3c8549f6baa8056146d3faa1eea848ef25642c4b7a164e4</td><td>TIM</td><td>211.138.33.195</td><td>-10.818563420158418</td><td>-61.52152014661998</td><td>cbb13f4916fd0eab2d87c859d4173c484165da6393cf91f69c14cd4bf7ee633b</td><td>8b5761ec6ad9e3d38977bc54905174372eb6cd56f7e38f81fedc20635a783f58</td><td>true</td><td>login-authentication</td><td>v1/login</td><td>Android 13 (Funtouch OS 13)</td><td>Vivo X90 Pro</td><td>2.0.3</td><td>0</td><td>1730462365000.0</td><td>2024-11-01</td></tr><tr><td>448f8439c7bc9e297f408f7470ca34b0e29dedfd60572765a7be7985bf895274</td><td>b60202c13738dc487227421a6657a46d3ce6ce834187db8787596a0c84a62303</td><td>TIM</td><td>106.197.228.139</td><td>-3.708043592274844</td><td>-40.37824528473357</td><td>bfbe2e4a3390e79756b5570aac50504071bbaa8693f4c483681c456128395c38</td><td>3321da6469b39ab0c11326b4fa689d34603f9ad48ac86f0ce65551b587b15f75</td><td>true</td><td>login-authentication</td><td>v1/login</td><td>iOS 17</td><td>iPhone SE 1ª Geração (2016)</td><td>2.0.2</td><td>0</td><td>1730486770000.0</td><td>2024-11-01</td></tr><tr><td>1ba0684e745c9295a80f33b4e3b73192393b26188a13e6811bb8c8d6c899035b</td><td>a7972a74e81dd71a5464830201c15fd5559ef80e89d1e15367af55d0b435a176</td><td>VIVO</td><td>153.179.47.115</td><td>-23.5166184274317</td><td>-45.53923989731569</td><td>7b179e96af8ea70851f0c6cc9887005f42a856133703ffc8bbe7e590236d32f2</td><td>ca7d96be2393c29b3e987897032bcaeb2f027b996cb44f2bcdb6a82db23780d7</td><td>true</td><td>login-authentication</td><td>v1/login</td><td>iOS 17</td><td>iPhone 14 Plus</td><td>2.0.3</td><td>0</td><td>1730508912000.0</td><td>2024-11-02</td></tr><tr><td>41c79c53f5b45f6484f77c6023441bd57129198e9ca25cf020a9172de8fa2293</td><td>08335b057e9d5420b52b6e39661103527c283486c315d457232062a24b02b12f</td><td>CLARO</td><td>161.94.143.32</td><td>-0.5458416493490932</td><td>-51.587438679229024</td><td>ca4c3361fbcb8cbf599799e2b75ed3798eead58172b8a2e750b0ee40d8241b2a</td><td>aa449c6db3fce97904a91e64c1ff16e13d93c1a69dccf462131bc2da7e0f661f</td><td>false</td><td>login-authentication</td><td>v1/login</td><td>Android 13 (MIUI 14)</td><td>Xiaomi 13</td><td>2.0.1</td><td>0</td><td>1730435286000.0</td><td>2024-11-01</td></tr><tr><td>6c713c999d615284ab889534e51d97389e292b9a387d3a4b1e404673975827b8</td><td>14aaf95fcaba2748c836ae8cd153669ac3749afe9ca6e1c4f268da798105a709</td><td>OI</td><td>156.128.246.6</td><td>-12.679714074681165</td><td>-37.966658753025015</td><td>db65622b6ddc1cba40890b5311b79895b234abeef1437e2236aab28487f2179b</td><td>e8afb350cff470e2faeacbf8ccbaf0d6cf99943b687059b8b0421261e1edede3</td><td>true</td><td>login-authentication</td><td>v1/login</td><td>Android 13 (ColorOS 13.1)</td><td>OPPO Reno 10 Pro+</td><td>2.0.3</td><td>0</td><td>1730472076000.0</td><td>2024-11-01</td></tr><tr><td>d704c8d5cab4259f0fd757be8afb04b10c77a2d771a3d2cb4e663166d0a4ac24</td><td>f8faf721045d1a164cc936cbbbbb79b1f9aa1150c795c2ed8b34cd768c5fcba1</td><td>VIVO</td><td>7.220.152.107</td><td>-6.763317198016507</td><td>-39.03878063669815</td><td>65d5512e028fb443efb92f6b2c78a70240ae914f70b518d31d1e5eb57bb3ffe8</td><td>f99060b163de07537a315b26abfc9c89829bdbe393292e4b0987926022f815b8</td><td>true</td><td>login-authentication</td><td>v1/login</td><td>Android 14 (Stock Android)</td><td>Google Pixel 8</td><td>2.0.2</td><td>0</td><td>1730480813000.0</td><td>2024-11-01</td></tr><tr><td>85ac230b0d190e7796c203d50bc5049f85947c6772b73f6f6fdaca001ae1f72a</td><td>1f46f139cbb669d7ec8c3887c928a826be728519b05a010194b881eafd40fc65</td><td>TIM</td><td>159.236.165.164</td><td>-5.544499589671969</td><td>-37.01667702903112</td><td>dd1e1fe02e49b7dd61fafa87532e914188755bc3562bb785c81c652d9f26bfe0</td><td>b920ff4922c5351a040d9c45e087cde9ee5fb372840e15a4977d76729c323967</td><td>true</td><td>login-authentication</td><td>v1/login</td><td>Android 13 (MIUI 14)</td><td>Poco X5 Pro</td><td>2.0.3</td><td>0</td><td>1730545770000.0</td><td>2024-11-02</td></tr><tr><td>db1358d669dd0f1d011a8b0e6bbd63b20c982bd040972e4ade5ca8a6995a1fa4</td><td>527bb1140f5b5c8c7cbc4aa2e005b4764f664275d749178ee259c57c72e3efc4</td><td>TIM</td><td>185.224.31.64</td><td>-8.084510923140154</td><td>-71.05584141976897</td><td>43a70510de2d26df34f3ca6a205f9e83eb391c464d348ebd6ce6723710c44752</td><td>9275a48d007455dfb05e33e750084280675cc0e8847f843342a1e3a3c93c7a93</td><td>true</td><td>login-authentication</td><td>v1/login</td><td>iOS 17</td><td>iPhone XS</td><td>2.0.3</td><td>0</td><td>1730561366000.0</td><td>2024-11-02</td></tr><tr><td>aab1928c6d7cc12e5e2bd9473b4ef4834e45aa11f421aaf0da18740e51092a84</td><td>0b0596390f1a89c042a67dbedeb02e24618023efeb13fba3a5accc7dc1144133</td><td>OI</td><td>40.183.161.122</td><td>-22.50008153900569</td><td>-47.04242096774821</td><td>394050e4db12baad81e7bbadeec5981175781cd2b2da4bf96e65ab70a9d593a0</td><td>5bd39fb207597b2bf8ddac529b9001f8556bb1677aa0f5b1ca3cd0b2fa84cf9b</td><td>false</td><td>login-authentication</td><td>v1/login</td><td>Android 12 (XOS 12)</td><td>Infinix Zero Ultra</td><td>2.0.3</td><td>0</td><td>1730428643000.0</td><td>2024-11-01</td></tr><tr><td>d8cb74b95d3bb4bab83cead08092d6688df63b70703e923be38e8803efd527cc</td><td>b185f442a9736560b273f6d0fc820d3ecd6c11dce8f1d311d6ab586d8b6e37b1</td><td>TIM</td><td>147.191.3.173</td><td>-5.117248201492188</td><td>-42.9069958137918</td><td>9af70db30b1ee66574a6e8b4ef84ddb2f81613f6f7988e61e4ed80f7c993a834</td><td>7f5397094fef34f4bd3b212bf0a1c3f26ba4d8fc2e4d898d558fdd63846c990b</td><td>true</td><td>login-authentication</td><td>v1/login</td><td>Android 13 (MIUI 14)</td><td>Xiaomi 13 Lite</td><td>2.0.2</td><td>0</td><td>1730540632000.0</td><td>2024-11-02</td></tr><tr><td>99758c591ead15fc3064f4ae97be98c77037e820111619630f054b9f7993d98e</td><td>accf5edab383c6085157235e57873cfb4d44df88bc0ac7454bfa38fb713518a1</td><td>CLARO</td><td>195.221.183.66</td><td>-16.268155702031255</td><td>-47.68730948993053</td><td>e73d0d3723b1473651f331bc28162b628f6487833ecae401ecbf3971227fc228</td><td>999c33e64af76f11283fa0da68f361f2dbf23fed928452c58738afcd20b95e57</td><td>true</td><td>login-authentication</td><td>v1/login</td><td>Android 13 (MagicOS 7.1)</td><td>Honor Magic 5 Pro</td><td>2.0.3</td><td>0</td><td>1730545582000.0</td><td>2024-11-02</td></tr><tr><td>f807f57a8401acfa15da99ab4cb0a5d6a32e2fe1ee36a959e0709a63e15ee2a1</td><td>1c2fbbb4f8304de66fa47b824688b118091b62763dbc1d3b611dedc0b8f578c7</td><td>VIVO</td><td>193.221.136.247</td><td>2.7787351756099303</td><td>-60.75170242657341</td><td>848250c3a46fcc9f6cc1ddbad6a1f249b8bb71f06ee4d442f1b9ecc9e2b23a41</td><td>8790f68480e39732516c5c4310a5c0e66110f07c4769261e884df1ef7948afba</td><td>true</td><td>login-authentication</td><td>v1/login</td><td>iOS 17</td><td>iPhone 13 Pro</td><td>2.0.3</td><td>INCORRECT_PASS</td><td>1730488392000.0</td><td>2024-11-01</td></tr><tr><td>04abc5990287c3baf0ef9eb63c68a8c28058a65b22d90a2e93cdc863c474d219</td><td>b7c2df64ec59c73fd3bba49391dea69e42fdce7c6ba54db431609a723a28bc0e</td><td>OI</td><td>55.38.168.56</td><td>-6.42706416805029</td><td>-35.33637781486881</td><td>16502fdb719418e99859cfdbd80a85c020bc7bf8425b9a91006ef9e4259beead</td><td>21885f6883ac7ad02a86c58854404e16de0c11fb7dc39ae9103514544fc9d08b</td><td>true</td><td>login-authentication</td><td>v1/login</td><td>Android 13 (OxygenOS 13.1)</td><td>OnePlus Nord 3</td><td>2.0.3</td><td>0</td><td>1730553930000.0</td><td>2024-11-02</td></tr><tr><td>fb1d2b661706ccd86efbb20b525574d649bc49a203b4f984d82f05b2e93f635a</td><td>1e7f617b90ab866b0e0dee4fde4dbbcbd5b6e7fd2f4d824599cdf9c5ea7dd02d</td><td>CLARO</td><td>142.14.6.19</td><td>-15.36707481327708</td><td>-56.46885238160125</td><td>2d2cdeba40d519daa0b0c04702b0d4390518e8da3c009536857227b24d91d41c</td><td>9a5df2286878a038f76957ffc0602e5f72d91a12429e68979f3fad58aab8596d</td><td>true</td><td>login-authentication</td><td>v1/login</td><td>iOS 17</td><td>iPhone 13</td><td>2.0.3</td><td>0</td><td>1730576318000.0</td><td>2024-11-02</td></tr><tr><td>899a0d5469373aeafbe67ee51cbd3ae04b3c0b19adb1c36a09991f4e98a4eabe</td><td>c9a67920e629974cc33bd0031b43e32261f92cdc458037d9c1748ebe6565f720</td><td>VIVO</td><td>10.240.248.145</td><td>-21.289557389669984</td><td>-52.24681512127164</td><td>ed5fc5af794ffb7e3567d8a8b2fd0b54bfd155b8063e317d3ea617006fa15c07</td><td>fc1d3dc5dd217786d82694111ee527dcb6102a69507349bc6390c2ac53f90f3b</td><td>true</td><td>login-authentication</td><td>v1/login</td><td>iOS 7.1.2</td><td>iPhone 4</td><td>2.0.3</td><td>0</td><td>1730446099000.0</td><td>2024-11-01</td></tr><tr><td>ec65554914495fcf766ca08c52c5447cdf5c78b581f615c7b316c1900798f802</td><td>b62e3cb903771a93fd968c226e0d2f03128363310f6d2365f905b3445fe1954e</td><td>CLARO</td><td>92.48.162.152</td><td>-0.613816927408625</td><td>-48.38237973234131</td><td>a143ec269b42b16c04e9518ee9f9afc5423a48eb8a056cf91afc37e852dd0b75</td><td>52602a0db68074c2e97975a37daec548aac8c15ad2870a8bea4bb833140ad8c7</td><td>true</td><td>login-authentication</td><td>v1/login</td><td>Android 13 (ColorOS 13.1)</td><td>OPPO Reno 10 Pro+</td><td>2.0.3</td><td>0</td><td>1730539637000.0</td><td>2024-11-02</td></tr><tr><td>dfc395de7d2fe240b014e7573a095ea64433e5f8066c0b06d129a7ff0d821611</td><td>d493b210563d58ce9e2f036173be279cad63f96ba2a0206304002f7297791997</td><td>OI</td><td>188.162.141.150</td><td>-20.222475232515755</td><td>-54.7122832498946</td><td>8fdc547050de7d056a78dd709f58a9f6408737f22770057577be0d4654f76278</td><td>92667fed1e730307dcf33922e7249a8bc940c7f13f32baa1012fb99fa518952a</td><td>true</td><td>login-authentication</td><td>v1/login</td><td>Android 13 (MyUX)</td><td>Motorola Moto G Power 2023</td><td>2.0.3</td><td>0</td><td>1730515120000.0</td><td>2024-11-02</td></tr><tr><td>567637c834af9bfea1bd37b66eafa78703e779876a0d7bc7b885e6d9b54a529a</td><td>4dfde3138160c7d3e19797e60f70db117ce5357eb3a65f11ff67d3007457cad7</td><td>CLARO</td><td>110.160.69.43</td><td>-14.102578008427685</td><td>-57.29111384135449</td><td>8bb946a1230c899e431270451d2754531d1bcff109f8966f7f55406c2c9349d0</td><td>62735f82877b5676efd3e360c52b984884c796056e8e8772f675d0e1865ab6c7</td><td>false</td><td>login-authentication</td><td>v1/login</td><td>Android 13 (Nothing OS 2.0)</td><td>Nothing Phone (2)</td><td>2.0.3</td><td>0</td><td>1730498162000.0</td><td>2024-11-01</td></tr><tr><td>ea265e6d6a5b3a0c4a2f17658cdd169c8a6ce2e47321e4d597364e7c699a3824</td><td>dfa8e5749780f3954f68bb68ae23971724e390b0d64ad87912f9afbe5c3ab44d</td><td>TIM</td><td>22.214.112.237</td><td>-8.181264568881199</td><td>-35.195731715288666</td><td>1cf0e9e321793a1d4ba562d5804fe84d8f00fe7a65f186d5e667d0a06f450158</td><td>91d6eb8f28393c62fd9416b0aaa40735a09b0a4c7cc48dbaed53297e693e8b31</td><td>true</td><td>login-authentication</td><td>v1/login</td><td>iOS 17</td><td>iPhone 13 Mini</td><td>2.0.3</td><td>0</td><td>1730554409000.0</td><td>2024-11-02</td></tr><tr><td>acceeb6febab41864e99fe3574c4b9e0e76778d5c1921ac0bde561381b71cba6</td><td>1a3fd6f08b82cd8c53f866769eae32c51cde96d8d2ec32bc9924877aa517cbae</td><td>TIM</td><td>107.142.230.179</td><td>-3.374218076700725</td><td>-38.34671252626709</td><td>70a8b56da318b62604eff3936af0963c435e6304645f74d66becdfe764c02e50</td><td>2a662f2afd259eae10472f5ef97719ae3118d3bd1cbdf79569e37c7aa976b26d</td><td>false</td><td>login-authentication</td><td>v1/login</td><td>Android 13 (MIUI 14)</td><td>Xiaomi Redmi Note 12</td><td>2.0.2</td><td>0</td><td>1730500340000.0</td><td>2024-11-01</td></tr><tr><td>db6f536e5b77f67b2247ec38d00c0ac7c7e18e97c1477fbd016b9bd3b07e9e8a</td><td>7e36990c7efd03962f5e0913bf525a0912d473409a36dabc5f1bb5e3835ec995</td><td>TIM</td><td>204.27.239.8</td><td>-20.906666835948315</td><td>-51.99924902200413</td><td>d3d1db3f7e8c53bf1e7be574b3d2834fccaac6564ad70c40ffda2336670c138d</td><td>f05e284e296f436051368fa66af520b8915419586b875e7d1c4f7dca4d226a15</td><td>false</td><td>login-authentication</td><td>v1/login</td><td>iOS 17</td><td>iPhone 15 Pro Max</td><td>2.0.2</td><td>INCORRECT_PASS</td><td>1730568920000.0</td><td>2024-11-02</td></tr><tr><td>1c11cbcaf088b3fc50308e2eb623050aeffcaa227f79f31778c4d76964ba8d8d</td><td>060c2656297bc13ba12483a7fd88852603a987f740e8e9502e05c0ded10cb4cd</td><td>VIVO</td><td>78.112.40.163</td><td>-27.040696968613595</td><td>-52.72532273242792</td><td>3d3736f823a3ba0305f8da47c49e844dbdc104beb5a4762a607c944ceb44e76c</td><td>acaf3a57876b0072826b2ceca9074842bf380247bddf27592f2f6d10f473156a</td><td>true</td><td>login-authentication</td><td>v1/login</td><td>Android 13</td><td>ZTE Nubia Z50</td><td>2.0.3</td><td>0</td><td>1730580398000.0</td><td>2024-11-02</td></tr></tbody></table></div>"
      ]
     },
     "metadata": {
      "application/vnd.databricks.v1+output": {
       "addedWidgets": {},
       "aggData": [],
       "aggError": "",
       "aggOverflow": false,
       "aggSchema": [],
       "aggSeriesLimitReached": false,
       "aggType": "",
       "arguments": {},
       "columnCustomDisplayInfos": {},
       "data": [
        [
         "8013a84716f3db1a15e90fa085c5b353e41ad0d7b167d129f737628d27618579",
         "933a9ff5c439b555936ab5edbc3b9e48d2688c9e343a1d0a89e38de514f72242",
         "OI",
         "220.78.99.50",
         "-23.77563100432002",
         "-51.262987693146776",
         "677f7e365aedb68907d75345fa73468391bfbdc909f1848d7390881abf1d1e67",
         "2f727553c360ec78cc026ae2b477f89dba4b582bb2f45c0b4fdf0fc48dc017a9",
         "true",
         "login-authentication",
         "v1/login",
         "iOS 16",
         "iPhone 8",
         "2.0.3",
         "0",
         "1730491222000.0",
         "2024-11-01"
        ],
        [
         "271e7373bd8700a81c95c66561f1c980a22adaaf25c48d51224339ad513e6003",
         "faa026689361a6b8560bd840b90194427d77aeedcf315b88079dafcf6df77156",
         "VIVO",
         "81.177.184.248",
         "-21.703336134274167",
         "-43.454286695170055",
         "afaa06a8bebc3119b8a491a9634bba55e8583977ac359787e3d17e135b4c3dda",
         "6765e2574e8235784ab2810fb7c5f3132ecba4b2409fb3e11c55d6283eae2eae",
         "true",
         "login-authentication",
         "v1/login",
         "iOS 17",
         "iPhone SE 2020",
         "2.0.3",
         "0",
         "1730565877000.0",
         "2024-11-02"
        ],
        [
         "82a0936f125b41b754437d93c5ec1eeee65192d146ac350874e828a788982499",
         "ab7b78b59f76ab1c11abb8c79ffce22b3b28615088836a7f4d58c811beb8bbe7",
         "OI",
         "66.182.23.205",
         "-9.370609183608783",
         "-36.000740168887646",
         "ea23bb98bd7a761acc1c0a57e0eb29c6916dc38e2f2c74880b081ea7d0451750",
         "06ba8d4934f3fd5323bace59690ad5d625ce3380d9214e16961280548bf23983",
         "true",
         "login-authentication",
         "v1/login",
         "Android 13 (Funtouch OS 13)",
         "Vivo V29e",
         "2.0.3",
         "0",
         "1730495312000.0",
         "2024-11-01"
        ],
        [
         "f0ca3836190245d30fc2484a9a4208e29e37371c58c59f6e27aa3808e779f7a3",
         "5b326303862b0af7997c810ca75a834a7ba5a0d1cf2398a9ad68bddcca48362a",
         "TIM",
         "163.34.180.118",
         "-19.649171045838926",
         "-44.13518572870252",
         "609ca3852d3c5ba968104a9718ea486445b3c68bd19eb91e538315d84489ec38",
         "2f36c5c52248f0d66a4a080a62ed6c68e63e79c5757a545897dea64441400166",
         "false",
         "login-authentication",
         "v1/login",
         "iOS 10.3.4",
         "iPhone 5",
         "2.0.2",
         "0",
         "1730503785000.0",
         "2024-11-01"
        ],
        [
         "033b1dbebf1914bc2248c0f6e4b0c326d5bb7ed627dd0da3b734a33621e4f231",
         "00542d0f230e3fc04a26f3f5ba74074a2bb5135262202ae9f29ad5af29b5f2db",
         "OI",
         "87.218.173.230",
         "-8.23590352456598",
         "-34.93756363014488",
         "c567cf37d440dd0f572dd68a66f7f548b2947f3602cd09ff80be4b433a12781a",
         "7cf1ff25309278232199d8d6e05251eb53192064f0d6b10d705cef596e1f3fa2",
         "true",
         "login-authentication",
         "v1/login",
         "iOS 17",
         "iPhone 11 Pro Max",
         "2.0.3",
         "0",
         "1730491469000.0",
         "2024-11-01"
        ],
        [
         "178e4b452fa639ec9b5ab64acdce8d1f394e111d840920aa5c73bd38e801fcbf",
         "c223bfbe394d2411fcfee111b116a5adde4907ed8035041aac3014ace0f2f5f1",
         "TIM",
         "125.41.132.238",
         "-9.86805392718289",
         "-35.48945302108216",
         "54dcd44b7c21f3374fe5e2bd524529515bc0173c97b4064c34c4c34612e2c33f",
         "1134d1f3fabcadafd20664af17a7eadb8ffd5db91bf98d6732b0c5cf8f6c6536",
         "false",
         "login-authentication",
         "v1/login",
         "iOS 4.2.1",
         "iPhone 3G",
         "2.0.3",
         "0",
         "1730558263000.0",
         "2024-11-02"
        ],
        [
         "8108ea805da4742e4d526643fac5762ef51cedb5ca528d00e72e0f8a83934d41",
         "be1089680bc500d44219f25331a4e8c3e234c7fc27402877aa710d18204fc19c",
         "OI",
         "118.24.160.145",
         "-2.1890253983261907",
         "-57.010920594040726",
         "848250c3a46fcc9f6cc1ddbad6a1f249b8bb71f06ee4d442f1b9ecc9e2b23a41",
         "cab4135d86383a4806fa0597f13ff88f46bfdce921f5159615f5a65f04b65a30",
         "true",
         "login-authentication",
         "v1/login",
         "Android 13 (MyUX)",
         "Motorola Moto G Power 2023",
         "2.0.3",
         "0",
         "1730534166000.0",
         "2024-11-02"
        ],
        [
         "4ce4bf96ba295b1c55708b7011d7895e3e22c23e6419f742f94a23806dc5b890",
         "fe93a68c342082762a50a436f0ff616f679ee11e2f8c6595f1da49d12a6ea6b8",
         "TIM",
         "47.179.147.165",
         "-5.984354395007907",
         "-35.71067742536712",
         "b827e15aff333dad2438751515e3396f76d5ee3069c2f3e0b6f1feef3965c133",
         "4790ceb7f0579e26c733b52f03f9e14c0176a0c30b19516ee0248dab22d58194",
         "false",
         "login-authentication",
         "v1/login",
         "Android 14 (Stock Android)",
         "Google Pixel 8 Pro",
         "2.0.2",
         "0",
         "1730489420000.0",
         "2024-11-01"
        ],
        [
         "9c2073c296ec2ef7b8625ba4009c68233e9c14527854a3f238bbde4d92d83e85",
         "af9a27864578fb7813069bbbb93b5e1244f3709979598a63eaf9a1d5243edee0",
         "CLARO",
         "44.111.9.101",
         "-30.18451361755625",
         "-51.03876300886537",
         "9a512eebc9e93b3a430973cac6dacf64d5529c7d6d2cb0fb2d4fe2fa5909dc00",
         "750f9d697110c99bd682e95fef7ceaedd1bb77daf42fb1870b458eeb3e57471b",
         "false",
         "login-authentication",
         "v1/login",
         "Android 12 (XOS 12)",
         "Infinix Zero Ultra",
         "2.0.3",
         "0",
         "1730457558000.0",
         "2024-11-01"
        ],
        [
         "840bac1ea1b52a998e343e34f5c70af613c1b9155997b0e604329ff1cdca2be6",
         "20b1f4f2fab6975d1b58b7493bfc15f77f3d476524898f076bdd68a54f2aa1f4",
         "CLARO",
         "198.142.165.78",
         "-3.388612414467726",
         "-40.503998141398895",
         "ce5bcc5462f75528c2c1c1cc8d04a084235a712958f37cf8f6625387fa84c9bd",
         "da9a4f5af0f51bdca448c8f9022ec786f6c76ccb7fc5a223e3d13a08a698c97d",
         "true",
         "login-authentication",
         "v1/login",
         "Android 13 (MIUI 14)",
         "Xiaomi 13 Lite",
         "2.0.3",
         "0",
         "1730420332000.0",
         "2024-11-01"
        ],
        [
         "03c2c82e7adfdd106848621e8b96ade5a573b5fcb3278f2da843569387af0048",
         "2c72a7ebfafe4bc33b98f6bbb351acd5f52b69188757ebe583df48ee940c3486",
         "VIVO",
         "33.167.184.236",
         "2.1829838670206487",
         "-61.24347889049008",
         "fb8e9d1962881cb986b93db62b3ae34aeda821daa37fee038ed679615ae323d2",
         "71d8fb162905a033d5787099d593431091df6f97398eb21ac4428bd39c88d8e3",
         "true",
         "login-authentication",
         "v1/login",
         "Android 14 (Stock Android)",
         "Google Pixel 8 Pro",
         "2.0.3",
         "USER_NOT_FOUND",
         "1730473740000.0",
         "2024-11-01"
        ],
        [
         "f086fb3b1889381ed0d0f20434becc4507a11843b3ad6942965641a75b65e238",
         "bc7364922508442fe786fc5b0a738ffbe2f7a0e46505b52f5fbe2b13eb9b19c4",
         "OI",
         "103.86.182.48",
         "-11.148063158583602",
         "-61.24609214820808",
         "dff43b9abe6f3f22e6029a72b50d327da040f26cf813b22b569dde8fd7b89775",
         "030bcf13130ff3c361fb17c6b8a53732172c8f6723b786543917d28a48fae7e8",
         "true",
         "login-authentication",
         "v1/login",
         "iOS 17",
         "iPhone XS",
         "2.0.3",
         "USER_NOT_FOUND",
         "1730552824000.0",
         "2024-11-02"
        ],
        [
         "710de16dcca729db7d2e23c8238b3b3faacfcd149f0d1bcdab1ac4bbff875ea3",
         "3b947aee106b1957d3c8549f6baa8056146d3faa1eea848ef25642c4b7a164e4",
         "TIM",
         "211.138.33.195",
         "-10.818563420158418",
         "-61.52152014661998",
         "cbb13f4916fd0eab2d87c859d4173c484165da6393cf91f69c14cd4bf7ee633b",
         "8b5761ec6ad9e3d38977bc54905174372eb6cd56f7e38f81fedc20635a783f58",
         "true",
         "login-authentication",
         "v1/login",
         "Android 13 (Funtouch OS 13)",
         "Vivo X90 Pro",
         "2.0.3",
         "0",
         "1730462365000.0",
         "2024-11-01"
        ],
        [
         "448f8439c7bc9e297f408f7470ca34b0e29dedfd60572765a7be7985bf895274",
         "b60202c13738dc487227421a6657a46d3ce6ce834187db8787596a0c84a62303",
         "TIM",
         "106.197.228.139",
         "-3.708043592274844",
         "-40.37824528473357",
         "bfbe2e4a3390e79756b5570aac50504071bbaa8693f4c483681c456128395c38",
         "3321da6469b39ab0c11326b4fa689d34603f9ad48ac86f0ce65551b587b15f75",
         "true",
         "login-authentication",
         "v1/login",
         "iOS 17",
         "iPhone SE 1ª Geração (2016)",
         "2.0.2",
         "0",
         "1730486770000.0",
         "2024-11-01"
        ],
        [
         "1ba0684e745c9295a80f33b4e3b73192393b26188a13e6811bb8c8d6c899035b",
         "a7972a74e81dd71a5464830201c15fd5559ef80e89d1e15367af55d0b435a176",
         "VIVO",
         "153.179.47.115",
         "-23.5166184274317",
         "-45.53923989731569",
         "7b179e96af8ea70851f0c6cc9887005f42a856133703ffc8bbe7e590236d32f2",
         "ca7d96be2393c29b3e987897032bcaeb2f027b996cb44f2bcdb6a82db23780d7",
         "true",
         "login-authentication",
         "v1/login",
         "iOS 17",
         "iPhone 14 Plus",
         "2.0.3",
         "0",
         "1730508912000.0",
         "2024-11-02"
        ],
        [
         "41c79c53f5b45f6484f77c6023441bd57129198e9ca25cf020a9172de8fa2293",
         "08335b057e9d5420b52b6e39661103527c283486c315d457232062a24b02b12f",
         "CLARO",
         "161.94.143.32",
         "-0.5458416493490932",
         "-51.587438679229024",
         "ca4c3361fbcb8cbf599799e2b75ed3798eead58172b8a2e750b0ee40d8241b2a",
         "aa449c6db3fce97904a91e64c1ff16e13d93c1a69dccf462131bc2da7e0f661f",
         "false",
         "login-authentication",
         "v1/login",
         "Android 13 (MIUI 14)",
         "Xiaomi 13",
         "2.0.1",
         "0",
         "1730435286000.0",
         "2024-11-01"
        ],
        [
         "6c713c999d615284ab889534e51d97389e292b9a387d3a4b1e404673975827b8",
         "14aaf95fcaba2748c836ae8cd153669ac3749afe9ca6e1c4f268da798105a709",
         "OI",
         "156.128.246.6",
         "-12.679714074681165",
         "-37.966658753025015",
         "db65622b6ddc1cba40890b5311b79895b234abeef1437e2236aab28487f2179b",
         "e8afb350cff470e2faeacbf8ccbaf0d6cf99943b687059b8b0421261e1edede3",
         "true",
         "login-authentication",
         "v1/login",
         "Android 13 (ColorOS 13.1)",
         "OPPO Reno 10 Pro+",
         "2.0.3",
         "0",
         "1730472076000.0",
         "2024-11-01"
        ],
        [
         "d704c8d5cab4259f0fd757be8afb04b10c77a2d771a3d2cb4e663166d0a4ac24",
         "f8faf721045d1a164cc936cbbbbb79b1f9aa1150c795c2ed8b34cd768c5fcba1",
         "VIVO",
         "7.220.152.107",
         "-6.763317198016507",
         "-39.03878063669815",
         "65d5512e028fb443efb92f6b2c78a70240ae914f70b518d31d1e5eb57bb3ffe8",
         "f99060b163de07537a315b26abfc9c89829bdbe393292e4b0987926022f815b8",
         "true",
         "login-authentication",
         "v1/login",
         "Android 14 (Stock Android)",
         "Google Pixel 8",
         "2.0.2",
         "0",
         "1730480813000.0",
         "2024-11-01"
        ],
        [
         "85ac230b0d190e7796c203d50bc5049f85947c6772b73f6f6fdaca001ae1f72a",
         "1f46f139cbb669d7ec8c3887c928a826be728519b05a010194b881eafd40fc65",
         "TIM",
         "159.236.165.164",
         "-5.544499589671969",
         "-37.01667702903112",
         "dd1e1fe02e49b7dd61fafa87532e914188755bc3562bb785c81c652d9f26bfe0",
         "b920ff4922c5351a040d9c45e087cde9ee5fb372840e15a4977d76729c323967",
         "true",
         "login-authentication",
         "v1/login",
         "Android 13 (MIUI 14)",
         "Poco X5 Pro",
         "2.0.3",
         "0",
         "1730545770000.0",
         "2024-11-02"
        ],
        [
         "db1358d669dd0f1d011a8b0e6bbd63b20c982bd040972e4ade5ca8a6995a1fa4",
         "527bb1140f5b5c8c7cbc4aa2e005b4764f664275d749178ee259c57c72e3efc4",
         "TIM",
         "185.224.31.64",
         "-8.084510923140154",
         "-71.05584141976897",
         "43a70510de2d26df34f3ca6a205f9e83eb391c464d348ebd6ce6723710c44752",
         "9275a48d007455dfb05e33e750084280675cc0e8847f843342a1e3a3c93c7a93",
         "true",
         "login-authentication",
         "v1/login",
         "iOS 17",
         "iPhone XS",
         "2.0.3",
         "0",
         "1730561366000.0",
         "2024-11-02"
        ],
        [
         "aab1928c6d7cc12e5e2bd9473b4ef4834e45aa11f421aaf0da18740e51092a84",
         "0b0596390f1a89c042a67dbedeb02e24618023efeb13fba3a5accc7dc1144133",
         "OI",
         "40.183.161.122",
         "-22.50008153900569",
         "-47.04242096774821",
         "394050e4db12baad81e7bbadeec5981175781cd2b2da4bf96e65ab70a9d593a0",
         "5bd39fb207597b2bf8ddac529b9001f8556bb1677aa0f5b1ca3cd0b2fa84cf9b",
         "false",
         "login-authentication",
         "v1/login",
         "Android 12 (XOS 12)",
         "Infinix Zero Ultra",
         "2.0.3",
         "0",
         "1730428643000.0",
         "2024-11-01"
        ],
        [
         "d8cb74b95d3bb4bab83cead08092d6688df63b70703e923be38e8803efd527cc",
         "b185f442a9736560b273f6d0fc820d3ecd6c11dce8f1d311d6ab586d8b6e37b1",
         "TIM",
         "147.191.3.173",
         "-5.117248201492188",
         "-42.9069958137918",
         "9af70db30b1ee66574a6e8b4ef84ddb2f81613f6f7988e61e4ed80f7c993a834",
         "7f5397094fef34f4bd3b212bf0a1c3f26ba4d8fc2e4d898d558fdd63846c990b",
         "true",
         "login-authentication",
         "v1/login",
         "Android 13 (MIUI 14)",
         "Xiaomi 13 Lite",
         "2.0.2",
         "0",
         "1730540632000.0",
         "2024-11-02"
        ],
        [
         "99758c591ead15fc3064f4ae97be98c77037e820111619630f054b9f7993d98e",
         "accf5edab383c6085157235e57873cfb4d44df88bc0ac7454bfa38fb713518a1",
         "CLARO",
         "195.221.183.66",
         "-16.268155702031255",
         "-47.68730948993053",
         "e73d0d3723b1473651f331bc28162b628f6487833ecae401ecbf3971227fc228",
         "999c33e64af76f11283fa0da68f361f2dbf23fed928452c58738afcd20b95e57",
         "true",
         "login-authentication",
         "v1/login",
         "Android 13 (MagicOS 7.1)",
         "Honor Magic 5 Pro",
         "2.0.3",
         "0",
         "1730545582000.0",
         "2024-11-02"
        ],
        [
         "f807f57a8401acfa15da99ab4cb0a5d6a32e2fe1ee36a959e0709a63e15ee2a1",
         "1c2fbbb4f8304de66fa47b824688b118091b62763dbc1d3b611dedc0b8f578c7",
         "VIVO",
         "193.221.136.247",
         "2.7787351756099303",
         "-60.75170242657341",
         "848250c3a46fcc9f6cc1ddbad6a1f249b8bb71f06ee4d442f1b9ecc9e2b23a41",
         "8790f68480e39732516c5c4310a5c0e66110f07c4769261e884df1ef7948afba",
         "true",
         "login-authentication",
         "v1/login",
         "iOS 17",
         "iPhone 13 Pro",
         "2.0.3",
         "INCORRECT_PASS",
         "1730488392000.0",
         "2024-11-01"
        ],
        [
         "04abc5990287c3baf0ef9eb63c68a8c28058a65b22d90a2e93cdc863c474d219",
         "b7c2df64ec59c73fd3bba49391dea69e42fdce7c6ba54db431609a723a28bc0e",
         "OI",
         "55.38.168.56",
         "-6.42706416805029",
         "-35.33637781486881",
         "16502fdb719418e99859cfdbd80a85c020bc7bf8425b9a91006ef9e4259beead",
         "21885f6883ac7ad02a86c58854404e16de0c11fb7dc39ae9103514544fc9d08b",
         "true",
         "login-authentication",
         "v1/login",
         "Android 13 (OxygenOS 13.1)",
         "OnePlus Nord 3",
         "2.0.3",
         "0",
         "1730553930000.0",
         "2024-11-02"
        ],
        [
         "fb1d2b661706ccd86efbb20b525574d649bc49a203b4f984d82f05b2e93f635a",
         "1e7f617b90ab866b0e0dee4fde4dbbcbd5b6e7fd2f4d824599cdf9c5ea7dd02d",
         "CLARO",
         "142.14.6.19",
         "-15.36707481327708",
         "-56.46885238160125",
         "2d2cdeba40d519daa0b0c04702b0d4390518e8da3c009536857227b24d91d41c",
         "9a5df2286878a038f76957ffc0602e5f72d91a12429e68979f3fad58aab8596d",
         "true",
         "login-authentication",
         "v1/login",
         "iOS 17",
         "iPhone 13",
         "2.0.3",
         "0",
         "1730576318000.0",
         "2024-11-02"
        ],
        [
         "899a0d5469373aeafbe67ee51cbd3ae04b3c0b19adb1c36a09991f4e98a4eabe",
         "c9a67920e629974cc33bd0031b43e32261f92cdc458037d9c1748ebe6565f720",
         "VIVO",
         "10.240.248.145",
         "-21.289557389669984",
         "-52.24681512127164",
         "ed5fc5af794ffb7e3567d8a8b2fd0b54bfd155b8063e317d3ea617006fa15c07",
         "fc1d3dc5dd217786d82694111ee527dcb6102a69507349bc6390c2ac53f90f3b",
         "true",
         "login-authentication",
         "v1/login",
         "iOS 7.1.2",
         "iPhone 4",
         "2.0.3",
         "0",
         "1730446099000.0",
         "2024-11-01"
        ],
        [
         "ec65554914495fcf766ca08c52c5447cdf5c78b581f615c7b316c1900798f802",
         "b62e3cb903771a93fd968c226e0d2f03128363310f6d2365f905b3445fe1954e",
         "CLARO",
         "92.48.162.152",
         "-0.613816927408625",
         "-48.38237973234131",
         "a143ec269b42b16c04e9518ee9f9afc5423a48eb8a056cf91afc37e852dd0b75",
         "52602a0db68074c2e97975a37daec548aac8c15ad2870a8bea4bb833140ad8c7",
         "true",
         "login-authentication",
         "v1/login",
         "Android 13 (ColorOS 13.1)",
         "OPPO Reno 10 Pro+",
         "2.0.3",
         "0",
         "1730539637000.0",
         "2024-11-02"
        ],
        [
         "dfc395de7d2fe240b014e7573a095ea64433e5f8066c0b06d129a7ff0d821611",
         "d493b210563d58ce9e2f036173be279cad63f96ba2a0206304002f7297791997",
         "OI",
         "188.162.141.150",
         "-20.222475232515755",
         "-54.7122832498946",
         "8fdc547050de7d056a78dd709f58a9f6408737f22770057577be0d4654f76278",
         "92667fed1e730307dcf33922e7249a8bc940c7f13f32baa1012fb99fa518952a",
         "true",
         "login-authentication",
         "v1/login",
         "Android 13 (MyUX)",
         "Motorola Moto G Power 2023",
         "2.0.3",
         "0",
         "1730515120000.0",
         "2024-11-02"
        ],
        [
         "567637c834af9bfea1bd37b66eafa78703e779876a0d7bc7b885e6d9b54a529a",
         "4dfde3138160c7d3e19797e60f70db117ce5357eb3a65f11ff67d3007457cad7",
         "CLARO",
         "110.160.69.43",
         "-14.102578008427685",
         "-57.29111384135449",
         "8bb946a1230c899e431270451d2754531d1bcff109f8966f7f55406c2c9349d0",
         "62735f82877b5676efd3e360c52b984884c796056e8e8772f675d0e1865ab6c7",
         "false",
         "login-authentication",
         "v1/login",
         "Android 13 (Nothing OS 2.0)",
         "Nothing Phone (2)",
         "2.0.3",
         "0",
         "1730498162000.0",
         "2024-11-01"
        ],
        [
         "ea265e6d6a5b3a0c4a2f17658cdd169c8a6ce2e47321e4d597364e7c699a3824",
         "dfa8e5749780f3954f68bb68ae23971724e390b0d64ad87912f9afbe5c3ab44d",
         "TIM",
         "22.214.112.237",
         "-8.181264568881199",
         "-35.195731715288666",
         "1cf0e9e321793a1d4ba562d5804fe84d8f00fe7a65f186d5e667d0a06f450158",
         "91d6eb8f28393c62fd9416b0aaa40735a09b0a4c7cc48dbaed53297e693e8b31",
         "true",
         "login-authentication",
         "v1/login",
         "iOS 17",
         "iPhone 13 Mini",
         "2.0.3",
         "0",
         "1730554409000.0",
         "2024-11-02"
        ],
        [
         "acceeb6febab41864e99fe3574c4b9e0e76778d5c1921ac0bde561381b71cba6",
         "1a3fd6f08b82cd8c53f866769eae32c51cde96d8d2ec32bc9924877aa517cbae",
         "TIM",
         "107.142.230.179",
         "-3.374218076700725",
         "-38.34671252626709",
         "70a8b56da318b62604eff3936af0963c435e6304645f74d66becdfe764c02e50",
         "2a662f2afd259eae10472f5ef97719ae3118d3bd1cbdf79569e37c7aa976b26d",
         "false",
         "login-authentication",
         "v1/login",
         "Android 13 (MIUI 14)",
         "Xiaomi Redmi Note 12",
         "2.0.2",
         "0",
         "1730500340000.0",
         "2024-11-01"
        ],
        [
         "db6f536e5b77f67b2247ec38d00c0ac7c7e18e97c1477fbd016b9bd3b07e9e8a",
         "7e36990c7efd03962f5e0913bf525a0912d473409a36dabc5f1bb5e3835ec995",
         "TIM",
         "204.27.239.8",
         "-20.906666835948315",
         "-51.99924902200413",
         "d3d1db3f7e8c53bf1e7be574b3d2834fccaac6564ad70c40ffda2336670c138d",
         "f05e284e296f436051368fa66af520b8915419586b875e7d1c4f7dca4d226a15",
         "false",
         "login-authentication",
         "v1/login",
         "iOS 17",
         "iPhone 15 Pro Max",
         "2.0.2",
         "INCORRECT_PASS",
         "1730568920000.0",
         "2024-11-02"
        ],
        [
         "1c11cbcaf088b3fc50308e2eb623050aeffcaa227f79f31778c4d76964ba8d8d",
         "060c2656297bc13ba12483a7fd88852603a987f740e8e9502e05c0ded10cb4cd",
         "VIVO",
         "78.112.40.163",
         "-27.040696968613595",
         "-52.72532273242792",
         "3d3736f823a3ba0305f8da47c49e844dbdc104beb5a4762a607c944ceb44e76c",
         "acaf3a57876b0072826b2ceca9074842bf380247bddf27592f2f6d10f473156a",
         "true",
         "login-authentication",
         "v1/login",
         "Android 13",
         "ZTE Nubia Z50",
         "2.0.3",
         "0",
         "1730580398000.0",
         "2024-11-02"
        ]
       ],
       "datasetInfos": [],
       "dbfsResultPath": null,
       "isJsonSchema": true,
       "metadata": {},
       "overflow": false,
       "plotOptions": {
        "customPlotOptions": {},
        "displayType": "table",
        "pivotAggregation": null,
        "pivotColumns": null,
        "xColumns": null,
        "yColumns": null
       },
       "removedWidgets": [],
       "schema": [
        {
         "metadata": "{}",
         "name": "imei",
         "type": "\"string\""
        },
        {
         "metadata": "{}",
         "name": "mac",
         "type": "\"string\""
        },
        {
         "metadata": "{}",
         "name": "network",
         "type": "\"string\""
        },
        {
         "metadata": "{}",
         "name": "client_ip",
         "type": "\"string\""
        },
        {
         "metadata": "{}",
         "name": "latitude",
         "type": "\"string\""
        },
        {
         "metadata": "{}",
         "name": "longitude",
         "type": "\"string\""
        },
        {
         "metadata": "{}",
         "name": "uid",
         "type": "\"string\""
        },
        {
         "metadata": "{}",
         "name": "password",
         "type": "\"string\""
        },
        {
         "metadata": "{}",
         "name": "transaction",
         "type": "\"string\""
        },
        {
         "metadata": "{}",
         "name": "api",
         "type": "\"string\""
        },
        {
         "metadata": "{}",
         "name": "endpoint",
         "type": "\"string\""
        },
        {
         "metadata": "{}",
         "name": "os",
         "type": "\"string\""
        },
        {
         "metadata": "{}",
         "name": "phone_brand",
         "type": "\"string\""
        },
        {
         "metadata": "{}",
         "name": "app_version",
         "type": "\"string\""
        },
        {
         "metadata": "{}",
         "name": "error",
         "type": "\"string\""
        },
        {
         "metadata": "{}",
         "name": "timestamp",
         "type": "\"string\""
        },
        {
         "metadata": "{}",
         "name": "dat_ref",
         "type": "\"string\""
        }
       ],
       "type": "table"
      }
     },
     "output_type": "display_data"
    }
   ],
   "source": [
    "df = spark.table(f\"{database_name}.{table_name}\")\n",
    "display(df)"
   ]
  }
 ],
 "metadata": {
  "application/vnd.databricks.v1+notebook": {
   "computePreferences": null,
   "dashboards": [],
   "environmentMetadata": {
    "base_environment": "",
    "environment_version": "2"
   },
   "language": "python",
   "notebookMetadata": {
    "pythonIndentUnit": 4
   },
   "notebookName": "dataStreamingLoadV2",
   "widgets": {}
  },
  "language_info": {
   "name": "python"
  }
 },
 "nbformat": 4,
 "nbformat_minor": 0
}
