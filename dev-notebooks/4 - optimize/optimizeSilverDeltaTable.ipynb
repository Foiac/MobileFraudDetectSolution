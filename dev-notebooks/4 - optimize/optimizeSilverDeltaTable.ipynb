{
 "cells": [
  {
   "cell_type": "markdown",
   "metadata": {
    "application/vnd.databricks.v1+cell": {
     "cellMetadata": {},
     "inputWidgets": {},
     "nuid": "b0115963-5ff9-4bae-976f-665ff989ae69",
     "showTitle": false,
     "title": ""
    }
   },
   "source": [
    "# Optimize and Compare `Silver Delta Table`\n",
    "Notebook de desenvolvimento responsável por otimizar arquivos parquets em delta table através de comando optimize"
   ]
  },
  {
   "cell_type": "markdown",
   "metadata": {
    "application/vnd.databricks.v1+cell": {
     "cellMetadata": {},
     "inputWidgets": {},
     "nuid": "1aae1ee8-7a58-42a1-a580-88f0c9875e23",
     "showTitle": false,
     "title": ""
    }
   },
   "source": [
    "#### Inf. Delta Table before `optimize`"
   ]
  },
  {
   "cell_type": "code",
   "execution_count": 0,
   "metadata": {
    "application/vnd.databricks.v1+cell": {
     "cellMetadata": {},
     "inputWidgets": {},
     "nuid": "b4ef11eb-4a89-4f95-8c37-3e84d98dcbd5",
     "showTitle": false,
     "title": ""
    }
   },
   "outputs": [],
   "source": [
    "schema = \"silver_mobile\"\n",
    "table = \"tab_mobil_access\"\n",
    "\n",
    "display(spark.sql(f\"DESCRIBE DETAIL {schema}.{table}\"))"
   ]
  },
  {
   "cell_type": "markdown",
   "metadata": {
    "application/vnd.databricks.v1+cell": {
     "cellMetadata": {},
     "inputWidgets": {},
     "nuid": "cf67530e-cfee-48e8-8f5f-4865de5944f8",
     "showTitle": false,
     "title": ""
    }
   },
   "source": [
    "#### Exec. command "
   ]
  },
  {
   "cell_type": "code",
   "execution_count": 0,
   "metadata": {
    "application/vnd.databricks.v1+cell": {
     "cellMetadata": {},
     "inputWidgets": {},
     "nuid": "1117a61b-4c66-4d24-8015-ae5cde5070b6",
     "showTitle": false,
     "title": ""
    }
   },
   "outputs": [],
   "source": [
    "spark.sql(f\"OPTIMIZE hive_metastore.{schema}.{table}\")"
   ]
  },
  {
   "cell_type": "markdown",
   "metadata": {
    "application/vnd.databricks.v1+cell": {
     "cellMetadata": {},
     "inputWidgets": {},
     "nuid": "e0e7a757-6731-46b8-a37f-6cbb8c3d8616",
     "showTitle": false,
     "title": ""
    }
   },
   "source": [
    "#### Inf. Delta Table after `optimize`"
   ]
  },
  {
   "cell_type": "code",
   "execution_count": 0,
   "metadata": {
    "application/vnd.databricks.v1+cell": {
     "cellMetadata": {},
     "inputWidgets": {},
     "nuid": "0e997d8b-1729-41e9-9d72-0c90d7faa6da",
     "showTitle": false,
     "title": ""
    }
   },
   "outputs": [],
   "source": [
    "display(spark.sql(f\"DESCRIBE DETAIL {schema}.{table}\"))"
   ]
  }
 ],
 "metadata": {
  "application/vnd.databricks.v1+notebook": {
   "dashboards": [],
   "environmentMetadata": {
    "base_environment": "",
    "client": "1"
   },
   "language": "python",
   "notebookMetadata": {
    "pythonIndentUnit": 4
   },
   "notebookName": "optimizeDeltaTable",
   "widgets": {}
  },
  "language_info": {
   "name": "python"
  }
 },
 "nbformat": 4,
 "nbformat_minor": 0
}
